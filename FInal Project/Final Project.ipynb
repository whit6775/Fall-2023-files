{
  "cells": [
    {
      "cell_type": "markdown",
      "metadata": {},
      "source": [
        "FiNAL PROJECT\n",
        "\n",
        "Report: My topic of selection was to create a code that factorizes a quadratic expression, explain the coefficients, and provide information about the roots using the quadratic formula. My code uses the SymPy library for symbolic mathematics to perform these calculations. To effectively use my program you first want to Execute the Code, you'll then be prompted to input an integer for the coeeficients, my code will then factorize the quadratic expression, explain the coefficients, and provide information about the roots based on the quadratic formula. \n",
        "Note: (I inputted a line of code that will not execute the code if user inputs a value that is not a coefficient.)"
      ]
    },
    {
      "cell_type": "code",
      "execution_count": 1,
      "metadata": {},
      "outputs": [
        {
          "name": "stdout",
          "output_type": "stream",
          "text": [
            "Error: Please enter valid numerical values for coefficients.\n"
          ]
        }
      ],
      "source": [
        "import sympy as sp\n",
        "\n",
        "def factor_quadratic():\n",
        "    try:\n",
        "       \n",
        "        a = float(input(\"Enter the coefficient 'a': \"))\n",
        "        b = float(input(\"Enter the coefficient 'b': \"))\n",
        "        c = float(input(\"Enter the constant term 'c': \"))\n",
        "    except ValueError:\n",
        "        print(\"Error: Please enter valid numerical values for coefficients.\")\n",
        "        return\n",
        "\n",
        "    # Create a symbolic variable\n",
        "    x = sp.symbols('x')\n",
        "\n",
        "  \n",
        "    quadratic_expr = x**2 + a*x + b\n",
        "\n",
        "    # Factor the quadratic expression\n",
        "    factored_expr = sp.factor(quadratic_expr)\n",
        "\n",
        "    # Explain the coefficients\n",
        "    print(\"\\nExplanation:\")\n",
        "    print(f\"The quadratic polynomial is: {quadratic_expr}\")\n",
        "    print(f\"a is the coefficient of x^2, b is the coefficient of x, and c is the constant term.\")\n",
        "    print(f\"You entered a = {a}, b = {b}, and c = {c}.\")\n",
        "\n",
        "    # Print the factored expression\n",
        "    print(\"\\nFactored expression:\")\n",
        "    print(f\"The factored form of the quadratic expression is: {factored_expr}\")\n",
        "\n",
        "    # Explain factoring process\n",
        "    print(\"\\nFactoring process:\")\n",
        "    print(\"To factor a quadratic expression of the form x^2 + ax + b, we look for two numbers whose sum is 'a' and product is 'b'.\")\n",
        "    print(f\"In this case, we factorized the expression into the form: (x - r1)(x - r2), where r1 and r2 are the roots.\")\n",
        "\n",
        "    print(\"\\nQuadratic formula:\")\n",
        "    print(\"Alternatively, you can find the roots using the quadratic formula:\")\n",
        "    print(\"x = (-b ± sqrt(b^2 - 4ac)) / 2a\")\n",
        "\n",
        "    # Solve the quadratic equation using the quadratic formula\n",
        "    discriminant = sp.symbols('discriminant')\n",
        "    roots_formula = (-b + sp.sqrt(discriminant)) / (2*a), (-b - sp.sqrt(discriminant)) / (2*a)\n",
        "\n",
        "    # Calculate the discriminant\n",
        "    discriminant_value = b**2 - 4*a*c\n",
        "\n",
        "    # Display the discriminant and roots\n",
        "    print(\"\\nQuadratic formula steps:\")\n",
        "    print(f\"Calculate the discriminant (Δ): Δ = b^2 - 4ac = {discriminant_value}\")\n",
        "\n",
        "    if discriminant_value > 0:\n",
        "        print(\"Since Δ > 0, the quadratic equation has two distinct real roots.\")\n",
        "        print(f\"Roots (x1, x2): {roots_formula[0]}, {roots_formula[1]}\")\n",
        "    elif discriminant_value == 0:\n",
        "        print(\"Since Δ = 0, the quadratic equation has one real root (double root).\")\n",
        "        print(f\"Root: {roots_formula[0]}\")\n",
        "    else:\n",
        "        print(\"Since Δ < 0, the quadratic equation has two complex conjugate roots.\")\n",
        "        print(f\"Roots: {roots_formula[0]}, {roots_formula[1]}\")\n",
        "\n",
        "if __name__ == \"__main__\":\n",
        "    factor_quadratic()\n"
      ]
    }
  ],
  "metadata": {
    "colab": {
      "include_colab_link": true,
      "provenance": []
    },
    "kernelspec": {
      "display_name": "Python 3",
      "name": "python3"
    },
    "language_info": {
      "codemirror_mode": {
        "name": "ipython",
        "version": 3
      },
      "file_extension": ".py",
      "mimetype": "text/x-python",
      "name": "python",
      "nbconvert_exporter": "python",
      "pygments_lexer": "ipython3",
      "version": "3.10.13"
    }
  },
  "nbformat": 4,
  "nbformat_minor": 0
}
