{
 "cells": [
  {
   "cell_type": "markdown",
   "metadata": {},
   "source": [
    "# Wednesday, September 6\n",
    "\n",
    "Today we will practice writing and using functions in python"
   ]
  },
  {
   "cell_type": "markdown",
   "metadata": {},
   "source": [
    "## Announcements and Reminders\n",
    "- Programming Assignment 1 due tonight\n",
    "- Chapter 4 Exercises due Friday night\n",
    "- Chapter 5 Reading will be due Monday\n",
    "\n",
    "## Who as the first question?"
   ]
  },
  {
   "cell_type": "markdown",
   "metadata": {},
   "source": [
    "# Activity: The `return` of functions\n",
    "\n",
    "We can classify functions in python (or any programming language) into two types: functions that just do something, and functions that *return* something.  The goal of this activity is to better understand these return-type functions.\n",
    "\n",
    "(These returning functions are much closer to how we think of functions in mathematics, although the functions in programming can do more: they can do things before they return a value.)\n",
    "\n",
    "### Warmup\n",
    "For each function defined below, look at the code and try to guess what the function does.  Then try them out by calling the functions (and printing their output)."
   ]
  },
  {
   "cell_type": "code",
   "execution_count": null,
   "metadata": {},
   "outputs": [],
   "source": [
    "def gnate(input):\n",
    "  output = input+5 % 3\n",
    "  return output\n"
   ]
  },
  {
   "cell_type": "code",
   "execution_count": null,
   "metadata": {},
   "outputs": [],
   "source": [
    "def gnina(x):\n",
    "  x = x+7\n",
    "  y = x\n",
    "  x = 3*y\n",
    "  y = x - 2*y\n",
    "  return x"
   ]
  },
  {
   "cell_type": "code",
   "execution_count": null,
   "metadata": {},
   "outputs": [],
   "source": [
    "def gnatasha(output):\n",
    "  input = output*3\n",
    "  return input"
   ]
  },
  {
   "cell_type": "markdown",
   "metadata": {},
   "source": [
    "### Variables and functions\n",
    "\n",
    "Examine the code below and then execute it. Pay attention to the values of the variables.  What can you conclude about how python works?"
   ]
  },
  {
   "cell_type": "code",
   "execution_count": null,
   "metadata": {},
   "outputs": [],
   "source": [
    "a = 5\n",
    "b = 10\n",
    "def gnick(a, n):\n",
    "  return a + b + n\n",
    "\n",
    "def gnikolai(x, y):\n",
    "  x = x + 3\n",
    "  y = y*2\n",
    "  z = x + y\n",
    "  return z\n",
    "\n",
    "def gnorman(z):\n",
    "  x = 1\n",
    "  y = z+1\n",
    "  a = gnikolai(x,y)\n",
    "  b = gnikolai(y,z)\n",
    "  return a+b\n",
    "\n",
    "n = 7\n",
    "print(gnick(3,4))\n",
    "print(gnick(n,a))\n",
    "print(gnikolai(5,10))\n",
    "print(gnorman(a))\n",
    "print(gnorman(a))"
   ]
  },
  {
   "cell_type": "markdown",
   "metadata": {},
   "source": [
    "### Composition\n",
    "\n",
    "Functions get really powerful is when you combine them.  In the last example, the `gnorman` function called on the `gnikolai` function (twice) as part of its execution.  \n",
    "\n",
    "Stacking functions like this can also happen when you call them. We have already seen this with our favorite `int(input(\"prompt\"))`.  \n",
    "\n",
    "Try writing two functions: one equivalent to the function $f(x) = x+7$ and another equivalent to $g(x) = x^2$.  See what happens when you call $f(g(x))$ and $g(f(x))$."
   ]
  },
  {
   "cell_type": "code",
   "execution_count": null,
   "metadata": {},
   "outputs": [],
   "source": []
  },
  {
   "cell_type": "markdown",
   "metadata": {},
   "source": [
    "How do your results compare to the following functions? (For these to work, you need to define `f` and `g` correctly above.)"
   ]
  },
  {
   "cell_type": "code",
   "execution_count": null,
   "metadata": {},
   "outputs": [],
   "source": [
    "def fg(x):\n",
    "  x = g(x)\n",
    "  x = f(x)\n",
    "  return x\n",
    "\n",
    "def gf(x):\n",
    "  x = f(x)\n",
    "  x = g(x)\n",
    "  return x"
   ]
  },
  {
   "cell_type": "markdown",
   "metadata": {},
   "source": [
    "### Self reference\n",
    "\n",
    "We have seen that functions can call other functions.  Can functions call themselves?  What would happen if you tried to execute the following code? (Run at your own risk)"
   ]
  },
  {
   "cell_type": "code",
   "execution_count": null,
   "metadata": {},
   "outputs": [],
   "source": [
    "def gnoel(n):\n",
    "  return n + gnoel(n-1)"
   ]
  },
  {
   "cell_type": "markdown",
   "metadata": {},
   "source": [
    "Can you improve the code above so it isn't \"broken\"?  What if we add an `if/else` condition?"
   ]
  }
 ],
 "metadata": {
  "language_info": {
   "name": "python"
  },
  "orig_nbformat": 4
 },
 "nbformat": 4,
 "nbformat_minor": 2
}
