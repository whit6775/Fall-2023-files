{
  "cells": [
    {
      "cell_type": "markdown",
      "metadata": {},
      "source": [
        "# Wednesday, October 25\n",
        "\n",
        "## Announcements and Reminders\n",
        "\n",
        "- Chapter 10 reading: Fixed?\n",
        "- Celebration of Mind: TONIGHT!!!\n",
        "- Exercises for Chapter 10: due Friday\n",
        "- Read Chapter 11 (due Monday)\n"
      ]
    },
    {
      "cell_type": "markdown",
      "metadata": {},
      "source": [
        "## Activity: Data Wrangling with Dictionaries\n",
        "\n",
        "Today we will continue to explore the `dictionary` type in python and see how we can use it to create a large database.\n",
        "\n",
        "But first..."
      ]
    },
    {
      "cell_type": "markdown",
      "metadata": {},
      "source": [
        "### Wrapping Up *The Raven*\n",
        "\n",
        "Last time we saw how to use a dictionary to count the occurrences of each word in a string.  Here is what we ended with (this is slightly cleaned up from what we actually did)."
      ]
    },
    {
      "cell_type": "code",
      "execution_count": null,
      "metadata": {},
      "outputs": [],
      "source": [
        "import string\n",
        "\n",
        "# Import text as string\n",
        "with open(\"raven.txt\", \"r\") as f:\n",
        "  contents = f.read()\n",
        "\n",
        "# clean up string: everything lower case; remove punctuation\n",
        "contents = contents.lower()\n",
        "for mark in string.punctuation:\n",
        "  contents = contents.replace(mark,\"\")\n",
        "\n",
        "# Convert string to a list of words\n",
        "word_list = contents.split()\n",
        "\n",
        "# Create a dictionary accumulating the counts of each word.\n",
        "word_counts = {}\n",
        "for word in word_list:\n",
        "  if word in word_counts:\n",
        "    word_counts[word] += 1\n",
        "  else:\n",
        "    word_counts[word] = 1\n",
        "\n"
      ]
    },
    {
      "cell_type": "markdown",
      "metadata": {},
      "source": [
        "We can create the dictionary using some simpler code if we use the `.get()` method."
      ]
    },
    {
      "cell_type": "code",
      "execution_count": null,
      "metadata": {},
      "outputs": [],
      "source": []
    },
    {
      "cell_type": "markdown",
      "metadata": {},
      "source": [
        "If we want to find the item in the dictionary with the largest value, we have a few options:\n",
        "1. Look through each key and keep track of the largest value\n",
        "2. Create a list of key-value pairs and then sort them by the second component\n",
        "3. Create a list of value-key pairs and sort them normally."
      ]
    },
    {
      "cell_type": "code",
      "execution_count": null,
      "metadata": {},
      "outputs": [],
      "source": []
    },
    {
      "cell_type": "markdown",
      "metadata": {},
      "source": [
        "### Creating a Movie Database\n",
        "\n",
        "It's movie night.  You want to find a horrible scary movie about computer science to watch with your Mom.  What do you do???\n",
        "\n",
        "#### Getting some data\n",
        "\n",
        "Inside this week's folder you will find a `.csv` file called `imdb.csv`.  \n",
        "\n",
        "Then you should be able to load the csv file with the code below.  We will use the `csv` library to help parse the file."
      ]
    },
    {
      "cell_type": "code",
      "execution_count": null,
      "metadata": {},
      "outputs": [],
      "source": [
        "import csv\n",
        "\n",
        "# Open the file\n",
        "with open('imdb.csv', 'r') as f:\n",
        "  # Use the csv library to read the data\n",
        "  data = csv.reader(f)\n",
        "  print(data)\n"
      ]
    },
    {
      "cell_type": "markdown",
      "metadata": {},
      "source": [
        "Note that we get a `_csv.reader` object.  Each item in this iterable object is a list containing the elements in a given row of the csv file.  We can print each list one at a time, or just convert the entire data to a list of lists.\n",
        "\n",
        "We need to do that inside the `with` context; the csv.reader object continues to read from the file, so it needs to stay open.\n",
        "\n",
        "Now we can manipulate the movie database using lists.  Explore this below.  Find movie you might want to watch.\n"
      ]
    },
    {
      "cell_type": "code",
      "execution_count": null,
      "metadata": {},
      "outputs": [],
      "source": []
    },
    {
      "cell_type": "markdown",
      "metadata": {},
      "source": [
        "#### Creating a dictionary\n",
        "\n",
        "We should create a dictionary to hold our data, so it is easier to work with.  Pick a single movie (a single list from the list of lists) and create a dictionary for it."
      ]
    },
    {
      "cell_type": "code",
      "execution_count": null,
      "metadata": {},
      "outputs": [],
      "source": []
    },
    {
      "cell_type": "markdown",
      "metadata": {},
      "source": [
        "Actually, why don't we just do that for all the movies.  Make a list of dictionaries, where each dictionary represents a single movie."
      ]
    },
    {
      "cell_type": "code",
      "execution_count": null,
      "metadata": {},
      "outputs": [],
      "source": []
    }
  ],
  "metadata": {
    "colab": {
      "include_colab_link": true,
      "provenance": []
    },
    "kernelspec": {
      "display_name": "Python 3",
      "name": "python3"
    },
    "language_info": {
      "codemirror_mode": {
        "name": "ipython",
        "version": 3
      },
      "file_extension": ".py",
      "mimetype": "text/x-python",
      "name": "python",
      "nbconvert_exporter": "python",
      "pygments_lexer": "ipython3",
      "version": "3.10.8"
    }
  },
  "nbformat": 4,
  "nbformat_minor": 0
}
