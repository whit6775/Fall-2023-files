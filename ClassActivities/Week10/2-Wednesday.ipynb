{
  "cells": [
    {
      "cell_type": "markdown",
      "metadata": {},
      "source": [
        "# Wednesday, October 25\n",
        "\n",
        "## Announcements and Reminders\n",
        "\n",
        "- Chapter 10 reading: Fixed?\n",
        "- Celebration of Mind: TONIGHT!!!\n",
        "- Exercises for Chapter 10: due Friday\n",
        "- Read Chapter 11 (due Monday)\n"
      ]
    },
    {
      "cell_type": "markdown",
      "metadata": {},
      "source": [
        "## Activity: Data Wrangling with Dictionaries\n",
        "\n",
        "Today we will continue to explore the `dictionary` type in python and see how we can use it to create a large database.\n",
        "\n",
        "But first..."
      ]
    },
    {
      "cell_type": "markdown",
      "metadata": {},
      "source": [
        "### Wrapping Up *The Raven*\n",
        "\n",
        "Last time we saw how to use a dictionary to count the occurrences of each word in a string.  Here is what we ended with (this is slightly cleaned up from what we actually did)."
      ]
    },
    {
      "cell_type": "code",
      "execution_count": 15,
      "metadata": {},
      "outputs": [
        {
          "name": "stdout",
          "output_type": "stream",
          "text": [
            "{'the': 59, 'raven': 11, 'edgar': 1, 'allen': 1, 'poe': 1, 'once': 1, 'upon': 5, 'a': 15, 'midnight': 1, 'dreary': 1, 'while': 2, 'i': 32, 'pondered': 1, 'weak': 1, 'and': 40, 'weary': 1, 'over': 1, 'many': 2, 'quaint': 1, 'curious': 1, 'volume': 1, 'of': 23, 'forgotten': 1, 'lore': 1, 'nodded': 1, 'nearly': 1, 'napping': 2, 'suddenly': 1, 'there': 7, 'came': 3, 'tapping': 5, 'as': 5, 'someone': 1, 'gently': 2, 'rapping': 3, 'on': 10, 'my': 25, 'chamber': 12, 'door': 14, 'tis': 3, 'some': 5, 'visitor': 3, 'muttered': 2, 'only': 4, 'this': 17, 'nothing': 7, 'more': 9, 'ah': 2, 'distinctly': 1, 'remember': 1, 'it': 5, 'was': 6, 'in': 7, 'bleak': 1, 'december': 1, 'each': 2, 'separate': 1, 'dying': 1, 'ember': 1, 'wrought': 1, 'its': 3, 'ghost': 1, 'floor': 4, 'eagerly': 1, 'wished': 1, 'morrow': 2, 'vainly': 1, 'had': 1, 'sought': 1, 'to': 6, 'borrow': 1, 'from': 8, 'books': 1, 'surcease': 1, 'sorrowsorrow': 1, 'for': 3, 'lost': 2, 'lenore': 8, 'rare': 2, 'radiant': 2, 'maiden': 3, 'whom': 4, 'angels': 4, 'named': 1, 'nameless': 1, 'here': 3, 'forever': 1, 'silken': 1, 'sad': 3, 'uncertainly': 1, 'rustling': 1, 'purple': 1, 'curtain': 1, 'thrilled': 1, 'me': 9, 'filled': 1, 'with': 8, 'fantastic': 1, 'terror': 1, 'never': 2, 'felt': 1, 'before': 5, 'so': 5, 'still': 7, 'beating': 1, 'heart': 3, 'stood': 2, 'repeating': 1, 'entreating': 2, 'entrance': 2, 'at': 6, 'late': 1, 'is': 11, 'presently': 1, 'soul': 6, 'grew': 2, 'strong': 1, 'hesitating': 1, 'then': 7, 'no': 7, 'longer': 1, 'sir': 1, 'said': 7, 'or': 8, 'madam': 1, 'truly': 2, 'your': 1, 'forgiveness': 1, 'implore': 3, 'but': 8, 'fact': 1, 'you': 3, 'faintly': 1, 'that': 11, 'scare': 1, 'sure': 2, 'heard': 2, 'opened': 1, 'wide': 2, 'darkness': 2, 'deep': 1, 'into': 7, 'peering': 1, 'long': 1, 'wondering': 1, 'fearing': 1, 'doubting': 1, 'dreaming': 2, 'dreams': 1, 'mortal': 1, 'ever': 2, 'dared': 1, 'dream': 1, 'silence': 1, 'unbroken': 2, 'stillness': 2, 'gave': 1, 'token': 2, 'word': 5, 'spoken': 3, 'whispered': 2, 'an': 2, 'echo': 1, 'murmered': 1, 'back': 4, 'merely': 1, 'turning': 1, 'all': 3, 'within': 2, 'burning': 1, 'soon': 1, 'again': 1, 'somewhat': 1, 'louder': 1, 'than': 2, 'surely': 2, 'something': 1, 'window': 1, 'lattice': 1, 'let': 2, 'see': 1, 'what': 5, 'thereat': 1, 'mystery': 2, 'explore': 2, 'be': 4, 'minute': 2, 'wind': 1, 'open': 1, 'flung': 1, 'shutter': 1, 'when': 1, 'flirt': 1, 'flutter': 1, 'stepped': 1, 'stately': 1, 'saintly': 2, 'days': 1, 'yore': 3, 'not': 3, 'least': 1, 'obesience': 1, 'made': 1, 'he': 7, 'stopped': 1, 'stayed': 1, 'mein': 1, 'lord': 1, 'lady': 1, 'perched': 3, 'above': 6, 'bust': 6, 'pallas': 2, 'just': 2, 'sat': 3, 'ebony': 1, 'bird': 10, 'beguiling': 2, 'fancy': 4, 'smiling': 2, 'by': 6, 'grave': 1, 'stern': 1, 'decorum': 1, 'countenance': 1, 'wore': 1, 'though': 2, 'thy': 6, 'crest': 1, 'shorn': 1, 'shaven': 1, 'thou': 1, 'art': 1, 'craven': 1, 'ghastly': 2, 'grim': 2, 'ancient': 1, 'wandering': 1, 'nightly': 1, 'shore': 4, 'tell': 5, 'lordly': 1, 'name': 4, 'nights': 3, 'plutonean': 3, 'quoth': 5, 'nevermore': 9, 'much': 1, 'marvelled': 1, 'ungainly': 2, 'foul': 1, 'hear': 1, 'discource': 1, 'plainly': 1, 'answer': 1, 'little': 2, 'meaning': 1, 'relevancy': 1, 'bore': 3, 'we': 1, 'cannot': 1, 'help': 1, 'agreeing': 1, 'living': 1, 'human': 1, 'being': 1, 'yet': 1, 'blessed': 1, 'seeing': 1, 'his': 7, 'beast': 1, 'scultured': 1, 'such': 1, 'sitting': 3, 'lonely': 1, 'placid': 1, 'spoke': 1, 'one': 2, 'if': 4, 'did': 1, 'out': 3, 'outpour': 1, 'further': 1, 'uttered': 1, 'feather': 1, 'fluttered': 1, 'till': 2, 'scarcely': 1, 'other': 1, 'friends': 1, 'have': 3, 'flown': 2, 'will': 2, 'leave': 3, 'hopes': 2, 'startled': 1, 'broken': 1, 'reply': 1, 'aptly': 1, 'doubtless': 1, 'utters': 1, 'stock': 1, 'store': 1, 'caught': 1, 'unhappy': 1, 'master': 1, 'unmerciful': 1, 'disaster': 1, 'followed': 2, 'fast': 1, 'faster': 1, 'song': 1, 'burden': 2, 'til': 1, 'dirges': 1, 'melenchology': 1, 'nevernevermore': 1, 'straight': 1, 'wheeled': 1, 'cushioned': 1, 'seet': 1, 'front': 1, 'velvet': 3, 'sinking': 1, 'betook': 1, 'myself': 1, 'linking': 1, 'unto': 1, 'thinking': 1, 'ominous': 2, 'gaunt': 1, 'meant': 1, 'croaking': 1, 'engaged': 1, 'guessing': 1, 'syllable': 1, 'expressing': 1, 'fowl': 1, 'whose': 3, 'fiery': 1, 'eyes': 2, 'now': 1, 'burned': 1, 'bosoms': 1, 'core': 1, 'divining': 1, 'head': 1, 'rest': 1, 'reclining': 1, 'cushions': 1, 'lining': 2, 'lamplight': 3, 'gloated': 1, 'oer': 3, 'violet': 1, 'gloating': 1, 'she': 1, 'shall': 2, 'press': 1, 'methought': 1, 'air': 1, 'denser': 1, 'perfumed': 1, 'unseen': 1, 'censor': 1, 'swung': 1, 'seraphim': 1, 'footfalls': 1, 'tinkled': 1, 'tufted': 1, 'wretch': 1, 'cried': 1, 'god': 1, 'hath': 2, 'lent': 1, 'thee': 5, 'these': 1, 'sent': 2, 'respite': 2, 'nepenthe': 2, 'memories': 1, 'quaff': 2, 'oh': 1, 'kind': 1, 'forget': 1, 'prophet': 4, 'thing': 2, 'evil': 2, 'devil': 2, 'whether': 1, 'temptor': 1, 'tempest': 3, 'tossed': 1, 'ashore': 1, 'desolate': 1, 'undaunted': 1, 'desert': 1, 'land': 1, 'enchanted': 1, 'home': 1, 'horrors': 1, 'haunted': 1, 'balm': 1, 'gilead': 1, 'get': 2, 'sorrow': 1, 'laden': 1, 'distant': 1, 'aidenn': 1, 'clasp': 2, 'our': 1, 'sign': 1, 'parting': 1, 'fiend': 1, 'shieked': 1, 'upstarting': 1, 'black': 1, 'plume': 1, 'lie': 1, 'has': 1, 'loneliness': 1, 'quit': 1, 'take': 2, 'beak': 1, 'form': 1, 'off': 1, 'flitting': 1, 'pallid': 1, 'seeming': 1, 'daemons': 1, 'him': 1, 'streaming': 1, 'throws': 1, 'shadow': 2, 'floating': 1, 'liftednevermore': 1}\n"
          ]
        }
      ],
      "source": [
        "import string\n",
        "\n",
        "# Import text as string\n",
        "with open(\"raven.txt\", \"r\") as f:\n",
        "  contents = f.read()\n",
        "\n",
        "# clean up string: everything lower case; remove punctuation\n",
        "contents = contents.lower()\n",
        "for mark in string.punctuation:\n",
        "  contents = contents.replace(mark,\"\")\n",
        "\n",
        "# Convert string to a list of words\n",
        "word_list = contents.split()\n",
        "\n",
        "# Create a dictionary accumulating the counts of each word.\n",
        "word_counts = {}\n",
        "for word in word_list:\n",
        "  if word in word_counts:\n",
        "    word_counts[word] += 1\n",
        "  else:\n",
        "    word_counts[word] = 1\n",
        "\n",
        "print(word_counts)\n"
      ]
    },
    {
      "cell_type": "markdown",
      "metadata": {},
      "source": [
        "We can create the dictionary using some simpler code if we use the `.get()` method."
      ]
    },
    {
      "cell_type": "code",
      "execution_count": 16,
      "metadata": {},
      "outputs": [
        {
          "ename": "AttributeError",
          "evalue": "'tuple' object has no attribute 'get'",
          "output_type": "error",
          "traceback": [
            "\u001b[0;31m---------------------------------------------------------------------------\u001b[0m",
            "\u001b[0;31mAttributeError\u001b[0m                            Traceback (most recent call last)",
            "\u001b[1;32m/workspaces/Fall-2023-files/ClassActivities/Week10/2-Wednesday.ipynb Cell 6\u001b[0m line \u001b[0;36m4\n\u001b[1;32m      <a href='vscode-notebook-cell://codespaces%2Bsymmetrical-umbrella-g4q64554vrgwhwqgx/workspaces/Fall-2023-files/ClassActivities/Week10/2-Wednesday.ipynb#W5sdnNjb2RlLXJlbW90ZQ%3D%3D?line=0'>1</a>\u001b[0m word_counts \u001b[39m=\u001b[39m ()\n\u001b[1;32m      <a href='vscode-notebook-cell://codespaces%2Bsymmetrical-umbrella-g4q64554vrgwhwqgx/workspaces/Fall-2023-files/ClassActivities/Week10/2-Wednesday.ipynb#W5sdnNjb2RlLXJlbW90ZQ%3D%3D?line=2'>3</a>\u001b[0m \u001b[39mfor\u001b[39;00m word \u001b[39min\u001b[39;00m word_list:\n\u001b[0;32m----> <a href='vscode-notebook-cell://codespaces%2Bsymmetrical-umbrella-g4q64554vrgwhwqgx/workspaces/Fall-2023-files/ClassActivities/Week10/2-Wednesday.ipynb#W5sdnNjb2RlLXJlbW90ZQ%3D%3D?line=3'>4</a>\u001b[0m     word_counts[word] \u001b[39m=\u001b[39m word_counts\u001b[39m.\u001b[39;49mget(word,\u001b[39m0\u001b[39m)\u001b[39m+\u001b[39m\u001b[39m1\u001b[39m\n\u001b[1;32m      <a href='vscode-notebook-cell://codespaces%2Bsymmetrical-umbrella-g4q64554vrgwhwqgx/workspaces/Fall-2023-files/ClassActivities/Week10/2-Wednesday.ipynb#W5sdnNjb2RlLXJlbW90ZQ%3D%3D?line=4'>5</a>\u001b[0m \u001b[39mprint\u001b[39m(word_counts)\n",
            "\u001b[0;31mAttributeError\u001b[0m: 'tuple' object has no attribute 'get'"
          ]
        }
      ],
      "source": [
        "word_counts = ()\n",
        "\n",
        "for word in word_list:\n",
        "    word_counts[word] = word_counts.get(word,0)+1\n",
        "print(word_counts)"
      ]
    },
    {
      "cell_type": "markdown",
      "metadata": {},
      "source": [
        "If we want to find the item in the dictionary with the largest value, we have a few options:\n",
        "1. Look through each key and keep track of the largest value\n",
        "2. Create a list of key-value pairs and then sort them by the second component\n",
        "3. Create a list of value-key pairs and sort them normally."
      ]
    },
    {
      "cell_type": "code",
      "execution_count": 24,
      "metadata": {},
      "outputs": [
        {
          "name": "stdout",
          "output_type": "stream",
          "text": [
            "0\n"
          ]
        }
      ],
      "source": [
        "max = 0\n",
        "\n",
        "for word in word_counts:\n",
        "    if max > word_counts[word]:\n",
        "        max = word_counts[word]\n",
        "\n",
        "print(max)"
      ]
    },
    {
      "cell_type": "markdown",
      "metadata": {},
      "source": [
        "### Creating a Movie Database\n",
        "\n",
        "It's movie night.  You want to find a horrible scary movie about computer science to watch with your Mom.  What do you do???\n",
        "\n",
        "#### Getting some data\n",
        "\n",
        "Inside this week's folder you will find a `.csv` file called `imdb.csv`.  \n",
        "\n",
        "Then you should be able to load the csv file with the code below.  We will use the `csv` library to help parse the file."
      ]
    },
    {
      "cell_type": "code",
      "execution_count": 32,
      "metadata": {},
      "outputs": [
        {
          "ename": "SyntaxError",
          "evalue": "invalid syntax. Perhaps you forgot a comma? (3892217363.py, line 6)",
          "output_type": "error",
          "traceback": [
            "\u001b[0;36m  Cell \u001b[0;32mIn[32], line 6\u001b[0;36m\u001b[0m\n\u001b[0;31m    data = list(csv.reader{f})\u001b[0m\n\u001b[0m                ^\u001b[0m\n\u001b[0;31mSyntaxError\u001b[0m\u001b[0;31m:\u001b[0m invalid syntax. Perhaps you forgot a comma?\n"
          ]
        }
      ],
      "source": [
        "import csv\n",
        "\n",
        "# Open the file\n",
        "with open('imdb.csv', 'r') as f:\n",
        "  # Use the csv library to read the data\n",
        "  data = list(csv.reader{f})\n",
        "\n",
        "  print(data{2451})\n"
      ]
    },
    {
      "cell_type": "markdown",
      "metadata": {},
      "source": [
        "Note that we get a `_csv.reader` object.  Each item in this iterable object is a list containing the elements in a given row of the csv file.  We can print each list one at a time, or just convert the entire data to a list of lists.\n",
        "\n",
        "We need to do that inside the `with` context; the csv.reader object continues to read from the file, so it needs to stay open.\n",
        "\n",
        "Now we can manipulate the movie database using lists.  Explore this below.  Find movie you might want to watch.\n"
      ]
    },
    {
      "cell_type": "code",
      "execution_count": 33,
      "metadata": {},
      "outputs": [
        {
          "ename": "ValueError",
          "evalue": "['Title', 'Year', 'Rated', 'Released', 'Runtime', 'Genre', 'Director', 'Writer', 'Actors', 'Plot', 'Language', 'Country', 'Awards', 'Poster', 'Ratings.Source', 'Ratings.Value', 'Metascore', 'imdbRating', 'imdbVotes', 'imdbID', 'Type', 'DVD', 'BoxOffice', 'Production', 'Website', 'Response', 'tomatoURL'] is not in list",
          "output_type": "error",
          "traceback": [
            "\u001b[0;31m---------------------------------------------------------------------------\u001b[0m",
            "\u001b[0;31mValueError\u001b[0m                                Traceback (most recent call last)",
            "\u001b[1;32m/workspaces/Fall-2023-files/ClassActivities/Week10/2-Wednesday.ipynb Cell 12\u001b[0m line \u001b[0;36m3\n\u001b[1;32m      <a href='vscode-notebook-cell://codespaces%2Bsymmetrical-umbrella-g4q64554vrgwhwqgx/workspaces/Fall-2023-files/ClassActivities/Week10/2-Wednesday.ipynb#X14sdnNjb2RlLXJlbW90ZQ%3D%3D?line=0'>1</a>\u001b[0m mymovie \u001b[39m=\u001b[39m {}\n\u001b[1;32m      <a href='vscode-notebook-cell://codespaces%2Bsymmetrical-umbrella-g4q64554vrgwhwqgx/workspaces/Fall-2023-files/ClassActivities/Week10/2-Wednesday.ipynb#X14sdnNjb2RlLXJlbW90ZQ%3D%3D?line=1'>2</a>\u001b[0m \u001b[39mfor\u001b[39;00m col \u001b[39min\u001b[39;00m data:\n\u001b[0;32m----> <a href='vscode-notebook-cell://codespaces%2Bsymmetrical-umbrella-g4q64554vrgwhwqgx/workspaces/Fall-2023-files/ClassActivities/Week10/2-Wednesday.ipynb#X14sdnNjb2RlLXJlbW90ZQ%3D%3D?line=2'>3</a>\u001b[0m     mymovie[col] \u001b[39m=\u001b[39m data[\u001b[39m1546\u001b[39m][data[\u001b[39m0\u001b[39;49m]\u001b[39m.\u001b[39;49mindex(col)]\n",
            "\u001b[0;31mValueError\u001b[0m: ['Title', 'Year', 'Rated', 'Released', 'Runtime', 'Genre', 'Director', 'Writer', 'Actors', 'Plot', 'Language', 'Country', 'Awards', 'Poster', 'Ratings.Source', 'Ratings.Value', 'Metascore', 'imdbRating', 'imdbVotes', 'imdbID', 'Type', 'DVD', 'BoxOffice', 'Production', 'Website', 'Response', 'tomatoURL'] is not in list"
          ]
        }
      ],
      "source": [
        "mymovie = {}\n",
        "for col in data:\n",
        "    mymovie[col] = data[1546][data[0].index(col)]"
      ]
    },
    {
      "cell_type": "markdown",
      "metadata": {},
      "source": [
        "#### Creating a dictionary\n",
        "\n",
        "We should create a dictionary to hold our data, so it is easier to work with.  Pick a single movie (a single list from the list of lists) and create a dictionary for it."
      ]
    },
    {
      "cell_type": "code",
      "execution_count": null,
      "metadata": {},
      "outputs": [],
      "source": []
    },
    {
      "cell_type": "markdown",
      "metadata": {},
      "source": [
        "Actually, why don't we just do that for all the movies.  Make a list of dictionaries, where each dictionary represents a single movie."
      ]
    },
    {
      "cell_type": "code",
      "execution_count": null,
      "metadata": {},
      "outputs": [],
      "source": []
    }
  ],
  "metadata": {
    "colab": {
      "include_colab_link": true,
      "provenance": []
    },
    "kernelspec": {
      "display_name": "Python 3",
      "name": "python3"
    },
    "language_info": {
      "codemirror_mode": {
        "name": "ipython",
        "version": 3
      },
      "file_extension": ".py",
      "mimetype": "text/x-python",
      "name": "python",
      "nbconvert_exporter": "python",
      "pygments_lexer": "ipython3",
      "version": "3.10.8"
    }
  },
  "nbformat": 4,
  "nbformat_minor": 0
}
