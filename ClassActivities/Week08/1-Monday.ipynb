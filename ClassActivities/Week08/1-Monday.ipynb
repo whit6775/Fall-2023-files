{
  "cells": [
    {
      "cell_type": "markdown",
      "metadata": {},
      "source": [
        "# Monday, October 9\n",
        "\n",
        "## Announcements and Reminders\n",
        "- Exam 1 revisions due Friday - you must schedule a time for student hours to talk me through your solutions\n",
        "- Task 1 for the Final Project is due Monday on Canvas.\n"
      ]
    },
    {
      "cell_type": "markdown",
      "metadata": {},
      "source": [
        "## Activity: Going through iterables\n",
        "\n",
        "Last time we learned about the select and slice operators for strings (and these work for lists as well).  We also considered how to iterate through a string or list using a for loop and how python compares strings (using `==`, `<`, etc.).\n",
        "\n",
        "### Warm-up\n",
        "\n",
        "Suppose you had an excel spreadsheet or some other sort of database that contained a report of customer's favorite fruits.  For now, we won't worry about how we retrieve this data, but assume we get a string from the database of the form, \"Favorite fruits: Kiwi, Watermelon, and Kumquat.\"\n",
        "\n",
        "Our goal is to extract the fruits from the string and store them in a list.  Let's try that below."
      ]
    },
    {
      "cell_type": "code",
      "execution_count": null,
      "metadata": {},
      "outputs": [],
      "source": [
        "fruitstring = \"Favorite fruits: Kiwi, Watermelon, and Kumquat.\"\n",
        "\n",
        "def juicer(fs):\n",
        "  \"\"\"\n",
        "  Returns a list of fruits from a string of text.\n",
        "  \"\"\"\n",
        "  return "
      ]
    },
    {
      "cell_type": "markdown",
      "metadata": {},
      "source": [
        "\n",
        "### Motivating question\n",
        "\n",
        "In the scrabble dictionary, are there more short words (4 or fewer letters) or long words (15 letters)?\n",
        "\n",
        "How many 15-letter words can you play in scrabble?  These are all stored in the string `LONGWORDS`.\n",
        "\n",
        "How many 2-letter words can you play in scrabble?  We have a string of all 2-, 3-, and 4-letter words called `SHORTWORDS`.\n",
        "\n",
        "Think about how you could extract answers to these questions.  **First think about what you would do if you had to do it by hand.**"
      ]
    },
    {
      "cell_type": "code",
      "execution_count": null,
      "metadata": {},
      "outputs": [],
      "source": [
        "from wordData import LONGWORDS, SHORTWORDS\n",
        "\n",
        "print(\"Here is a list of all of the 2, 3, and 4 letter words that you can play in scrabble:\\n\")\n",
        "print(SHORTWORDS)\n",
        "print(\"\\n\")\n",
        "print(\"And here is a list of all the longest words (15 letters) you can play:\\n\")\n",
        "print(LONGWORDS)"
      ]
    },
    {
      "cell_type": "markdown",
      "metadata": {},
      "source": [
        "How can we use the tools we have learned about to automate the \"by hand\" process we identified?"
      ]
    },
    {
      "cell_type": "code",
      "execution_count": null,
      "metadata": {},
      "outputs": [],
      "source": []
    },
    {
      "cell_type": "markdown",
      "metadata": {},
      "source": [
        "### More questions\n",
        "\n",
        "Here are some other things you might try to deduce:\n",
        "\n",
        "1. If you wanted to play a 4-letter word, and had the letters `a, a, q, s, i, h, z` on your tray, what 4-letter words could you play (to start the game)?\n",
        "\n",
        "2. Which 15-letter word has the most repeated letters?  Which 15-letter word has the most unique letters?\n",
        "\n",
        "3. Which word in scrabble is worth the largest number of points?  (This would require knowing the point value of the letters, of course.)\n"
      ]
    }
  ],
  "metadata": {
    "colab": {
      "include_colab_link": true,
      "provenance": []
    },
    "kernelspec": {
      "display_name": "Python 3",
      "name": "python3"
    },
    "language_info": {
      "codemirror_mode": {
        "name": "ipython",
        "version": 3
      },
      "file_extension": ".py",
      "mimetype": "text/x-python",
      "name": "python",
      "nbconvert_exporter": "python",
      "pygments_lexer": "ipython3",
      "version": "3.10.8"
    }
  },
  "nbformat": 4,
  "nbformat_minor": 0
}
