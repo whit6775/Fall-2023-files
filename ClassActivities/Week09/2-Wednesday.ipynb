{
  "cells": [
    {
      "cell_type": "markdown",
      "metadata": {},
      "source": [
        "# Wednesday, October 18\n",
        "\n",
        "## Announcements and Reminders\n",
        "- Programming Assignment 4 due ~~Wednesday~~ Friday.\n",
        "- Chapter 8 and 9 exercises due Friday.\n",
        "- Read chapter 10 for Monday.\n",
        "\n",
        "## Today: After the quiz, work on Programming Assignment 4\n",
        "\n"
      ]
    }
  ],
  "metadata": {
    "colab": {
      "include_colab_link": true,
      "provenance": []
    },
    "kernelspec": {
      "display_name": "Python 3",
      "name": "python3"
    },
    "language_info": {
      "codemirror_mode": {
        "name": "ipython",
        "version": 3
      },
      "file_extension": ".py",
      "mimetype": "text/x-python",
      "name": "python",
      "nbconvert_exporter": "python",
      "pygments_lexer": "ipython3",
      "version": "3.10.8"
    }
  },
  "nbformat": 4,
  "nbformat_minor": 0
}
