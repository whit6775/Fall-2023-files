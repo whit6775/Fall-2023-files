{
  "cells": [
    {
      "cell_type": "markdown",
      "metadata": {},
      "source": [
        "# Monday, September 15\n",
        "## Before Class:\n",
        "Find a new group to sit with\n",
        "\n",
        "## Announcements and Reminders\n",
        "- Chapter 5 Exercises: Due Today\n",
        "- Read Chapter 6: Due Today\n",
        "- Programming Assignment 2: Due Wednesday.  \n",
        "  - Student hour today: 1:30-3:30\n",
        "- Read Chapter 7: Due Wednesday\n",
        "\n",
        "### Questions:"
      ]
    },
    {
      "cell_type": "markdown",
      "metadata": {
        "id": "rPcP5eWXAO1Y"
      },
      "source": [
        "\n",
        "## Activity: Guess who, part three\n",
        "\n",
        "We have been thinking about how to write a program that can narrow down choices by considering the answers to questions.  For arbitrary animals, thinking about what questions to ask can be challenging, and then keeping track of what animals are still viable is also challenging.\n",
        "\n",
        "Let's simplify this by changing the game: instead of picking one of 26 animals, let's pick one of 1000 numbers."
      ]
    },
    {
      "cell_type": "code",
      "execution_count": null,
      "metadata": {},
      "outputs": [],
      "source": [
        "print(\"Hi!  I'm the python magician.  Think of any number less than 1000.\")\n",
        "\n"
      ]
    },
    {
      "cell_type": "markdown",
      "metadata": {},
      "source": [
        "Add some questions above to try to guess the number.  Use conditionals.  How many lines of code will you need to write?\n",
        "\n",
        "You might want to use a function to consolidate some of the lines of code you keep repeating."
      ]
    },
    {
      "cell_type": "markdown",
      "metadata": {},
      "source": [
        "### Ask for a pony\n",
        "\n",
        "Forget for a moment that you are trying to implement this program in python.  Or that you are trying to implement this as all.  What would be a good strategy to get an answer?\n",
        "\n",
        "Then ask: what sort of mechanism would you need to implement this?  If you could have a pony..."
      ]
    }
  ],
  "metadata": {
    "colab": {
      "include_colab_link": true,
      "provenance": []
    },
    "kernelspec": {
      "display_name": "Python 3",
      "name": "python3"
    },
    "language_info": {
      "codemirror_mode": {
        "name": "ipython",
        "version": 3
      },
      "file_extension": ".py",
      "mimetype": "text/x-python",
      "name": "python",
      "nbconvert_exporter": "python",
      "pygments_lexer": "ipython3",
      "version": "3.10.8"
    }
  },
  "nbformat": 4,
  "nbformat_minor": 0
}
