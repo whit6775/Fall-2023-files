{
  "cells": [
    {
      "cell_type": "markdown",
      "metadata": {},
      "source": [
        "# Monday, September 20\n",
        "## Before Class:\n",
        "Find a *new* group to sit with\n",
        "\n",
        "## Announcements and Reminders\n",
        "- Programming Assignment 2: Due tonight!  \n",
        "- Read Chapter 7: Due today.\n",
        "- Chapter 6 and 7 exercises due Monday\n",
        "- Programming Assigment 3: Due in 1 week\n",
        "- Exam 1: Monday, October 2\n",
        "\n",
        "### Questions:"
      ]
    },
    {
      "cell_type": "markdown",
      "metadata": {},
      "source": [
        "## Activity: Lots-o-Loops\n",
        "\n",
        "We have now seen three ways to use *iteration* (i.e. loops): we can use function recursion, a `while` loop, or a `for` loop.  \n",
        "\n",
        "Look at the three examples below."
      ]
    },
    {
      "cell_type": "code",
      "execution_count": null,
      "metadata": {},
      "outputs": [],
      "source": [
        "def sumto(n, count=0):\n",
        "  if count < n:\n",
        "    return count + sumto(n, count+1)\n",
        "  else:\n",
        "    return n \n",
        "  \n",
        "print(sumto(100))"
      ]
    },
    {
      "cell_type": "code",
      "execution_count": null,
      "metadata": {},
      "outputs": [],
      "source": [
        "def sumwhile(n):\n",
        "  sum = 0\n",
        "  count = 1\n",
        "  while count <= n:\n",
        "    sum = sum + count\n",
        "    count = count + 1\n",
        "  return sum\n",
        "\n",
        "print(sumwhile(100))"
      ]
    },
    {
      "cell_type": "code",
      "execution_count": null,
      "metadata": {},
      "outputs": [],
      "source": [
        "def sumfor(n):\n",
        "  sum = 0\n",
        "  for count in range(n+1):\n",
        "    sum = sum + count\n",
        "  return sum\n",
        "\n",
        "print(sumfor(100))"
      ]
    },
    {
      "cell_type": "markdown",
      "metadata": {},
      "source": [
        "As you can see, there are multiple ways to accomplish the same looping behavior.  Today you will practice converting between these.  For each example below, decide what the program is doing and then rewrite it using a different kind of loop (of your choice).  If you have extra time, try giving *another* implementation of it."
      ]
    },
    {
      "cell_type": "code",
      "execution_count": null,
      "metadata": {},
      "outputs": [],
      "source": [
        "n = input(\"I can count to any number! I'll show you: give me a number under 10\")\n",
        "\n",
        "count = 1\n",
        "if n == count:\n",
        "  print(count)\n",
        "else:\n",
        "  count = count + 1\n",
        "  if n == count:\n",
        "    print(1, count)\n",
        "  else:\n",
        "    count = count + 1\n",
        "    if n == count:\n",
        "      print(1, 2, count)\n",
        "    else:\n",
        "      count = count + 1\n",
        "      if n == count:\n",
        "        print(1, 2, 3, count)\n",
        "      else:\n",
        "        count = count + 1\n",
        "        if n == count:\n",
        "          print(1, 2, 3, 4, count)\n",
        "\n",
        "# Implement the above (or better) using a for or while loop below:"
      ]
    },
    {
      "cell_type": "code",
      "execution_count": null,
      "metadata": {},
      "outputs": [],
      "source": [
        "def countMultiples(n, k):\n",
        "  count = 0\n",
        "  for i in range(k):\n",
        "    if i % n == 0:\n",
        "      count = count + 1\n",
        "  return count\n",
        "\n",
        "print(countMultiples(3, 100))\n",
        "\n",
        "# Implement the function above, but this time use a while loop instead of a for loop.\n",
        "\n",
        "def recountMultiples(n,k):\n",
        "  pass"
      ]
    },
    {
      "cell_type": "code",
      "execution_count": null,
      "metadata": {},
      "outputs": [],
      "source": [
        "def sqr(n):\n",
        "  total = 0\n",
        "  next = 1\n",
        "  counter = 0\n",
        "  while counter < n:\n",
        "    total = total + next\n",
        "    next = next + 2\n",
        "    counter = counter + 1\n",
        "  return total\n",
        "\n",
        "print(sqr(7))\n",
        "\n",
        "# Reimplement the function above but this time use a for loop instead of a while loop.\n",
        "\n",
        "def resqr(n):\n",
        "  pass"
      ]
    },
    {
      "cell_type": "code",
      "execution_count": null,
      "metadata": {},
      "outputs": [],
      "source": [
        "def fib(n):\n",
        "  if n == 0:\n",
        "    return 0\n",
        "  elif n == 1:\n",
        "    return 1\n",
        "  else:\n",
        "    return fib(n-1) + fib(n-2)\n",
        "  \n",
        "print(fib(4))\n",
        "\n",
        "# Implement the above function using either a for or while loop\n",
        "\n",
        "def refib(n):\n",
        "  pass"
      ]
    },
    {
      "cell_type": "markdown",
      "metadata": {},
      "source": [
        "### Counting things\n",
        "\n",
        "A great use of loops is to count *how many* things there are.  For example, consider the following function:"
      ]
    },
    {
      "cell_type": "code",
      "execution_count": null,
      "metadata": {},
      "outputs": [],
      "source": [
        "def countup(thing):\n",
        "  count = 0\n",
        "  for i in thing:\n",
        "    count = count+1\n",
        "  return count\n",
        "\n",
        "print(countup(\"One, Two, Three\"))\n",
        "\n",
        "print(countup([\"One\", \"Two\", \"Three\"]))\n",
        "\n",
        "print(countup(range(5, 17, 2)))"
      ]
    },
    {
      "cell_type": "markdown",
      "metadata": {},
      "source": [
        "So here is a challenge: How many different dominoes can there be?  A domino contains two sides, and each side has a number between 0 and 6 on it.  The domino (3,5) is the same as the domino (5,3).  So how many dominoes are there?  \n",
        "\n",
        "Let's write a function that computes this.  While we are at it, why don't we let the function answer more questions: instead of going up to 6, let's go up to any number we want.  Maybe we even ask the function to print out the dominoes for us."
      ]
    },
    {
      "cell_type": "code",
      "execution_count": null,
      "metadata": {},
      "outputs": [],
      "source": [
        "def dominoCounter(n):\n",
        "  pass"
      ]
    }
  ],
  "metadata": {
    "colab": {
      "include_colab_link": true,
      "provenance": []
    },
    "kernelspec": {
      "display_name": "Python 3",
      "name": "python3"
    },
    "language_info": {
      "codemirror_mode": {
        "name": "ipython",
        "version": 3
      },
      "file_extension": ".py",
      "mimetype": "text/x-python",
      "name": "python",
      "nbconvert_exporter": "python",
      "pygments_lexer": "ipython3",
      "version": "3.10.8"
    }
  },
  "nbformat": 4,
  "nbformat_minor": 0
}
