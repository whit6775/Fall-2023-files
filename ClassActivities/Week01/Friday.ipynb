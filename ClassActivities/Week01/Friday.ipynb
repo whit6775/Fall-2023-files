{
  "cells": [
    {
      "cell_type": "markdown",
      "metadata": {
        "id": "NYiRI0CLDVQQ"
      },
      "source": [
        "# Friday, August 25\n",
        "\n",
        "#### Announcements\n",
        "Before class starts: \n",
        "- Go to our github repository (https://github.com/UNC-CS130/Fall-2023-Files, or follow the link from Canvas).\n",
        "- Switch to your fork (the down-arrow on the `Forks` button).\n",
        "- Click on `Sync fork` and elect to add changes from upstream.\n",
        "- Open your Codespace for the repository, and select ths file (`ClassActivities/Week01/Friday.ipynb`)\n",
        "\n",
        "Work outside of class:\n",
        "- Reading for Chapter 2 is due on Monday before class.\n",
        "- If you have not yet finished the first Github assignment, we should talk and make sure you get that done.\n",
        "\n",
        "***IMPORTANT***\n",
        "\n",
        "Starting today, you will be doing work inside your version of the class github repository, in a codespace.  You will be editing your version of this file.  Don't lose your work: before you leave today, make sure you commit and sync your changes.  We will do this at the end of class together.\n"
      ]
    },
    {
      "cell_type": "markdown",
      "metadata": {
        "id": "hLj-dXhKD0Tb"
      },
      "source": [
        "## Activity: Python the Calculator\n",
        "\n",
        "Today we will start working with python, doing some very basic computations.  Partly this is to help us understand how to interact with python at all, and partly it will start to show us how python \"thinks\".\n",
        "\n",
        "### Three ways to interact with python\n",
        "\n",
        "There are more than just three, but the methods described below will show the variety of options well.  Of course, you can also run python directly in our textbook, or using a site like replit.com, which allows you to try out code quickly if you are online.\n",
        "\n",
        "#### 1. Inside a Jupyter (iPython) notebook \n",
        "Just like this one.  This is our main way we will play with python in this course.  \n",
        "\n",
        "#### 2. Using an interactive session\n",
        "As long as you have python installed you can \"run\" python by opening up a **terminal** or **command prompt** and typing `python`.  Let's try this now.  \n",
        "1. Inside of VS Code (i.e., your codespace), if you don't se a terminal at the bottom of the screen, go to the \"hamburger\" menu, select Terminal, then New Terminal.\n",
        "2. Click on the terminal and type `python` and then hit ENTER.\n",
        "3. You will see a message about what version of python you have, but then `>>>`.  This is where you can type a command.\n",
        "4. You can now enter any python code.  Try `2+3` and hit ENTER.  Then try `x = 10/5` (ENTER) and then `print(x)`.\n",
        "5. When you are done playing, type `quit()`.\n",
        "\n",
        "#### 3. Running a python script in a file\n",
        "Often we want to save a python program that can be run anytime we want.  For example, you might want to write a python \"script\" that looks for all `.png` image files in a folder and converts them to black-and-white.  You wouldn't want to remember all the commands for this to type one-at-a-time in an interactive session.  \n",
        "\n",
        "So instead, you put all the commands in a file, and tell python to run that file.  Let's try it:\n",
        "1. Open the file `sample.py` (at the root of your repository)\n",
        "2. Read the python code there.  What do you think will happen when the program runs?\n",
        "3. To run the program, in the terminal, type `python sample.py` (ENTER).\n",
        "4. Interact with the program.  Does it do what you expect?\n",
        "\n",
        "Of course, if you edit the file, and run it again, it can do something different.  This will be how you submit some of your larger homework assignments.\n",
        "\n",
        "Now let's dive in to what python can actual do, when asked nicely."
      ]
    },
    {
      "cell_type": "markdown",
      "metadata": {},
      "source": [
        "\n",
        "### Operation: Explore Operations\n",
        "Is Python a good calculator?  \n",
        "\n",
        "How can we operate on numerical values in Python?\n",
        "\n",
        "Say you wanted to add the numbers 42 and 19.  Here are some potential ways to do this:\n",
        "\n",
        "```\n",
        "print(42+19)\n",
        "```\n",
        "\n",
        "```\n",
        "sum = 42+19\n",
        "print(sum)\n",
        "```\n",
        "\n",
        "```\n",
        "a = 42\n",
        "b = 19\n",
        "print(a+b)\n",
        "```\n",
        "\n",
        "```\n",
        "a = 42\n",
        "b = 19\n",
        "sum = a+b\n",
        "print(sum)\n",
        "```\n",
        "\n",
        "Do ***NOT*** just enter 42+19 and hit CTRL+ENTER.  While this might work here, you should always use the `print()` command when you want Python to output something.\n",
        "\n",
        "Try some of these in the cell below to convince yourself they work.  "
      ]
    },
    {
      "cell_type": "code",
      "execution_count": 11,
      "metadata": {
        "id": "ykE_QHPjGGxB"
      },
      "outputs": [
        {
          "name": "stdout",
          "output_type": "stream",
          "text": [
            "61\n"
          ]
        }
      ],
      "source": [
        "print(42+19)"
      ]
    },
    {
      "cell_type": "markdown",
      "metadata": {
        "id": "PZ_DsyBSdvij"
      },
      "source": [
        "Python knows more operations that just addition.  Phew!  \n",
        "Try to write Python code that computes each of the following:\n",
        "- $11+23$\n",
        "- $16-7$\n",
        "- $7-16$\n",
        "- $24÷4$\n",
        "- $25÷4$\n",
        "- $5\\cdot 5$\n",
        "- $5^2$\n",
        "\n",
        "Do these do what you expect?  If there are any that look strange, make a note of them and move on."
      ]
    },
    {
      "cell_type": "code",
      "execution_count": 14,
      "metadata": {
        "id": "cPjJgMOUH8qz"
      },
      "outputs": [
        {
          "name": "stdout",
          "output_type": "stream",
          "text": [
            "34\n",
            "9\n",
            "6.0\n"
          ]
        }
      ],
      "source": [
        "print(11+23)\n",
        "\n",
        "print(16-7)\n",
        "print(24/4)"
      ]
    },
    {
      "cell_type": "markdown",
      "metadata": {
        "id": "ZLQqTcUwHKTK"
      },
      "source": [
        "Some other syntax to experiment with: try to figure out what the, `**`, `//`, and `%` operators do.\n",
        "\n",
        "Start by write Python code that computes and prints each of the following:\n",
        "- 3**2\n",
        "- 7**7\n",
        "- 24//4\n",
        "- 25//4\n",
        "- 24%4\n",
        "- 25%4"
      ]
    },
    {
      "cell_type": "code",
      "execution_count": 20,
      "metadata": {
        "id": "3wh2_LvWdxgb"
      },
      "outputs": [
        {
          "name": "stdout",
          "output_type": "stream",
          "text": [
            "1\n",
            "0\n",
            "3\n",
            "5\n",
            "0\n"
          ]
        }
      ],
      "source": [
        "print(3//2)\n",
        "print(15%3)\n",
        "print(15%4)\n",
        "print(15//3)\n",
        "print(38%2)\n"
      ]
    },
    {
      "cell_type": "markdown",
      "metadata": {
        "id": "xlU4-95aIGx2"
      },
      "source": [
        "Double click on this text and then type your answer after each question:\n",
        "\n",
        "What does the `**` operation do? ...\n",
        "\n",
        "What does the `//` operation do? ...\n",
        "\n",
        "What does the `%` operation do? ...\n",
        "\n",
        "(hit `ESC` or `CTRL+ENTER` to exit the text-editing mode)"
      ]
    },
    {
      "cell_type": "markdown",
      "metadata": {
        "id": "HhT-uSEgE3ke"
      },
      "source": [
        "### Adding interactivity\n",
        "\n",
        "Let's make our computation more interactive.  \n",
        "\n",
        "Use `input()` to prompt a user to assign a numerical value to the variable `a` and a second numerical value to the variable `b`. Have the program print the sum of `a` and `b`.  This should be similar to what you saw in the `sample.py` file."
      ]
    },
    {
      "cell_type": "code",
      "execution_count": null,
      "metadata": {
        "id": "lf-Ju47ekKxe"
      },
      "outputs": [],
      "source": []
    },
    {
      "cell_type": "markdown",
      "metadata": {
        "id": "341FTvfqFCoG"
      },
      "source": [
        "Did you get what you expected?  If it didn't quite work the way you expected it to, then consider the program below. Does it do what you expect it to do?"
      ]
    },
    {
      "cell_type": "code",
      "execution_count": null,
      "metadata": {
        "id": "gtd6psFlG7Hf"
      },
      "outputs": [],
      "source": [
        "a = \"Hello \"\n",
        "b = \"World!\"\n",
        "print(a+b)"
      ]
    },
    {
      "cell_type": "markdown",
      "metadata": {
        "id": "SRr-kTLJgrdY"
      },
      "source": [
        "So what does `+` do in Python??  (double click and type your answer here)"
      ]
    },
    {
      "cell_type": "markdown",
      "metadata": {
        "id": "2FmawrWanwwf"
      },
      "source": [
        "### Operations and types\n",
        "\n",
        "It seems like operations do different things to differing *types* of values. It would be nice to know what type a value is.  Python thinks so too, so provides a function `type()` that will tell us.  Below, explore what this function does with different inputs.\n",
        "\n",
        "What type is 2?  What type is \"2\"?  What about 2.0?"
      ]
    },
    {
      "cell_type": "code",
      "execution_count": null,
      "metadata": {
        "id": "l4Tcqn9Jq5_4"
      },
      "outputs": [],
      "source": [
        "print(type(2))"
      ]
    },
    {
      "cell_type": "markdown",
      "metadata": {
        "id": "eMM02aCpiKKI"
      },
      "source": [
        "You can sometimes control the type of a value.  We can *cast* a value into a new type.  Try executing the code below.  Does the code make sense to you?  If not, ask for help."
      ]
    },
    {
      "cell_type": "code",
      "execution_count": null,
      "metadata": {
        "id": "-f2ziJ_zj44L"
      },
      "outputs": [],
      "source": [
        "a = 42\n",
        "b = 19.5\n",
        "c = \"25\"\n",
        "print(type(a), type(b), type(c))\n",
        "print(type(float(a)), type(str(b)), type(int(c)))"
      ]
    },
    {
      "cell_type": "markdown",
      "metadata": {
        "id": "iQHbTlyOrZ7Z"
      },
      "source": [
        "The type of two values determines how an operator will act on them. Play around with various combinations to see what happens. What happens when we add two strings? What if we multiply a string by an integer?"
      ]
    },
    {
      "cell_type": "code",
      "execution_count": null,
      "metadata": {
        "id": "jiRlIfOQwCDW"
      },
      "outputs": [],
      "source": []
    },
    {
      "cell_type": "markdown",
      "metadata": {
        "id": "c8lcZ1NIvqHc"
      },
      "source": [
        "### Putting it all together\n",
        "\n",
        "Now that we have some idea how operations work, let's practice what we have discovered by writting a very short program.  Your goal: a program that asks for two numbers, and then reports what the sum is.  That is, if the user inputs 4 and 9, you should ouput the string: \"Thanks.  The sum of 4 and 9 is 13\"\n",
        "\n",
        "Ready...GO!"
      ]
    },
    {
      "cell_type": "code",
      "execution_count": null,
      "metadata": {
        "id": "WQNjmIh-woVD"
      },
      "outputs": [],
      "source": []
    },
    {
      "cell_type": "markdown",
      "metadata": {
        "id": "Pm6_I74gwpHg"
      },
      "source": [
        "#### Bonus challenge\n",
        "\n",
        "If you get done with the activity early, try the following: Ask the user for their favorite pet, how many of those pets there are, and for a number of kids.  Say the responses are \"dog\", \"13\" and \"5\".  You should then output: \"If you tried to divide 13 dogs between 5 kids, each kid would get 2.6 dogs.   It would probably be better to give each kid 2 dogs and keep the remaining 3 dogs for yourself\""
      ]
    },
    {
      "cell_type": "code",
      "execution_count": null,
      "metadata": {
        "id": "CNKDskuVxmpM"
      },
      "outputs": [],
      "source": []
    }
  ],
  "metadata": {
    "colab": {
      "provenance": []
    },
    "kernelspec": {
      "display_name": "Python 3",
      "name": "python3"
    },
    "language_info": {
      "codemirror_mode": {
        "name": "ipython",
        "version": 3
      },
      "file_extension": ".py",
      "mimetype": "text/x-python",
      "name": "python",
      "nbconvert_exporter": "python",
      "pygments_lexer": "ipython3",
      "version": "3.10.8"
    }
  },
  "nbformat": 4,
  "nbformat_minor": 0
}
