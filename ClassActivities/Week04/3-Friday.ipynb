{
  "cells": [
    {
      "cell_type": "markdown",
      "metadata": {},
      "source": [
        "# Friday, September 15\n",
        "## Before Class:\n",
        "Sit with your group from last time to continue work on the Guess Who game.\n",
        "\n",
        "## Announcements and Reminders\n",
        "- Quiz on conditionals (chapter 5): Monday\n",
        "- Chapter 5 Exercises: Due Monday\n",
        "- Read Chapter 6: Due Monday\n",
        "- Programming Assignment 2: Due Wednesday.  Do you have a group yet?\n",
        "\n",
        "### Questions:"
      ]
    },
    {
      "cell_type": "markdown",
      "metadata": {
        "id": "rPcP5eWXAO1Y"
      },
      "source": [
        "\n",
        "## Activity: Guess who, part two\n",
        "\n",
        "Last time we started writing a program that would play \"Guess the Animal\" against us, by asking questions that would narrow down a list of 26 animals to just the one the player was thinking of. \n",
        "\n",
        "We started simple by writing a program that would correctly guess which of the first four animals we were thinking of.  The code for that program is given below."
      ]
    },
    {
      "cell_type": "code",
      "execution_count": null,
      "metadata": {},
      "outputs": [],
      "source": [
        "def display_choices():\n",
        "  print(\"Hello player.  I am going to read your mind.  I want you to think of any animal.  Any animal at all.  As long as they are in the following list:\")\n",
        "  print()\n",
        "  print(\"1. Artie Aardvark, 2. Bobby Bobcat,  3. Coby Cobra,  4. Dobby Dolphin,  5. Eddie Eagle,  6. Finnegan Finch,  7. Geoffrey Giraffe, 8. Humphry Hummingbird, 9. Iggy Iguana, 10. Javier Jaguar, 11. Kenny Kangaroo, 12. Larry Lion, 13. Moses Monkey, 14. Nicky Newt, 15. Ollie Owl, 16. Peter Python, 17. Quincy Quail, 18. Reggie Rattlesnake, 19. Terry Tiger, 20. Sherman Shark, 21. Ulysses Narwal, 22. Voltaire Vulture, 23. Wally Walrus, 24. Xavier X-ray fish, 25. Yolanda Yak, 26. and Zachary Zebra.\")\n",
        "\n",
        "def guessing():\n",
        "  leg_answer = input(\"Does your animal have legs?\")\n",
        "  if leg_answer == \"yes\":\n",
        "    ant_answer = input(\"Does your animal eat ants?\")\n",
        "    if ant_answer == \"yes\":\n",
        "      print(\"You are thinking of an Aardvark\")\n",
        "    else:\n",
        "      print(\"You are thinking of a Bobcat\")\n",
        "  else:\n",
        "    scales_answer=input(\"Does your animal have scales?\")\n",
        "    if scales_answer == \"yes\":\n",
        "      print(\"You are thinking of a cobra.\")\n",
        "    else:\n",
        "      print(\"You are thinking of a dolphin.\")\n",
        "\n",
        "display_choices()\n",
        "input(\"Ready? (Press enter)\")\n",
        "guessing()\n",
        "print(\"TADA\")"
      ]
    },
    {
      "cell_type": "markdown",
      "metadata": {},
      "source": [
        "There was a small issue with our program: if you entered \"Yes\" instead of \"yes\", then the program assumes you said \"no\".  How could we fix this?"
      ]
    },
    {
      "cell_type": "markdown",
      "metadata": {},
      "source": [
        "### Next step: take a step back!\n",
        "\n",
        "Instead of trying to solve just this one problem, let's try to understand what is happening in general.  Let's *abstract* our problem.\n",
        "\n",
        "As we play the game, we will get some inputs, and based on those inputs, we want to do different things.  We could create a **flowchart** that describes this!\n",
        "\n",
        "![FlowChart](flow-chart.png)\n",
        "\n",
        "(You can play with this flowchart in [Lucid](https://lucid.app/lucidchart/ed386581-8cc9-499a-9abe-79eb80e1d685/edit?viewport_loc=-65%2C-117%2C1792%2C860%2C0_0&invitationId=inv_6f099891-986d-4c75-b0f5-d962d2181901), although you might need to make an account)\n",
        "\n",
        "Okay, how about we play with the chart to design our program first, and then implement it using python?  \n",
        "\n",
        "The point is: ***Don't write code until you know what you want it to do!***"
      ]
    },
    {
      "cell_type": "markdown",
      "metadata": {},
      "source": [
        "### You can implement anything!\n",
        "\n",
        "Draw a few flowcharts with different structures.  For each, write corresponding python code using conditional statements that capture the structure of the flowcharts."
      ]
    }
  ],
  "metadata": {
    "colab": {
      "include_colab_link": true,
      "provenance": []
    },
    "kernelspec": {
      "display_name": "Python 3",
      "name": "python3"
    },
    "language_info": {
      "codemirror_mode": {
        "name": "ipython",
        "version": 3
      },
      "file_extension": ".py",
      "mimetype": "text/x-python",
      "name": "python",
      "nbconvert_exporter": "python",
      "pygments_lexer": "ipython3",
      "version": "3.10.8"
    }
  },
  "nbformat": 4,
  "nbformat_minor": 0
}
