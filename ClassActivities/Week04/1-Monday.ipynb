{
  "cells": [
    {
      "cell_type": "markdown",
      "metadata": {},
      "source": [
        "# Monday, September 11\n",
        "## Announcements and Reminders\n",
        "- Chapter 5 Reading due today, but definitely by Wednesday\n",
        "- Programming Assignment 2: Available soon, due next Monday\n",
        "\n",
        "## Questions:"
      ]
    },
    {
      "cell_type": "markdown",
      "metadata": {},
      "source": []
    },
    {
      "cell_type": "markdown",
      "metadata": {
        "id": "rPcP5eWXAO1Y"
      },
      "source": [
        "## Activity: Turtles, Geometry, and Fractals\n",
        "\n",
        "We will continue using the python turtle to get visual feedback on how functions work.\n",
        "\n",
        "Our goal for today is to produce shapes like the following, without writing hundreds of lines of code.\n"
      ]
    },
    {
      "cell_type": "markdown",
      "metadata": {},
      "source": [
        "<!-- ![Spiral](spiral.png) -->\n",
        "<div>\n",
        "<img src=\"spiral.png\" width=\"800\"/>\n",
        "</div>"
      ]
    },
    {
      "cell_type": "markdown",
      "metadata": {
        "id": "u4mMqfI6ueCr"
      },
      "source": [
        "**Important**: I have found a better turtle module called `ColabTurtlePlus` that is easer to use than the `ipyturtle3` we were using last time.  \n",
        "\n",
        "Before you start executing any code, run the following command in the terminal:\n",
        "\n",
        "`pip install ColabTurtlePlus`\n",
        "\n",
        "Or, just execute the following cell in the notebook:"
      ]
    },
    {
      "cell_type": "code",
      "execution_count": 3,
      "metadata": {},
      "outputs": [
        {
          "name": "stdout",
          "output_type": "stream",
          "text": [
            "Requirement already satisfied: ColabTurtlePlus in /usr/local/python/3.10.8/lib/python3.10/site-packages (2.0.1)\n"
          ]
        }
      ],
      "source": [
        "!pip install ColabTurtlePlus"
      ]
    },
    {
      "cell_type": "markdown",
      "metadata": {},
      "source": [
        "We will create a turtle and screen to use throughout the activity.  Let's call our turtle \"Tracy\" this time.  Because clearly that is the best name for a turtle.  \n"
      ]
    },
    {
      "cell_type": "code",
      "execution_count": 2,
      "metadata": {},
      "outputs": [
        {
          "name": "stdout",
          "output_type": "stream",
          "text": [
            "Put clearscreen() as the first line in a cell (after the import command) to re-run turtle commands in the cell\n"
          ]
        },
        {
          "data": {
            "text/html": [
              "\n",
              "      <svg width=\"800\" height=\"600\">  \n",
              "        <rect width=\"100%\" height=\"100%\" style=\"fill:rgb(10,0,40);stroke:;stroke-width:1\"/>\n",
              "        \n",
              "        \n",
              "        \n",
              "        \n",
              "        \n",
              "        <g id=\"turtle\" visibility=\"visible\" transform=\"rotate(90,400.0,300.0) translate(400.0, 300.0)\">\n",
              "<path style=\"stroke:black;fill-rule:evenodd;fill:black;fill-opacity:1;\" transform=\"skewX(0) scale(1,1)\" d=\"m 1.1536693,-18.56101 c -2.105469,1.167969 -3.203125,3.441407 -3.140625,6.5 l 0.011719,0.519532 -0.300782,-0.15625 c -1.308594,-0.671875 -2.828125,-0.824219 -4.378906,-0.429688 -1.9375,0.484375 -3.8906253,2.089844 -6.0117193,4.9257825 -1.332031,1.785156 -1.714843,2.644531 -1.351562,3.035156 l 0.113281,0.125 h 0.363281 c 0.71875,0 1.308594,-0.265625 4.6679693,-2.113282 1.199219,-0.660156 2.183594,-1.199218 2.191406,-1.199218 0.00781,0 -0.023437,0.089844 -0.074218,0.195312 -0.472657,1.058594 -1.046876,2.785156 -1.335938,4.042969 -1.054688,4.574219 -0.351562,8.453125 2.101562,11.582031 0.28125,0.355469 0.292969,0.253906 -0.097656,0.722656 -2.046875,2.4609375 -3.027344,4.8984375 -2.734375,6.8046875 0.050781,0.339844 0.042969,0.335938 0.679688,0.335938 2.023437,0 4.15625,-1.316407 6.21875,-3.835938 0.222656,-0.269531 0.191406,-0.261719 0.425781,-0.113281 0.730469,0.46875 2.460938,1.390625 2.613281,1.390625 0.160157,0 1.765625,-0.753906 2.652344,-1.246094 0.167969,-0.09375 0.308594,-0.164062 0.308594,-0.160156 0.066406,0.105468 0.761719,0.855468 1.085937,1.171875 1.613282,1.570312 3.339844,2.402343 5.3593747,2.570312 0.324219,0.02734 0.355469,0.0078 0.425781,-0.316406 0.375,-1.742187 -0.382812,-4.058594 -2.1445307,-6.5585935 l -0.320312,-0.457031 0.15625,-0.183594 c 3.2460927,-3.824218 3.4335927,-9.08593704 0.558593,-15.816406 l -0.050781,-0.125 1.7382807,0.859375 c 3.585938,1.773437 4.371094,2.097656 5.085938,2.097656 0.945312,0 0.75,-0.863281 -0.558594,-2.507812 C 11.458356,-11.838353 8.3333563,-13.268041 4.8607003,-11.721166 l -0.363281,0.164063 0.019531,-0.09375 c 0.121094,-0.550781 0.183594,-1.800781 0.121094,-2.378907 -0.203125,-1.867187 -1.035157,-3.199218 -2.695313,-4.308593 -0.523437,-0.351563 -0.546875,-0.355469 -0.789062,-0.222657\" />\n",
              "</g>\n",
              "      </svg>\n",
              "    "
            ],
            "text/plain": [
              "<IPython.core.display.HTML object>"
            ]
          },
          "metadata": {},
          "output_type": "display_data"
        }
      ],
      "source": [
        "from ColabTurtlePlus.Turtle import *\n",
        "# Every time we want to have a new screen, we will use the following commands to create a new screen and a new turtle object:\n",
        "# Name the screen and turtle objects:\n",
        "clearscreen()\n",
        "Sandbox = Screen()\n",
        "Tracy = Turtle()\n",
        "# Set properties for Sandbox and Tracy\n",
        "Sandbox.bgcolor(10, 0, 40)\n",
        "Tracy.shape(\"turtle\")\n",
        "Tracy.color(\"orange\")"
      ]
    },
    {
      "cell_type": "markdown",
      "metadata": {},
      "source": [
        "Now let's draw a square.  First, the slow way:"
      ]
    },
    {
      "cell_type": "code",
      "execution_count": 24,
      "metadata": {},
      "outputs": [
        {
          "data": {
            "text/html": [
              "\n",
              "      <svg width=\"800\" height=\"600\">  \n",
              "        <rect width=\"100%\" height=\"100%\" style=\"fill:rgb(10,0,40);stroke:;stroke-width:1\"/>\n",
              "        \n",
              "        \n",
              "        <line x1=\"400.0\" y1=\"300.0\" x2=\"500.0\" y2=\"300.0\" stroke-linecap=\"round\" style=\"stroke:orange;stroke-width:1\" /><line x1=\"500.0\" y1=\"300.0\" x2=\"500.0\" y2=\"200.0\" stroke-linecap=\"round\" style=\"stroke:orange;stroke-width:1\" /><line x1=\"500.0\" y1=\"200.0\" x2=\"400.0\" y2=\"200.0\" stroke-linecap=\"round\" style=\"stroke:orange;stroke-width:1\" /><line x1=\"400.0\" y1=\"200.0\" x2=\"400.0\" y2=\"300.0\" stroke-linecap=\"round\" style=\"stroke:orange;stroke-width:1\" />\n",
              "        \n",
              "        \n",
              "        <g id=\"turtle\" visibility=\"visible\" transform=\"rotate(180,400.0,300.0) translate(400.0, 300.0)\">\n",
              "<path style=\"stroke:orange;fill-rule:evenodd;fill:orange;fill-opacity:1;\" transform=\"skewX(0) scale(1,1)\" d=\"m 1.1536693,-18.56101 c -2.105469,1.167969 -3.203125,3.441407 -3.140625,6.5 l 0.011719,0.519532 -0.300782,-0.15625 c -1.308594,-0.671875 -2.828125,-0.824219 -4.378906,-0.429688 -1.9375,0.484375 -3.8906253,2.089844 -6.0117193,4.9257825 -1.332031,1.785156 -1.714843,2.644531 -1.351562,3.035156 l 0.113281,0.125 h 0.363281 c 0.71875,0 1.308594,-0.265625 4.6679693,-2.113282 1.199219,-0.660156 2.183594,-1.199218 2.191406,-1.199218 0.00781,0 -0.023437,0.089844 -0.074218,0.195312 -0.472657,1.058594 -1.046876,2.785156 -1.335938,4.042969 -1.054688,4.574219 -0.351562,8.453125 2.101562,11.582031 0.28125,0.355469 0.292969,0.253906 -0.097656,0.722656 -2.046875,2.4609375 -3.027344,4.8984375 -2.734375,6.8046875 0.050781,0.339844 0.042969,0.335938 0.679688,0.335938 2.023437,0 4.15625,-1.316407 6.21875,-3.835938 0.222656,-0.269531 0.191406,-0.261719 0.425781,-0.113281 0.730469,0.46875 2.460938,1.390625 2.613281,1.390625 0.160157,0 1.765625,-0.753906 2.652344,-1.246094 0.167969,-0.09375 0.308594,-0.164062 0.308594,-0.160156 0.066406,0.105468 0.761719,0.855468 1.085937,1.171875 1.613282,1.570312 3.339844,2.402343 5.3593747,2.570312 0.324219,0.02734 0.355469,0.0078 0.425781,-0.316406 0.375,-1.742187 -0.382812,-4.058594 -2.1445307,-6.5585935 l -0.320312,-0.457031 0.15625,-0.183594 c 3.2460927,-3.824218 3.4335927,-9.08593704 0.558593,-15.816406 l -0.050781,-0.125 1.7382807,0.859375 c 3.585938,1.773437 4.371094,2.097656 5.085938,2.097656 0.945312,0 0.75,-0.863281 -0.558594,-2.507812 C 11.458356,-11.838353 8.3333563,-13.268041 4.8607003,-11.721166 l -0.363281,0.164063 0.019531,-0.09375 c 0.121094,-0.550781 0.183594,-1.800781 0.121094,-2.378907 -0.203125,-1.867187 -1.035157,-3.199218 -2.695313,-4.308593 -0.523437,-0.351563 -0.546875,-0.355469 -0.789062,-0.222657\" />\n",
              "<animateTransform id = \"one\" attributeName=\"transform\" \n",
              "                      type=\"scale\"\n",
              "                      from=\"1 1\" to=\"1 1\"\n",
              "                      begin=\"0s\" dur=\"0.01s\"\n",
              "                      repeatCount=\"1\"\n",
              "                      additive=\"sum\"\n",
              "                      fill=\"freeze\"\n",
              "                /><animateTransform attributeName=\"transform\"\n",
              "                    type=\"rotate\"\n",
              "                    from=\"0 0 0\" to =\"-90 0 0\"\n",
              "                    begin=\"one.end\" dur=\"0.25s\"\n",
              "                    repeatCount=\"1\"\n",
              "                    additive=\"sum\"\n",
              "                    fill=\"freeze\"\n",
              "                /></g>\n",
              "      </svg>\n",
              "    "
            ],
            "text/plain": [
              "<IPython.core.display.HTML object>"
            ]
          },
          "metadata": {},
          "output_type": "display_data"
        }
      ],
      "source": [
        "### SETUP ###\n",
        "clearscreen()\n",
        "Sandbox = Screen()\n",
        "Tracy = Turtle()\n",
        "Sandbox.bgcolor(10, 0, 40)\n",
        "Tracy.shape(\"turtle\")\n",
        "Tracy.color(\"orange\")\n",
        "### END SETUP ###\n",
        "\n",
        "# Draw a square:\n",
        "Tracy.forward(100)\n",
        "Tracy.left(90)\n",
        "Tracy.forward(100)\n",
        "Tracy.left(90)\n",
        "Tracy.forward(100)\n",
        "Tracy.left(90)\n",
        "Tracy.forward(100)\n",
        "Tracy.left(90)"
      ]
    },
    {
      "cell_type": "markdown",
      "metadata": {},
      "source": [
        "Now try to modify the code above to draw the square using a function to avoid repeating as many identical lines of code.  Maybe define a function that combines the forward and turn steps.\n",
        "\n",
        "**Note**: If you know what they are, you might be tempted to use *loops* to make this simpler.  Hold that thought.  The goal of this activity is to use functions instead of loops."
      ]
    },
    {
      "cell_type": "markdown",
      "metadata": {},
      "source": [
        "### Recursion to the rescue\n",
        "\n",
        "Can we do even better?  A function tells Tracy what to do.  Can the function tell Tracy what to do next as well?  Try telling Tracy to walk, turn, and repeat."
      ]
    },
    {
      "cell_type": "code",
      "execution_count": 8,
      "metadata": {},
      "outputs": [
        {
          "data": {
            "text/html": [
              "\n",
              "      <svg width=\"800\" height=\"600\">  \n",
              "        <rect width=\"100%\" height=\"100%\" style=\"fill:rgb(10,20,0);stroke:;stroke-width:1\"/>\n",
              "        \n",
              "        \n",
              "        \n",
              "        \n",
              "        \n",
              "        <g id=\"turtle\" visibility=\"visible\" transform=\"rotate(90,400.0,300.0) translate(400.0, 300.0)\">\n",
              "<path style=\"stroke:orange;fill-rule:evenodd;fill:orange;fill-opacity:1;\" transform=\"skewX(0) scale(1,1)\" d=\"m 1.1536693,-18.56101 c -2.105469,1.167969 -3.203125,3.441407 -3.140625,6.5 l 0.011719,0.519532 -0.300782,-0.15625 c -1.308594,-0.671875 -2.828125,-0.824219 -4.378906,-0.429688 -1.9375,0.484375 -3.8906253,2.089844 -6.0117193,4.9257825 -1.332031,1.785156 -1.714843,2.644531 -1.351562,3.035156 l 0.113281,0.125 h 0.363281 c 0.71875,0 1.308594,-0.265625 4.6679693,-2.113282 1.199219,-0.660156 2.183594,-1.199218 2.191406,-1.199218 0.00781,0 -0.023437,0.089844 -0.074218,0.195312 -0.472657,1.058594 -1.046876,2.785156 -1.335938,4.042969 -1.054688,4.574219 -0.351562,8.453125 2.101562,11.582031 0.28125,0.355469 0.292969,0.253906 -0.097656,0.722656 -2.046875,2.4609375 -3.027344,4.8984375 -2.734375,6.8046875 0.050781,0.339844 0.042969,0.335938 0.679688,0.335938 2.023437,0 4.15625,-1.316407 6.21875,-3.835938 0.222656,-0.269531 0.191406,-0.261719 0.425781,-0.113281 0.730469,0.46875 2.460938,1.390625 2.613281,1.390625 0.160157,0 1.765625,-0.753906 2.652344,-1.246094 0.167969,-0.09375 0.308594,-0.164062 0.308594,-0.160156 0.066406,0.105468 0.761719,0.855468 1.085937,1.171875 1.613282,1.570312 3.339844,2.402343 5.3593747,2.570312 0.324219,0.02734 0.355469,0.0078 0.425781,-0.316406 0.375,-1.742187 -0.382812,-4.058594 -2.1445307,-6.5585935 l -0.320312,-0.457031 0.15625,-0.183594 c 3.2460927,-3.824218 3.4335927,-9.08593704 0.558593,-15.816406 l -0.050781,-0.125 1.7382807,0.859375 c 3.585938,1.773437 4.371094,2.097656 5.085938,2.097656 0.945312,0 0.75,-0.863281 -0.558594,-2.507812 C 11.458356,-11.838353 8.3333563,-13.268041 4.8607003,-11.721166 l -0.363281,0.164063 0.019531,-0.09375 c 0.121094,-0.550781 0.183594,-1.800781 0.121094,-2.378907 -0.203125,-1.867187 -1.035157,-3.199218 -2.695313,-4.308593 -0.523437,-0.351563 -0.546875,-0.355469 -0.789062,-0.222657\" />\n",
              "</g>\n",
              "      </svg>\n",
              "    "
            ],
            "text/plain": [
              "<IPython.core.display.HTML object>"
            ]
          },
          "metadata": {},
          "output_type": "display_data"
        },
        {
          "ename": "NameError",
          "evalue": "name 'walk_turn' is not defined",
          "output_type": "error",
          "traceback": [
            "\u001b[0;31m---------------------------------------------------------------------------\u001b[0m",
            "\u001b[0;31mNameError\u001b[0m                                 Traceback (most recent call last)",
            "\u001b[1;32m/workspaces/Fall-2023-files/ClassActivities/Week04/1-Monday.ipynb Cell 13\u001b[0m line \u001b[0;36m1\n\u001b[1;32m      <a href='vscode-notebook-cell://codespaces%2Bupgraded-telegram-979w7qq7gxg4f99xq/workspaces/Fall-2023-files/ClassActivities/Week04/1-Monday.ipynb#X15sdnNjb2RlLXJlbW90ZQ%3D%3D?line=6'>7</a>\u001b[0m Tracy\u001b[39m.\u001b[39mcolor(\u001b[39m\"\u001b[39m\u001b[39morange\u001b[39m\u001b[39m\"\u001b[39m)\n\u001b[1;32m      <a href='vscode-notebook-cell://codespaces%2Bupgraded-telegram-979w7qq7gxg4f99xq/workspaces/Fall-2023-files/ClassActivities/Week04/1-Monday.ipynb#X15sdnNjb2RlLXJlbW90ZQ%3D%3D?line=7'>8</a>\u001b[0m \u001b[39m### END SETUP ###\u001b[39;00m\n\u001b[1;32m      <a href='vscode-notebook-cell://codespaces%2Bupgraded-telegram-979w7qq7gxg4f99xq/workspaces/Fall-2023-files/ClassActivities/Week04/1-Monday.ipynb#X15sdnNjb2RlLXJlbW90ZQ%3D%3D?line=8'>9</a>\u001b[0m \n\u001b[1;32m     <a href='vscode-notebook-cell://codespaces%2Bupgraded-telegram-979w7qq7gxg4f99xq/workspaces/Fall-2023-files/ClassActivities/Week04/1-Monday.ipynb#X15sdnNjb2RlLXJlbW90ZQ%3D%3D?line=9'>10</a>\u001b[0m \u001b[39m# def walk_turn(dist, ang):\u001b[39;00m\n\u001b[0;32m   (...)\u001b[0m\n\u001b[1;32m     <a href='vscode-notebook-cell://codespaces%2Bupgraded-telegram-979w7qq7gxg4f99xq/workspaces/Fall-2023-files/ClassActivities/Week04/1-Monday.ipynb#X15sdnNjb2RlLXJlbW90ZQ%3D%3D?line=12'>13</a>\u001b[0m \n\u001b[1;32m     <a href='vscode-notebook-cell://codespaces%2Bupgraded-telegram-979w7qq7gxg4f99xq/workspaces/Fall-2023-files/ClassActivities/Week04/1-Monday.ipynb#X15sdnNjb2RlLXJlbW90ZQ%3D%3D?line=13'>14</a>\u001b[0m \u001b[39m#Call the function\u001b[39;00m\n\u001b[0;32m---> <a href='vscode-notebook-cell://codespaces%2Bupgraded-telegram-979w7qq7gxg4f99xq/workspaces/Fall-2023-files/ClassActivities/Week04/1-Monday.ipynb#X15sdnNjb2RlLXJlbW90ZQ%3D%3D?line=14'>15</a>\u001b[0m walk_turn(\u001b[39m100\u001b[39m,\u001b[39m90\u001b[39m)\n",
            "\u001b[0;31mNameError\u001b[0m: name 'walk_turn' is not defined"
          ]
        }
      ],
      "source": [
        "### SETUP ###\n",
        "clearscreen()\n",
        "Sandbox = Screen()\n",
        "Tracy = Turtle()\n",
        "Sandbox.bgcolor(10, 20, 0)\n",
        "Tracy.shape(\"turtle\")\n",
        "Tracy.color(\"orange\")\n",
        "### END SETUP ###\n",
        "\n",
        "# def walk_turn(dist, ang):\n",
        "  # pass walk_turn()\n",
        "  #Fill in the function\n",
        "\n",
        "#Call the function\n",
        "walk_turn(100,90)"
      ]
    },
    {
      "cell_type": "markdown",
      "metadata": {},
      "source": [
        "### Polygons\n",
        "\n",
        "The code above should be able to draw shapes other than squares.  How could you tell it to draw an octagon?\n",
        "\n",
        "Actually, why don't we just write a function `polygon(sides, size)` that draws a polygon with `sides` sides each of size `size`:"
      ]
    },
    {
      "cell_type": "code",
      "execution_count": 18,
      "metadata": {},
      "outputs": [
        {
          "data": {
            "text/html": [
              "\n",
              "      <svg width=\"800\" height=\"600\">  \n",
              "        <rect width=\"100%\" height=\"100%\" style=\"fill:rgb(10,20,20);stroke:;stroke-width:1\"/>\n",
              "        \n",
              "        \n",
              "        <line x1=\"400.0\" y1=\"300.0\" x2=\"420.0\" y2=\"300.0\" stroke-linecap=\"round\" style=\"stroke:orange;stroke-width:1\" /><line x1=\"420.0\" y1=\"300.0\" x2=\"452.361\" y2=\"276.489\" stroke-linecap=\"round\" style=\"stroke:orange;stroke-width:1\" /><line x1=\"452.361\" y1=\"276.489\" x2=\"464.722\" y2=\"238.447\" stroke-linecap=\"round\" style=\"stroke:orange;stroke-width:1\" /><line x1=\"464.722\" y1=\"238.447\" x2=\"452.361\" y2=\"200.405\" stroke-linecap=\"round\" style=\"stroke:orange;stroke-width:1\" /><line x1=\"452.361\" y1=\"200.405\" x2=\"420.0\" y2=\"176.894\" stroke-linecap=\"round\" style=\"stroke:orange;stroke-width:1\" /><line x1=\"420.0\" y1=\"176.894\" x2=\"380.0\" y2=\"176.894\" stroke-linecap=\"round\" style=\"stroke:orange;stroke-width:1\" /><line x1=\"380.0\" y1=\"176.894\" x2=\"347.639\" y2=\"200.405\" stroke-linecap=\"round\" style=\"stroke:orange;stroke-width:1\" /><line x1=\"347.639\" y1=\"200.405\" x2=\"335.278\" y2=\"238.447\" stroke-linecap=\"round\" style=\"stroke:orange;stroke-width:1\" /><line x1=\"335.278\" y1=\"238.447\" x2=\"347.639\" y2=\"276.489\" stroke-linecap=\"round\" style=\"stroke:orange;stroke-width:1\" /><line x1=\"347.639\" y1=\"276.489\" x2=\"380.0\" y2=\"300.0\" stroke-linecap=\"round\" style=\"stroke:orange;stroke-width:1\" /><line x1=\"380.0\" y1=\"300.0\" x2=\"420.0\" y2=\"300.0\" stroke-linecap=\"round\" style=\"stroke:orange;stroke-width:1\" /><line x1=\"420.0\" y1=\"300.0\" x2=\"452.361\" y2=\"276.489\" stroke-linecap=\"round\" style=\"stroke:orange;stroke-width:1\" /><line x1=\"452.361\" y1=\"276.489\" x2=\"464.722\" y2=\"238.447\" stroke-linecap=\"round\" style=\"stroke:orange;stroke-width:1\" /><line x1=\"464.722\" y1=\"238.447\" x2=\"452.361\" y2=\"200.405\" stroke-linecap=\"round\" style=\"stroke:orange;stroke-width:1\" /><line x1=\"452.361\" y1=\"200.405\" x2=\"420.0\" y2=\"176.894\" stroke-linecap=\"round\" style=\"stroke:orange;stroke-width:1\" /><line x1=\"420.0\" y1=\"176.894\" x2=\"380.0\" y2=\"176.894\" stroke-linecap=\"round\" style=\"stroke:orange;stroke-width:1\" /><line x1=\"380.0\" y1=\"176.894\" x2=\"347.639\" y2=\"200.405\" stroke-linecap=\"round\" style=\"stroke:orange;stroke-width:1\" /><line x1=\"347.639\" y1=\"200.405\" x2=\"335.278\" y2=\"238.447\" stroke-linecap=\"round\" style=\"stroke:orange;stroke-width:1\" /><line x1=\"335.278\" y1=\"238.447\" x2=\"347.639\" y2=\"276.489\" stroke-linecap=\"round\" style=\"stroke:orange;stroke-width:1\" /><line x1=\"347.639\" y1=\"276.489\" x2=\"380.0\" y2=\"300.0\" stroke-linecap=\"round\" style=\"stroke:orange;stroke-width:1\" /><line x1=\"380.0\" y1=\"300.0\" x2=\"420.0\" y2=\"300.0\" stroke-linecap=\"round\" style=\"stroke:orange;stroke-width:1\" /><line x1=\"420.0\" y1=\"300.0\" x2=\"452.361\" y2=\"276.489\" stroke-linecap=\"round\" style=\"stroke:orange;stroke-width:1\" /><line x1=\"452.361\" y1=\"276.489\" x2=\"464.722\" y2=\"238.447\" stroke-linecap=\"round\" style=\"stroke:orange;stroke-width:1\" /><line x1=\"464.722\" y1=\"238.447\" x2=\"452.361\" y2=\"200.405\" stroke-linecap=\"round\" style=\"stroke:orange;stroke-width:1\" /><line x1=\"452.361\" y1=\"200.405\" x2=\"420.0\" y2=\"176.894\" stroke-linecap=\"round\" style=\"stroke:orange;stroke-width:1\" /><line x1=\"420.0\" y1=\"176.894\" x2=\"380.0\" y2=\"176.894\" stroke-linecap=\"round\" style=\"stroke:orange;stroke-width:1\" /><line x1=\"380.0\" y1=\"176.894\" x2=\"347.639\" y2=\"200.405\" stroke-linecap=\"round\" style=\"stroke:orange;stroke-width:1\" /><line x1=\"347.639\" y1=\"200.405\" x2=\"335.278\" y2=\"238.447\" stroke-linecap=\"round\" style=\"stroke:orange;stroke-width:1\" /><line x1=\"335.278\" y1=\"238.447\" x2=\"347.639\" y2=\"276.489\" stroke-linecap=\"round\" style=\"stroke:orange;stroke-width:1\" /><line x1=\"347.639\" y1=\"276.489\" x2=\"380.0\" y2=\"300.0\" stroke-linecap=\"round\" style=\"stroke:orange;stroke-width:1\" /><line x1=\"380.0\" y1=\"300.0\" x2=\"420.0\" y2=\"300.0\" stroke-linecap=\"round\" style=\"stroke:orange;stroke-width:1\" /><line x1=\"420.0\" y1=\"300.0\" x2=\"452.361\" y2=\"276.489\" stroke-linecap=\"round\" style=\"stroke:orange;stroke-width:1\" /><line x1=\"452.361\" y1=\"276.489\" x2=\"464.722\" y2=\"238.447\" stroke-linecap=\"round\" style=\"stroke:orange;stroke-width:1\" /><line x1=\"464.722\" y1=\"238.447\" x2=\"452.361\" y2=\"200.405\" stroke-linecap=\"round\" style=\"stroke:orange;stroke-width:1\" /><line x1=\"452.361\" y1=\"200.405\" x2=\"420.0\" y2=\"176.894\" stroke-linecap=\"round\" style=\"stroke:orange;stroke-width:1\" /><line x1=\"420.0\" y1=\"176.894\" x2=\"380.0\" y2=\"176.894\" stroke-linecap=\"round\" style=\"stroke:orange;stroke-width:1\" /><line x1=\"380.0\" y1=\"176.894\" x2=\"347.639\" y2=\"200.405\" stroke-linecap=\"round\" style=\"stroke:orange;stroke-width:1\" /><line x1=\"347.639\" y1=\"200.405\" x2=\"335.278\" y2=\"238.447\" stroke-linecap=\"round\" style=\"stroke:orange;stroke-width:1\" /><line x1=\"335.278\" y1=\"238.447\" x2=\"347.639\" y2=\"276.489\" stroke-linecap=\"round\" style=\"stroke:orange;stroke-width:1\" /><line x1=\"347.639\" y1=\"276.489\" x2=\"380.0\" y2=\"300.0\" stroke-linecap=\"round\" style=\"stroke:orange;stroke-width:1\" /><line x1=\"380.0\" y1=\"300.0\" x2=\"420.0\" y2=\"300.0\" stroke-linecap=\"round\" style=\"stroke:orange;stroke-width:1\" /><line x1=\"420.0\" y1=\"300.0\" x2=\"452.361\" y2=\"276.489\" stroke-linecap=\"round\" style=\"stroke:orange;stroke-width:1\" /><line x1=\"452.361\" y1=\"276.489\" x2=\"464.722\" y2=\"238.447\" stroke-linecap=\"round\" style=\"stroke:orange;stroke-width:1\" /><line x1=\"464.722\" y1=\"238.447\" x2=\"452.361\" y2=\"200.405\" stroke-linecap=\"round\" style=\"stroke:orange;stroke-width:1\" /><line x1=\"452.361\" y1=\"200.405\" x2=\"420.0\" y2=\"176.894\" stroke-linecap=\"round\" style=\"stroke:orange;stroke-width:1\" /><line x1=\"420.0\" y1=\"176.894\" x2=\"380.0\" y2=\"176.894\" stroke-linecap=\"round\" style=\"stroke:orange;stroke-width:1\" /><line x1=\"380.0\" y1=\"176.894\" x2=\"347.639\" y2=\"200.405\" stroke-linecap=\"round\" style=\"stroke:orange;stroke-width:1\" /><line x1=\"347.639\" y1=\"200.405\" x2=\"335.278\" y2=\"238.447\" stroke-linecap=\"round\" style=\"stroke:orange;stroke-width:1\" /><line x1=\"335.278\" y1=\"238.447\" x2=\"347.639\" y2=\"276.489\" stroke-linecap=\"round\" style=\"stroke:orange;stroke-width:1\" /><line x1=\"347.639\" y1=\"276.489\" x2=\"380.0\" y2=\"300.0\" stroke-linecap=\"round\" style=\"stroke:orange;stroke-width:1\" /><line x1=\"380.0\" y1=\"300.0\" x2=\"420.0\" y2=\"300.0\" stroke-linecap=\"round\" style=\"stroke:orange;stroke-width:1\" /><line x1=\"420.0\" y1=\"300.0\" x2=\"452.361\" y2=\"276.489\" stroke-linecap=\"round\" style=\"stroke:orange;stroke-width:1\" /><line x1=\"452.361\" y1=\"276.489\" x2=\"464.722\" y2=\"238.447\" stroke-linecap=\"round\" style=\"stroke:orange;stroke-width:1\" /><line x1=\"464.722\" y1=\"238.447\" x2=\"452.361\" y2=\"200.405\" stroke-linecap=\"round\" style=\"stroke:orange;stroke-width:1\" /><line x1=\"452.361\" y1=\"200.405\" x2=\"420.0\" y2=\"176.894\" stroke-linecap=\"round\" style=\"stroke:orange;stroke-width:1\" /><line x1=\"420.0\" y1=\"176.894\" x2=\"380.0\" y2=\"176.894\" stroke-linecap=\"round\" style=\"stroke:orange;stroke-width:1\" /><line x1=\"380.0\" y1=\"176.894\" x2=\"347.639\" y2=\"200.405\" stroke-linecap=\"round\" style=\"stroke:orange;stroke-width:1\" /><line x1=\"347.639\" y1=\"200.405\" x2=\"335.278\" y2=\"238.447\" stroke-linecap=\"round\" style=\"stroke:orange;stroke-width:1\" /><line x1=\"335.278\" y1=\"238.447\" x2=\"347.639\" y2=\"276.489\" stroke-linecap=\"round\" style=\"stroke:orange;stroke-width:1\" /><line x1=\"347.639\" y1=\"276.489\" x2=\"380.0\" y2=\"300.0\" stroke-linecap=\"round\" style=\"stroke:orange;stroke-width:1\" /><line x1=\"380.0\" y1=\"300.0\" x2=\"420.0\" y2=\"300.0\" stroke-linecap=\"round\" style=\"stroke:orange;stroke-width:1\" /><line x1=\"420.0\" y1=\"300.0\" x2=\"452.361\" y2=\"276.489\" stroke-linecap=\"round\" style=\"stroke:orange;stroke-width:1\" /><line x1=\"452.361\" y1=\"276.489\" x2=\"464.722\" y2=\"238.447\" stroke-linecap=\"round\" style=\"stroke:orange;stroke-width:1\" /><line x1=\"464.722\" y1=\"238.447\" x2=\"452.361\" y2=\"200.405\" stroke-linecap=\"round\" style=\"stroke:orange;stroke-width:1\" /><line x1=\"452.361\" y1=\"200.405\" x2=\"420.0\" y2=\"176.894\" stroke-linecap=\"round\" style=\"stroke:orange;stroke-width:1\" /><line x1=\"420.0\" y1=\"176.894\" x2=\"380.0\" y2=\"176.894\" stroke-linecap=\"round\" style=\"stroke:orange;stroke-width:1\" /><line x1=\"380.0\" y1=\"176.894\" x2=\"347.639\" y2=\"200.405\" stroke-linecap=\"round\" style=\"stroke:orange;stroke-width:1\" /><line x1=\"347.639\" y1=\"200.405\" x2=\"335.278\" y2=\"238.447\" stroke-linecap=\"round\" style=\"stroke:orange;stroke-width:1\" /><line x1=\"335.278\" y1=\"238.447\" x2=\"347.639\" y2=\"276.489\" stroke-linecap=\"round\" style=\"stroke:orange;stroke-width:1\" /><line x1=\"347.639\" y1=\"276.489\" x2=\"380.0\" y2=\"300.0\" stroke-linecap=\"round\" style=\"stroke:orange;stroke-width:1\" /><line x1=\"380.0\" y1=\"300.0\" x2=\"420.0\" y2=\"300.0\" stroke-linecap=\"round\" style=\"stroke:orange;stroke-width:1\" /><line x1=\"420.0\" y1=\"300.0\" x2=\"452.361\" y2=\"276.489\" stroke-linecap=\"round\" style=\"stroke:orange;stroke-width:1\" /><line x1=\"452.361\" y1=\"276.489\" x2=\"464.722\" y2=\"238.447\" stroke-linecap=\"round\" style=\"stroke:orange;stroke-width:1\" /><line x1=\"464.722\" y1=\"238.447\" x2=\"452.361\" y2=\"200.405\" stroke-linecap=\"round\" style=\"stroke:orange;stroke-width:1\" /><line x1=\"452.361\" y1=\"200.405\" x2=\"420.0\" y2=\"176.894\" stroke-linecap=\"round\" style=\"stroke:orange;stroke-width:1\" /><line x1=\"420.0\" y1=\"176.894\" x2=\"380.0\" y2=\"176.894\" stroke-linecap=\"round\" style=\"stroke:orange;stroke-width:1\" /><line x1=\"380.0\" y1=\"176.894\" x2=\"347.639\" y2=\"200.405\" stroke-linecap=\"round\" style=\"stroke:orange;stroke-width:1\" /><line x1=\"347.639\" y1=\"200.405\" x2=\"335.278\" y2=\"238.447\" stroke-linecap=\"round\" style=\"stroke:orange;stroke-width:1\" /><line x1=\"335.278\" y1=\"238.447\" x2=\"347.639\" y2=\"276.489\" stroke-linecap=\"round\" style=\"stroke:orange;stroke-width:1\" /><line x1=\"347.639\" y1=\"276.489\" x2=\"380.0\" y2=\"300.0\" stroke-linecap=\"round\" style=\"stroke:orange;stroke-width:1\" /><line x1=\"380.0\" y1=\"300.0\" x2=\"420.0\" y2=\"300.0\" stroke-linecap=\"round\" style=\"stroke:orange;stroke-width:1\" /><line x1=\"420.0\" y1=\"300.0\" x2=\"452.361\" y2=\"276.489\" stroke-linecap=\"round\" style=\"stroke:orange;stroke-width:1\" /><line x1=\"452.361\" y1=\"276.489\" x2=\"464.722\" y2=\"238.447\" stroke-linecap=\"round\" style=\"stroke:orange;stroke-width:1\" /><line x1=\"464.722\" y1=\"238.447\" x2=\"452.361\" y2=\"200.405\" stroke-linecap=\"round\" style=\"stroke:orange;stroke-width:1\" /><line x1=\"452.361\" y1=\"200.405\" x2=\"420.0\" y2=\"176.894\" stroke-linecap=\"round\" style=\"stroke:orange;stroke-width:1\" /><line x1=\"420.0\" y1=\"176.894\" x2=\"380.0\" y2=\"176.894\" stroke-linecap=\"round\" style=\"stroke:orange;stroke-width:1\" /><line x1=\"380.0\" y1=\"176.894\" x2=\"347.639\" y2=\"200.405\" stroke-linecap=\"round\" style=\"stroke:orange;stroke-width:1\" /><line x1=\"347.639\" y1=\"200.405\" x2=\"335.278\" y2=\"238.447\" stroke-linecap=\"round\" style=\"stroke:orange;stroke-width:1\" /><line x1=\"335.278\" y1=\"238.447\" x2=\"347.639\" y2=\"276.489\" stroke-linecap=\"round\" style=\"stroke:orange;stroke-width:1\" /><line x1=\"347.639\" y1=\"276.489\" x2=\"380.0\" y2=\"300.0\" stroke-linecap=\"round\" style=\"stroke:orange;stroke-width:1\" /><line x1=\"380.0\" y1=\"300.0\" x2=\"420.0\" y2=\"300.0\" stroke-linecap=\"round\" style=\"stroke:orange;stroke-width:1\" /><line x1=\"420.0\" y1=\"300.0\" x2=\"452.361\" y2=\"276.489\" stroke-linecap=\"round\" style=\"stroke:orange;stroke-width:1\" /><line x1=\"452.361\" y1=\"276.489\" x2=\"464.722\" y2=\"238.447\" stroke-linecap=\"round\" style=\"stroke:orange;stroke-width:1\" /><line x1=\"464.722\" y1=\"238.447\" x2=\"452.361\" y2=\"200.405\" stroke-linecap=\"round\" style=\"stroke:orange;stroke-width:1\" /><line x1=\"452.361\" y1=\"200.405\" x2=\"420.0\" y2=\"176.894\" stroke-linecap=\"round\" style=\"stroke:orange;stroke-width:1\" /><line x1=\"420.0\" y1=\"176.894\" x2=\"380.0\" y2=\"176.894\" stroke-linecap=\"round\" style=\"stroke:orange;stroke-width:1\" /><line x1=\"380.0\" y1=\"176.894\" x2=\"347.639\" y2=\"200.405\" stroke-linecap=\"round\" style=\"stroke:orange;stroke-width:1\" /><line x1=\"347.639\" y1=\"200.405\" x2=\"335.278\" y2=\"238.447\" stroke-linecap=\"round\" style=\"stroke:orange;stroke-width:1\" /><line x1=\"335.278\" y1=\"238.447\" x2=\"347.639\" y2=\"276.489\" stroke-linecap=\"round\" style=\"stroke:orange;stroke-width:1\" /><line x1=\"347.639\" y1=\"276.489\" x2=\"380.0\" y2=\"300.0\" stroke-linecap=\"round\" style=\"stroke:orange;stroke-width:1\" /><line x1=\"380.0\" y1=\"300.0\" x2=\"420.0\" y2=\"300.0\" stroke-linecap=\"round\" style=\"stroke:orange;stroke-width:1\" /><line x1=\"420.0\" y1=\"300.0\" x2=\"452.361\" y2=\"276.489\" stroke-linecap=\"round\" style=\"stroke:orange;stroke-width:1\" /><line x1=\"452.361\" y1=\"276.489\" x2=\"464.722\" y2=\"238.447\" stroke-linecap=\"round\" style=\"stroke:orange;stroke-width:1\" /><line x1=\"464.722\" y1=\"238.447\" x2=\"452.361\" y2=\"200.405\" stroke-linecap=\"round\" style=\"stroke:orange;stroke-width:1\" /><line x1=\"452.361\" y1=\"200.405\" x2=\"420.0\" y2=\"176.894\" stroke-linecap=\"round\" style=\"stroke:orange;stroke-width:1\" /><line x1=\"420.0\" y1=\"176.894\" x2=\"380.0\" y2=\"176.894\" stroke-linecap=\"round\" style=\"stroke:orange;stroke-width:1\" /><line x1=\"380.0\" y1=\"176.894\" x2=\"347.639\" y2=\"200.405\" stroke-linecap=\"round\" style=\"stroke:orange;stroke-width:1\" /><line x1=\"347.639\" y1=\"200.405\" x2=\"335.278\" y2=\"238.447\" stroke-linecap=\"round\" style=\"stroke:orange;stroke-width:1\" /><line x1=\"335.278\" y1=\"238.447\" x2=\"347.639\" y2=\"276.489\" stroke-linecap=\"round\" style=\"stroke:orange;stroke-width:1\" /><line x1=\"347.639\" y1=\"276.489\" x2=\"380.0\" y2=\"300.0\" stroke-linecap=\"round\" style=\"stroke:orange;stroke-width:1\" /><line x1=\"380.0\" y1=\"300.0\" x2=\"420.0\" y2=\"300.0\" stroke-linecap=\"round\" style=\"stroke:orange;stroke-width:1\" /><line x1=\"420.0\" y1=\"300.0\" x2=\"452.361\" y2=\"276.489\" stroke-linecap=\"round\" style=\"stroke:orange;stroke-width:1\" /><line x1=\"452.361\" y1=\"276.489\" x2=\"464.722\" y2=\"238.447\" stroke-linecap=\"round\" style=\"stroke:orange;stroke-width:1\" /><line x1=\"464.722\" y1=\"238.447\" x2=\"452.361\" y2=\"200.405\" stroke-linecap=\"round\" style=\"stroke:orange;stroke-width:1\" /><line x1=\"452.361\" y1=\"200.405\" x2=\"420.0\" y2=\"176.894\" stroke-linecap=\"round\" style=\"stroke:orange;stroke-width:1\" /><line x1=\"420.0\" y1=\"176.894\" x2=\"380.0\" y2=\"176.894\" stroke-linecap=\"round\" style=\"stroke:orange;stroke-width:1\" /><line x1=\"380.0\" y1=\"176.894\" x2=\"347.639\" y2=\"200.405\" stroke-linecap=\"round\" style=\"stroke:orange;stroke-width:1\" /><line x1=\"347.639\" y1=\"200.405\" x2=\"335.278\" y2=\"238.447\" stroke-linecap=\"round\" style=\"stroke:orange;stroke-width:1\" /><line x1=\"335.278\" y1=\"238.447\" x2=\"347.639\" y2=\"276.489\" stroke-linecap=\"round\" style=\"stroke:orange;stroke-width:1\" /><line x1=\"347.639\" y1=\"276.489\" x2=\"380.0\" y2=\"300.0\" stroke-linecap=\"round\" style=\"stroke:orange;stroke-width:1\" /><line x1=\"380.0\" y1=\"300.0\" x2=\"420.0\" y2=\"300.0\" stroke-linecap=\"round\" style=\"stroke:orange;stroke-width:1\" /><line x1=\"420.0\" y1=\"300.0\" x2=\"452.361\" y2=\"276.489\" stroke-linecap=\"round\" style=\"stroke:orange;stroke-width:1\" /><line x1=\"452.361\" y1=\"276.489\" x2=\"464.722\" y2=\"238.447\" stroke-linecap=\"round\" style=\"stroke:orange;stroke-width:1\" /><line x1=\"464.722\" y1=\"238.447\" x2=\"452.361\" y2=\"200.405\" stroke-linecap=\"round\" style=\"stroke:orange;stroke-width:1\" /><line x1=\"452.361\" y1=\"200.405\" x2=\"420.0\" y2=\"176.894\" stroke-linecap=\"round\" style=\"stroke:orange;stroke-width:1\" /><line x1=\"420.0\" y1=\"176.894\" x2=\"380.0\" y2=\"176.894\" stroke-linecap=\"round\" style=\"stroke:orange;stroke-width:1\" /><line x1=\"380.0\" y1=\"176.894\" x2=\"347.639\" y2=\"200.405\" stroke-linecap=\"round\" style=\"stroke:orange;stroke-width:1\" /><line x1=\"347.639\" y1=\"200.405\" x2=\"335.278\" y2=\"238.447\" stroke-linecap=\"round\" style=\"stroke:orange;stroke-width:1\" /><line x1=\"335.278\" y1=\"238.447\" x2=\"347.639\" y2=\"276.489\" stroke-linecap=\"round\" style=\"stroke:orange;stroke-width:1\" /><line x1=\"347.639\" y1=\"276.489\" x2=\"380.0\" y2=\"300.0\" stroke-linecap=\"round\" style=\"stroke:orange;stroke-width:1\" /><line x1=\"380.0\" y1=\"300.0\" x2=\"420.0\" y2=\"300.0\" stroke-linecap=\"round\" style=\"stroke:orange;stroke-width:1\" /><line x1=\"420.0\" y1=\"300.0\" x2=\"452.361\" y2=\"276.489\" stroke-linecap=\"round\" style=\"stroke:orange;stroke-width:1\" /><line x1=\"452.361\" y1=\"276.489\" x2=\"464.722\" y2=\"238.447\" stroke-linecap=\"round\" style=\"stroke:orange;stroke-width:1\" /><line x1=\"464.722\" y1=\"238.447\" x2=\"452.361\" y2=\"200.405\" stroke-linecap=\"round\" style=\"stroke:orange;stroke-width:1\" /><line x1=\"452.361\" y1=\"200.405\" x2=\"420.0\" y2=\"176.894\" stroke-linecap=\"round\" style=\"stroke:orange;stroke-width:1\" /><line x1=\"420.0\" y1=\"176.894\" x2=\"380.0\" y2=\"176.894\" stroke-linecap=\"round\" style=\"stroke:orange;stroke-width:1\" /><line x1=\"380.0\" y1=\"176.894\" x2=\"347.639\" y2=\"200.405\" stroke-linecap=\"round\" style=\"stroke:orange;stroke-width:1\" /><line x1=\"347.639\" y1=\"200.405\" x2=\"335.278\" y2=\"238.447\" stroke-linecap=\"round\" style=\"stroke:orange;stroke-width:1\" /><line x1=\"335.278\" y1=\"238.447\" x2=\"347.639\" y2=\"276.489\" stroke-linecap=\"round\" style=\"stroke:orange;stroke-width:1\" /><line x1=\"347.639\" y1=\"276.489\" x2=\"380.0\" y2=\"300.0\" stroke-linecap=\"round\" style=\"stroke:orange;stroke-width:1\" /><line x1=\"380.0\" y1=\"300.0\" x2=\"420.0\" y2=\"300.0\" stroke-linecap=\"round\" style=\"stroke:orange;stroke-width:1\" /><line x1=\"420.0\" y1=\"300.0\" x2=\"452.361\" y2=\"276.489\" stroke-linecap=\"round\" style=\"stroke:orange;stroke-width:1\" /><line x1=\"452.361\" y1=\"276.489\" x2=\"464.722\" y2=\"238.447\" stroke-linecap=\"round\" style=\"stroke:orange;stroke-width:1\" /><line x1=\"464.722\" y1=\"238.447\" x2=\"452.361\" y2=\"200.405\" stroke-linecap=\"round\" style=\"stroke:orange;stroke-width:1\" /><line x1=\"452.361\" y1=\"200.405\" x2=\"420.0\" y2=\"176.894\" stroke-linecap=\"round\" style=\"stroke:orange;stroke-width:1\" /><line x1=\"420.0\" y1=\"176.894\" x2=\"380.0\" y2=\"176.894\" stroke-linecap=\"round\" style=\"stroke:orange;stroke-width:1\" /><line x1=\"380.0\" y1=\"176.894\" x2=\"347.639\" y2=\"200.405\" stroke-linecap=\"round\" style=\"stroke:orange;stroke-width:1\" /><line x1=\"347.639\" y1=\"200.405\" x2=\"335.278\" y2=\"238.447\" stroke-linecap=\"round\" style=\"stroke:orange;stroke-width:1\" /><line x1=\"335.278\" y1=\"238.447\" x2=\"347.639\" y2=\"276.489\" stroke-linecap=\"round\" style=\"stroke:orange;stroke-width:1\" /><line x1=\"347.639\" y1=\"276.489\" x2=\"380.0\" y2=\"300.0\" stroke-linecap=\"round\" style=\"stroke:orange;stroke-width:1\" /><line x1=\"380.0\" y1=\"300.0\" x2=\"420.0\" y2=\"300.0\" stroke-linecap=\"round\" style=\"stroke:orange;stroke-width:1\" /><line x1=\"420.0\" y1=\"300.0\" x2=\"452.361\" y2=\"276.489\" stroke-linecap=\"round\" style=\"stroke:orange;stroke-width:1\" /><line x1=\"452.361\" y1=\"276.489\" x2=\"464.722\" y2=\"238.447\" stroke-linecap=\"round\" style=\"stroke:orange;stroke-width:1\" /><line x1=\"464.722\" y1=\"238.447\" x2=\"452.361\" y2=\"200.405\" stroke-linecap=\"round\" style=\"stroke:orange;stroke-width:1\" /><line x1=\"452.361\" y1=\"200.405\" x2=\"420.0\" y2=\"176.894\" stroke-linecap=\"round\" style=\"stroke:orange;stroke-width:1\" /><line x1=\"420.0\" y1=\"176.894\" x2=\"380.0\" y2=\"176.894\" stroke-linecap=\"round\" style=\"stroke:orange;stroke-width:1\" /><line x1=\"380.0\" y1=\"176.894\" x2=\"347.639\" y2=\"200.405\" stroke-linecap=\"round\" style=\"stroke:orange;stroke-width:1\" /><line x1=\"347.639\" y1=\"200.405\" x2=\"335.278\" y2=\"238.447\" stroke-linecap=\"round\" style=\"stroke:orange;stroke-width:1\" /><line x1=\"335.278\" y1=\"238.447\" x2=\"347.639\" y2=\"276.489\" stroke-linecap=\"round\" style=\"stroke:orange;stroke-width:1\" /><line x1=\"347.639\" y1=\"276.489\" x2=\"380.0\" y2=\"300.0\" stroke-linecap=\"round\" style=\"stroke:orange;stroke-width:1\" /><line x1=\"380.0\" y1=\"300.0\" x2=\"420.0\" y2=\"300.0\" stroke-linecap=\"round\" style=\"stroke:orange;stroke-width:1\" /><line x1=\"420.0\" y1=\"300.0\" x2=\"452.361\" y2=\"276.489\" stroke-linecap=\"round\" style=\"stroke:orange;stroke-width:1\" /><line x1=\"452.361\" y1=\"276.489\" x2=\"464.722\" y2=\"238.447\" stroke-linecap=\"round\" style=\"stroke:orange;stroke-width:1\" /><line x1=\"464.722\" y1=\"238.447\" x2=\"452.361\" y2=\"200.405\" stroke-linecap=\"round\" style=\"stroke:orange;stroke-width:1\" /><line x1=\"452.361\" y1=\"200.405\" x2=\"420.0\" y2=\"176.894\" stroke-linecap=\"round\" style=\"stroke:orange;stroke-width:1\" /><line x1=\"420.0\" y1=\"176.894\" x2=\"380.0\" y2=\"176.894\" stroke-linecap=\"round\" style=\"stroke:orange;stroke-width:1\" /><line x1=\"380.0\" y1=\"176.894\" x2=\"347.639\" y2=\"200.405\" stroke-linecap=\"round\" style=\"stroke:orange;stroke-width:1\" /><line x1=\"347.639\" y1=\"200.405\" x2=\"335.278\" y2=\"238.447\" stroke-linecap=\"round\" style=\"stroke:orange;stroke-width:1\" /><line x1=\"335.278\" y1=\"238.447\" x2=\"347.639\" y2=\"276.489\" stroke-linecap=\"round\" style=\"stroke:orange;stroke-width:1\" /><line x1=\"347.639\" y1=\"276.489\" x2=\"380.0\" y2=\"300.0\" stroke-linecap=\"round\" style=\"stroke:orange;stroke-width:1\" /><line x1=\"380.0\" y1=\"300.0\" x2=\"420.0\" y2=\"300.0\" stroke-linecap=\"round\" style=\"stroke:orange;stroke-width:1\" /><line x1=\"420.0\" y1=\"300.0\" x2=\"452.361\" y2=\"276.489\" stroke-linecap=\"round\" style=\"stroke:orange;stroke-width:1\" /><line x1=\"452.361\" y1=\"276.489\" x2=\"464.722\" y2=\"238.447\" stroke-linecap=\"round\" style=\"stroke:orange;stroke-width:1\" /><line x1=\"464.722\" y1=\"238.447\" x2=\"452.361\" y2=\"200.405\" stroke-linecap=\"round\" style=\"stroke:orange;stroke-width:1\" /><line x1=\"452.361\" y1=\"200.405\" x2=\"420.0\" y2=\"176.894\" stroke-linecap=\"round\" style=\"stroke:orange;stroke-width:1\" /><line x1=\"420.0\" y1=\"176.894\" x2=\"380.0\" y2=\"176.894\" stroke-linecap=\"round\" style=\"stroke:orange;stroke-width:1\" /><line x1=\"380.0\" y1=\"176.894\" x2=\"347.639\" y2=\"200.405\" stroke-linecap=\"round\" style=\"stroke:orange;stroke-width:1\" /><line x1=\"347.639\" y1=\"200.405\" x2=\"335.278\" y2=\"238.447\" stroke-linecap=\"round\" style=\"stroke:orange;stroke-width:1\" /><line x1=\"335.278\" y1=\"238.447\" x2=\"347.639\" y2=\"276.489\" stroke-linecap=\"round\" style=\"stroke:orange;stroke-width:1\" /><line x1=\"347.639\" y1=\"276.489\" x2=\"380.0\" y2=\"300.0\" stroke-linecap=\"round\" style=\"stroke:orange;stroke-width:1\" /><line x1=\"380.0\" y1=\"300.0\" x2=\"420.0\" y2=\"300.0\" stroke-linecap=\"round\" style=\"stroke:orange;stroke-width:1\" /><line x1=\"420.0\" y1=\"300.0\" x2=\"452.361\" y2=\"276.489\" stroke-linecap=\"round\" style=\"stroke:orange;stroke-width:1\" /><line x1=\"452.361\" y1=\"276.489\" x2=\"464.722\" y2=\"238.447\" stroke-linecap=\"round\" style=\"stroke:orange;stroke-width:1\" /><line x1=\"464.722\" y1=\"238.447\" x2=\"452.361\" y2=\"200.405\" stroke-linecap=\"round\" style=\"stroke:orange;stroke-width:1\" /><line x1=\"452.361\" y1=\"200.405\" x2=\"420.0\" y2=\"176.894\" stroke-linecap=\"round\" style=\"stroke:orange;stroke-width:1\" /><line x1=\"420.0\" y1=\"176.894\" x2=\"380.0\" y2=\"176.894\" stroke-linecap=\"round\" style=\"stroke:orange;stroke-width:1\" /><line x1=\"380.0\" y1=\"176.894\" x2=\"347.639\" y2=\"200.405\" stroke-linecap=\"round\" style=\"stroke:orange;stroke-width:1\" /><line x1=\"347.639\" y1=\"200.405\" x2=\"335.278\" y2=\"238.447\" stroke-linecap=\"round\" style=\"stroke:orange;stroke-width:1\" /><line x1=\"335.278\" y1=\"238.447\" x2=\"347.639\" y2=\"276.489\" stroke-linecap=\"round\" style=\"stroke:orange;stroke-width:1\" /><line x1=\"347.639\" y1=\"276.489\" x2=\"380.0\" y2=\"300.0\" stroke-linecap=\"round\" style=\"stroke:orange;stroke-width:1\" /><line x1=\"380.0\" y1=\"300.0\" x2=\"420.0\" y2=\"300.0\" stroke-linecap=\"round\" style=\"stroke:orange;stroke-width:1\" /><line x1=\"420.0\" y1=\"300.0\" x2=\"452.361\" y2=\"276.489\" stroke-linecap=\"round\" style=\"stroke:orange;stroke-width:1\" /><line x1=\"452.361\" y1=\"276.489\" x2=\"464.722\" y2=\"238.447\" stroke-linecap=\"round\" style=\"stroke:orange;stroke-width:1\" /><line x1=\"464.722\" y1=\"238.447\" x2=\"452.361\" y2=\"200.405\" stroke-linecap=\"round\" style=\"stroke:orange;stroke-width:1\" /><line x1=\"452.361\" y1=\"200.405\" x2=\"420.0\" y2=\"176.894\" stroke-linecap=\"round\" style=\"stroke:orange;stroke-width:1\" /><line x1=\"420.0\" y1=\"176.894\" x2=\"380.0\" y2=\"176.894\" stroke-linecap=\"round\" style=\"stroke:orange;stroke-width:1\" /><line x1=\"380.0\" y1=\"176.894\" x2=\"347.639\" y2=\"200.405\" stroke-linecap=\"round\" style=\"stroke:orange;stroke-width:1\" /><line x1=\"347.639\" y1=\"200.405\" x2=\"335.278\" y2=\"238.447\" stroke-linecap=\"round\" style=\"stroke:orange;stroke-width:1\" /><line x1=\"335.278\" y1=\"238.447\" x2=\"347.639\" y2=\"276.489\" stroke-linecap=\"round\" style=\"stroke:orange;stroke-width:1\" /><line x1=\"347.639\" y1=\"276.489\" x2=\"380.0\" y2=\"300.0\" stroke-linecap=\"round\" style=\"stroke:orange;stroke-width:1\" /><line x1=\"380.0\" y1=\"300.0\" x2=\"420.0\" y2=\"300.0\" stroke-linecap=\"round\" style=\"stroke:orange;stroke-width:1\" /><line x1=\"420.0\" y1=\"300.0\" x2=\"452.361\" y2=\"276.489\" stroke-linecap=\"round\" style=\"stroke:orange;stroke-width:1\" /><line x1=\"452.361\" y1=\"276.489\" x2=\"464.722\" y2=\"238.447\" stroke-linecap=\"round\" style=\"stroke:orange;stroke-width:1\" /><line x1=\"464.722\" y1=\"238.447\" x2=\"452.361\" y2=\"200.405\" stroke-linecap=\"round\" style=\"stroke:orange;stroke-width:1\" /><line x1=\"452.361\" y1=\"200.405\" x2=\"420.0\" y2=\"176.894\" stroke-linecap=\"round\" style=\"stroke:orange;stroke-width:1\" /><line x1=\"420.0\" y1=\"176.894\" x2=\"380.0\" y2=\"176.894\" stroke-linecap=\"round\" style=\"stroke:orange;stroke-width:1\" /><line x1=\"380.0\" y1=\"176.894\" x2=\"347.639\" y2=\"200.405\" stroke-linecap=\"round\" style=\"stroke:orange;stroke-width:1\" /><line x1=\"347.639\" y1=\"200.405\" x2=\"335.278\" y2=\"238.447\" stroke-linecap=\"round\" style=\"stroke:orange;stroke-width:1\" /><line x1=\"335.278\" y1=\"238.447\" x2=\"347.639\" y2=\"276.489\" stroke-linecap=\"round\" style=\"stroke:orange;stroke-width:1\" /><line x1=\"347.639\" y1=\"276.489\" x2=\"380.0\" y2=\"300.0\" stroke-linecap=\"round\" style=\"stroke:orange;stroke-width:1\" /><line x1=\"380.0\" y1=\"300.0\" x2=\"420.0\" y2=\"300.0\" stroke-linecap=\"round\" style=\"stroke:orange;stroke-width:1\" /><line x1=\"420.0\" y1=\"300.0\" x2=\"452.361\" y2=\"276.489\" stroke-linecap=\"round\" style=\"stroke:orange;stroke-width:1\" /><line x1=\"452.361\" y1=\"276.489\" x2=\"464.722\" y2=\"238.447\" stroke-linecap=\"round\" style=\"stroke:orange;stroke-width:1\" /><line x1=\"464.722\" y1=\"238.447\" x2=\"452.361\" y2=\"200.405\" stroke-linecap=\"round\" style=\"stroke:orange;stroke-width:1\" /><line x1=\"452.361\" y1=\"200.405\" x2=\"420.0\" y2=\"176.894\" stroke-linecap=\"round\" style=\"stroke:orange;stroke-width:1\" /><line x1=\"420.0\" y1=\"176.894\" x2=\"380.0\" y2=\"176.894\" stroke-linecap=\"round\" style=\"stroke:orange;stroke-width:1\" /><line x1=\"380.0\" y1=\"176.894\" x2=\"347.639\" y2=\"200.405\" stroke-linecap=\"round\" style=\"stroke:orange;stroke-width:1\" /><line x1=\"347.639\" y1=\"200.405\" x2=\"335.278\" y2=\"238.447\" stroke-linecap=\"round\" style=\"stroke:orange;stroke-width:1\" /><line x1=\"335.278\" y1=\"238.447\" x2=\"347.639\" y2=\"276.489\" stroke-linecap=\"round\" style=\"stroke:orange;stroke-width:1\" /><line x1=\"347.639\" y1=\"276.489\" x2=\"380.0\" y2=\"300.0\" stroke-linecap=\"round\" style=\"stroke:orange;stroke-width:1\" /><line x1=\"380.0\" y1=\"300.0\" x2=\"420.0\" y2=\"300.0\" stroke-linecap=\"round\" style=\"stroke:orange;stroke-width:1\" /><line x1=\"420.0\" y1=\"300.0\" x2=\"452.361\" y2=\"276.489\" stroke-linecap=\"round\" style=\"stroke:orange;stroke-width:1\" /><line x1=\"452.361\" y1=\"276.489\" x2=\"464.722\" y2=\"238.447\" stroke-linecap=\"round\" style=\"stroke:orange;stroke-width:1\" /><line x1=\"464.722\" y1=\"238.447\" x2=\"452.361\" y2=\"200.405\" stroke-linecap=\"round\" style=\"stroke:orange;stroke-width:1\" /><line x1=\"452.361\" y1=\"200.405\" x2=\"420.0\" y2=\"176.894\" stroke-linecap=\"round\" style=\"stroke:orange;stroke-width:1\" /><line x1=\"420.0\" y1=\"176.894\" x2=\"380.0\" y2=\"176.894\" stroke-linecap=\"round\" style=\"stroke:orange;stroke-width:1\" /><line x1=\"380.0\" y1=\"176.894\" x2=\"347.639\" y2=\"200.405\" stroke-linecap=\"round\" style=\"stroke:orange;stroke-width:1\" /><line x1=\"347.639\" y1=\"200.405\" x2=\"335.278\" y2=\"238.447\" stroke-linecap=\"round\" style=\"stroke:orange;stroke-width:1\" /><line x1=\"335.278\" y1=\"238.447\" x2=\"347.639\" y2=\"276.489\" stroke-linecap=\"round\" style=\"stroke:orange;stroke-width:1\" /><line x1=\"347.639\" y1=\"276.489\" x2=\"380.0\" y2=\"300.0\" stroke-linecap=\"round\" style=\"stroke:orange;stroke-width:1\" /><line x1=\"380.0\" y1=\"300.0\" x2=\"420.0\" y2=\"300.0\" stroke-linecap=\"round\" style=\"stroke:orange;stroke-width:1\" /><line x1=\"420.0\" y1=\"300.0\" x2=\"452.361\" y2=\"276.489\" stroke-linecap=\"round\" style=\"stroke:orange;stroke-width:1\" /><line x1=\"452.361\" y1=\"276.489\" x2=\"464.722\" y2=\"238.447\" stroke-linecap=\"round\" style=\"stroke:orange;stroke-width:1\" /><line x1=\"464.722\" y1=\"238.447\" x2=\"452.361\" y2=\"200.405\" stroke-linecap=\"round\" style=\"stroke:orange;stroke-width:1\" /><line x1=\"452.361\" y1=\"200.405\" x2=\"420.0\" y2=\"176.894\" stroke-linecap=\"round\" style=\"stroke:orange;stroke-width:1\" /><line x1=\"420.0\" y1=\"176.894\" x2=\"380.0\" y2=\"176.894\" stroke-linecap=\"round\" style=\"stroke:orange;stroke-width:1\" /><line x1=\"380.0\" y1=\"176.894\" x2=\"347.639\" y2=\"200.405\" stroke-linecap=\"round\" style=\"stroke:orange;stroke-width:1\" /><line x1=\"347.639\" y1=\"200.405\" x2=\"335.278\" y2=\"238.447\" stroke-linecap=\"round\" style=\"stroke:orange;stroke-width:1\" /><line x1=\"335.278\" y1=\"238.447\" x2=\"347.639\" y2=\"276.489\" stroke-linecap=\"round\" style=\"stroke:orange;stroke-width:1\" /><line x1=\"347.639\" y1=\"276.489\" x2=\"380.0\" y2=\"300.0\" stroke-linecap=\"round\" style=\"stroke:orange;stroke-width:1\" /><line x1=\"380.0\" y1=\"300.0\" x2=\"420.0\" y2=\"300.0\" stroke-linecap=\"round\" style=\"stroke:orange;stroke-width:1\" /><line x1=\"420.0\" y1=\"300.0\" x2=\"452.361\" y2=\"276.489\" stroke-linecap=\"round\" style=\"stroke:orange;stroke-width:1\" /><line x1=\"452.361\" y1=\"276.489\" x2=\"464.722\" y2=\"238.447\" stroke-linecap=\"round\" style=\"stroke:orange;stroke-width:1\" /><line x1=\"464.722\" y1=\"238.447\" x2=\"452.361\" y2=\"200.405\" stroke-linecap=\"round\" style=\"stroke:orange;stroke-width:1\" /><line x1=\"452.361\" y1=\"200.405\" x2=\"420.0\" y2=\"176.894\" stroke-linecap=\"round\" style=\"stroke:orange;stroke-width:1\" /><line x1=\"420.0\" y1=\"176.894\" x2=\"380.0\" y2=\"176.894\" stroke-linecap=\"round\" style=\"stroke:orange;stroke-width:1\" /><line x1=\"380.0\" y1=\"176.894\" x2=\"347.639\" y2=\"200.405\" stroke-linecap=\"round\" style=\"stroke:orange;stroke-width:1\" /><line x1=\"347.639\" y1=\"200.405\" x2=\"335.278\" y2=\"238.447\" stroke-linecap=\"round\" style=\"stroke:orange;stroke-width:1\" /><line x1=\"335.278\" y1=\"238.447\" x2=\"347.639\" y2=\"276.489\" stroke-linecap=\"round\" style=\"stroke:orange;stroke-width:1\" /><line x1=\"347.639\" y1=\"276.489\" x2=\"380.0\" y2=\"300.0\" stroke-linecap=\"round\" style=\"stroke:orange;stroke-width:1\" /><line x1=\"380.0\" y1=\"300.0\" x2=\"420.0\" y2=\"300.0\" stroke-linecap=\"round\" style=\"stroke:orange;stroke-width:1\" /><line x1=\"420.0\" y1=\"300.0\" x2=\"452.361\" y2=\"276.489\" stroke-linecap=\"round\" style=\"stroke:orange;stroke-width:1\" /><line x1=\"452.361\" y1=\"276.489\" x2=\"464.722\" y2=\"238.447\" stroke-linecap=\"round\" style=\"stroke:orange;stroke-width:1\" /><line x1=\"464.722\" y1=\"238.447\" x2=\"452.361\" y2=\"200.405\" stroke-linecap=\"round\" style=\"stroke:orange;stroke-width:1\" /><line x1=\"452.361\" y1=\"200.405\" x2=\"420.0\" y2=\"176.894\" stroke-linecap=\"round\" style=\"stroke:orange;stroke-width:1\" /><line x1=\"420.0\" y1=\"176.894\" x2=\"380.0\" y2=\"176.894\" stroke-linecap=\"round\" style=\"stroke:orange;stroke-width:1\" /><line x1=\"380.0\" y1=\"176.894\" x2=\"347.639\" y2=\"200.405\" stroke-linecap=\"round\" style=\"stroke:orange;stroke-width:1\" /><line x1=\"347.639\" y1=\"200.405\" x2=\"335.278\" y2=\"238.447\" stroke-linecap=\"round\" style=\"stroke:orange;stroke-width:1\" /><line x1=\"335.278\" y1=\"238.447\" x2=\"347.639\" y2=\"276.489\" stroke-linecap=\"round\" style=\"stroke:orange;stroke-width:1\" /><line x1=\"347.639\" y1=\"276.489\" x2=\"380.0\" y2=\"300.0\" stroke-linecap=\"round\" style=\"stroke:orange;stroke-width:1\" /><line x1=\"380.0\" y1=\"300.0\" x2=\"420.0\" y2=\"300.0\" stroke-linecap=\"round\" style=\"stroke:orange;stroke-width:1\" /><line x1=\"420.0\" y1=\"300.0\" x2=\"452.361\" y2=\"276.489\" stroke-linecap=\"round\" style=\"stroke:orange;stroke-width:1\" /><line x1=\"452.361\" y1=\"276.489\" x2=\"464.722\" y2=\"238.447\" stroke-linecap=\"round\" style=\"stroke:orange;stroke-width:1\" /><line x1=\"464.722\" y1=\"238.447\" x2=\"452.361\" y2=\"200.405\" stroke-linecap=\"round\" style=\"stroke:orange;stroke-width:1\" /><line x1=\"452.361\" y1=\"200.405\" x2=\"420.0\" y2=\"176.894\" stroke-linecap=\"round\" style=\"stroke:orange;stroke-width:1\" /><line x1=\"420.0\" y1=\"176.894\" x2=\"380.0\" y2=\"176.894\" stroke-linecap=\"round\" style=\"stroke:orange;stroke-width:1\" /><line x1=\"380.0\" y1=\"176.894\" x2=\"347.639\" y2=\"200.405\" stroke-linecap=\"round\" style=\"stroke:orange;stroke-width:1\" /><line x1=\"347.639\" y1=\"200.405\" x2=\"335.278\" y2=\"238.447\" stroke-linecap=\"round\" style=\"stroke:orange;stroke-width:1\" /><line x1=\"335.278\" y1=\"238.447\" x2=\"347.639\" y2=\"276.489\" stroke-linecap=\"round\" style=\"stroke:orange;stroke-width:1\" /><line x1=\"347.639\" y1=\"276.489\" x2=\"380.0\" y2=\"300.0\" stroke-linecap=\"round\" style=\"stroke:orange;stroke-width:1\" /><line x1=\"380.0\" y1=\"300.0\" x2=\"420.0\" y2=\"300.0\" stroke-linecap=\"round\" style=\"stroke:orange;stroke-width:1\" /><line x1=\"420.0\" y1=\"300.0\" x2=\"452.361\" y2=\"276.489\" stroke-linecap=\"round\" style=\"stroke:orange;stroke-width:1\" /><line x1=\"452.361\" y1=\"276.489\" x2=\"464.722\" y2=\"238.447\" stroke-linecap=\"round\" style=\"stroke:orange;stroke-width:1\" /><line x1=\"464.722\" y1=\"238.447\" x2=\"452.361\" y2=\"200.405\" stroke-linecap=\"round\" style=\"stroke:orange;stroke-width:1\" /><line x1=\"452.361\" y1=\"200.405\" x2=\"420.0\" y2=\"176.894\" stroke-linecap=\"round\" style=\"stroke:orange;stroke-width:1\" /><line x1=\"420.0\" y1=\"176.894\" x2=\"380.0\" y2=\"176.894\" stroke-linecap=\"round\" style=\"stroke:orange;stroke-width:1\" /><line x1=\"380.0\" y1=\"176.894\" x2=\"347.639\" y2=\"200.405\" stroke-linecap=\"round\" style=\"stroke:orange;stroke-width:1\" /><line x1=\"347.639\" y1=\"200.405\" x2=\"335.278\" y2=\"238.447\" stroke-linecap=\"round\" style=\"stroke:orange;stroke-width:1\" /><line x1=\"335.278\" y1=\"238.447\" x2=\"347.639\" y2=\"276.489\" stroke-linecap=\"round\" style=\"stroke:orange;stroke-width:1\" /><line x1=\"347.639\" y1=\"276.489\" x2=\"380.0\" y2=\"300.0\" stroke-linecap=\"round\" style=\"stroke:orange;stroke-width:1\" /><line x1=\"380.0\" y1=\"300.0\" x2=\"420.0\" y2=\"300.0\" stroke-linecap=\"round\" style=\"stroke:orange;stroke-width:1\" /><line x1=\"420.0\" y1=\"300.0\" x2=\"452.361\" y2=\"276.489\" stroke-linecap=\"round\" style=\"stroke:orange;stroke-width:1\" /><line x1=\"452.361\" y1=\"276.489\" x2=\"464.722\" y2=\"238.447\" stroke-linecap=\"round\" style=\"stroke:orange;stroke-width:1\" /><line x1=\"464.722\" y1=\"238.447\" x2=\"452.361\" y2=\"200.405\" stroke-linecap=\"round\" style=\"stroke:orange;stroke-width:1\" /><line x1=\"452.361\" y1=\"200.405\" x2=\"420.0\" y2=\"176.894\" stroke-linecap=\"round\" style=\"stroke:orange;stroke-width:1\" /><line x1=\"420.0\" y1=\"176.894\" x2=\"380.0\" y2=\"176.894\" stroke-linecap=\"round\" style=\"stroke:orange;stroke-width:1\" /><line x1=\"380.0\" y1=\"176.894\" x2=\"347.639\" y2=\"200.405\" stroke-linecap=\"round\" style=\"stroke:orange;stroke-width:1\" /><line x1=\"347.639\" y1=\"200.405\" x2=\"335.278\" y2=\"238.447\" stroke-linecap=\"round\" style=\"stroke:orange;stroke-width:1\" /><line x1=\"335.278\" y1=\"238.447\" x2=\"347.639\" y2=\"276.489\" stroke-linecap=\"round\" style=\"stroke:orange;stroke-width:1\" /><line x1=\"347.639\" y1=\"276.489\" x2=\"380.0\" y2=\"300.0\" stroke-linecap=\"round\" style=\"stroke:orange;stroke-width:1\" /><line x1=\"380.0\" y1=\"300.0\" x2=\"420.0\" y2=\"300.0\" stroke-linecap=\"round\" style=\"stroke:orange;stroke-width:1\" /><line x1=\"420.0\" y1=\"300.0\" x2=\"452.361\" y2=\"276.489\" stroke-linecap=\"round\" style=\"stroke:orange;stroke-width:1\" /><line x1=\"452.361\" y1=\"276.489\" x2=\"464.722\" y2=\"238.447\" stroke-linecap=\"round\" style=\"stroke:orange;stroke-width:1\" /><line x1=\"464.722\" y1=\"238.447\" x2=\"452.361\" y2=\"200.405\" stroke-linecap=\"round\" style=\"stroke:orange;stroke-width:1\" /><line x1=\"452.361\" y1=\"200.405\" x2=\"444.27083005625053\" y2=\"194.52714747707526\" stroke-linecap=\"round\" style=\"stroke:orange;stroke-width:1\" /><line x1=\"444.27083005625053\" y1=\"194.52714747707526\" x2=\"436.1806601125011\" y2=\"188.64929495415052\" stroke-linecap=\"round\" style=\"stroke:orange;stroke-width:1\" /><line x1=\"436.1806601125011\" y1=\"188.64929495415052\" x2=\"428.0904901687516\" y2=\"182.77144243122578\" stroke-linecap=\"round\" style=\"stroke:orange;stroke-width:1\" />\n",
              "        \n",
              "        \n",
              "        <g id=\"turtle\" visibility=\"visible\" transform=\"rotate(306.0,428.0904901687516,182.77144243122578) translate(428.0904901687516, 182.77144243122578)\">\n",
              "<path style=\"stroke:orange;fill-rule:evenodd;fill:orange;fill-opacity:1;\" transform=\"skewX(0) scale(1,1)\" d=\"m 1.1536693,-18.56101 c -2.105469,1.167969 -3.203125,3.441407 -3.140625,6.5 l 0.011719,0.519532 -0.300782,-0.15625 c -1.308594,-0.671875 -2.828125,-0.824219 -4.378906,-0.429688 -1.9375,0.484375 -3.8906253,2.089844 -6.0117193,4.9257825 -1.332031,1.785156 -1.714843,2.644531 -1.351562,3.035156 l 0.113281,0.125 h 0.363281 c 0.71875,0 1.308594,-0.265625 4.6679693,-2.113282 1.199219,-0.660156 2.183594,-1.199218 2.191406,-1.199218 0.00781,0 -0.023437,0.089844 -0.074218,0.195312 -0.472657,1.058594 -1.046876,2.785156 -1.335938,4.042969 -1.054688,4.574219 -0.351562,8.453125 2.101562,11.582031 0.28125,0.355469 0.292969,0.253906 -0.097656,0.722656 -2.046875,2.4609375 -3.027344,4.8984375 -2.734375,6.8046875 0.050781,0.339844 0.042969,0.335938 0.679688,0.335938 2.023437,0 4.15625,-1.316407 6.21875,-3.835938 0.222656,-0.269531 0.191406,-0.261719 0.425781,-0.113281 0.730469,0.46875 2.460938,1.390625 2.613281,1.390625 0.160157,0 1.765625,-0.753906 2.652344,-1.246094 0.167969,-0.09375 0.308594,-0.164062 0.308594,-0.160156 0.066406,0.105468 0.761719,0.855468 1.085937,1.171875 1.613282,1.570312 3.339844,2.402343 5.3593747,2.570312 0.324219,0.02734 0.355469,0.0078 0.425781,-0.316406 0.375,-1.742187 -0.382812,-4.058594 -2.1445307,-6.5585935 l -0.320312,-0.457031 0.15625,-0.183594 c 3.2460927,-3.824218 3.4335927,-9.08593704 0.558593,-15.816406 l -0.050781,-0.125 1.7382807,0.859375 c 3.585938,1.773437 4.371094,2.097656 5.085938,2.097656 0.945312,0 0.75,-0.863281 -0.558594,-2.507812 C 11.458356,-11.838353 8.3333563,-13.268041 4.8607003,-11.721166 l -0.363281,0.164063 0.019531,-0.09375 c 0.121094,-0.550781 0.183594,-1.800781 0.121094,-2.378907 -0.203125,-1.867187 -1.035157,-3.199218 -2.695313,-4.308593 -0.523437,-0.351563 -0.546875,-0.355469 -0.789062,-0.222657\" />\n",
              "</g>\n",
              "      </svg>\n",
              "    "
            ],
            "text/plain": [
              "<IPython.core.display.HTML object>"
            ]
          },
          "metadata": {},
          "output_type": "display_data"
        },
        {
          "ename": "KeyboardInterrupt",
          "evalue": "",
          "output_type": "error",
          "traceback": [
            "\u001b[0;31m---------------------------------------------------------------------------\u001b[0m",
            "\u001b[0;31mKeyboardInterrupt\u001b[0m                         Traceback (most recent call last)",
            "\u001b[1;32m/workspaces/Fall-2023-files/ClassActivities/Week04/1-Monday.ipynb Cell 15\u001b[0m line \u001b[0;36m1\n\u001b[1;32m     <a href='vscode-notebook-cell://codespaces%2Bupgraded-telegram-979w7qq7gxg4f99xq/workspaces/Fall-2023-files/ClassActivities/Week04/1-Monday.ipynb#X20sdnNjb2RlLXJlbW90ZQ%3D%3D?line=13'>14</a>\u001b[0m       polygon(sides, size\u001b[39m=\u001b[39m\u001b[39m40\u001b[39m)\n\u001b[1;32m     <a href='vscode-notebook-cell://codespaces%2Bupgraded-telegram-979w7qq7gxg4f99xq/workspaces/Fall-2023-files/ClassActivities/Week04/1-Monday.ipynb#X20sdnNjb2RlLXJlbW90ZQ%3D%3D?line=14'>15</a>\u001b[0m   \u001b[39m#Fill in the function\u001b[39;00m\n\u001b[1;32m     <a href='vscode-notebook-cell://codespaces%2Bupgraded-telegram-979w7qq7gxg4f99xq/workspaces/Fall-2023-files/ClassActivities/Week04/1-Monday.ipynb#X20sdnNjb2RlLXJlbW90ZQ%3D%3D?line=15'>16</a>\u001b[0m \n\u001b[1;32m     <a href='vscode-notebook-cell://codespaces%2Bupgraded-telegram-979w7qq7gxg4f99xq/workspaces/Fall-2023-files/ClassActivities/Week04/1-Monday.ipynb#X20sdnNjb2RlLXJlbW90ZQ%3D%3D?line=16'>17</a>\u001b[0m \u001b[39m#Call the function\u001b[39;00m\n\u001b[0;32m---> <a href='vscode-notebook-cell://codespaces%2Bupgraded-telegram-979w7qq7gxg4f99xq/workspaces/Fall-2023-files/ClassActivities/Week04/1-Monday.ipynb#X20sdnNjb2RlLXJlbW90ZQ%3D%3D?line=17'>18</a>\u001b[0m polygon(\u001b[39m10\u001b[39;49m, \u001b[39m20\u001b[39;49m)\n",
            "\u001b[1;32m/workspaces/Fall-2023-files/ClassActivities/Week04/1-Monday.ipynb Cell 15\u001b[0m line \u001b[0;36m1\n\u001b[1;32m     <a href='vscode-notebook-cell://codespaces%2Bupgraded-telegram-979w7qq7gxg4f99xq/workspaces/Fall-2023-files/ClassActivities/Week04/1-Monday.ipynb#X20sdnNjb2RlLXJlbW90ZQ%3D%3D?line=11'>12</a>\u001b[0m Tracy\u001b[39m.\u001b[39mleft(\u001b[39m360\u001b[39m\u001b[39m/\u001b[39msides)\n\u001b[1;32m     <a href='vscode-notebook-cell://codespaces%2Bupgraded-telegram-979w7qq7gxg4f99xq/workspaces/Fall-2023-files/ClassActivities/Week04/1-Monday.ipynb#X20sdnNjb2RlLXJlbW90ZQ%3D%3D?line=12'>13</a>\u001b[0m \u001b[39mif\u001b[39;00m counter \u001b[39m<\u001b[39m \u001b[39m2\u001b[39m\u001b[39m*\u001b[39msides:\n\u001b[0;32m---> <a href='vscode-notebook-cell://codespaces%2Bupgraded-telegram-979w7qq7gxg4f99xq/workspaces/Fall-2023-files/ClassActivities/Week04/1-Monday.ipynb#X20sdnNjb2RlLXJlbW90ZQ%3D%3D?line=13'>14</a>\u001b[0m     polygon(sides, size\u001b[39m=\u001b[39;49m\u001b[39m40\u001b[39;49m)\n",
            "\u001b[1;32m/workspaces/Fall-2023-files/ClassActivities/Week04/1-Monday.ipynb Cell 15\u001b[0m line \u001b[0;36m1\n\u001b[1;32m     <a href='vscode-notebook-cell://codespaces%2Bupgraded-telegram-979w7qq7gxg4f99xq/workspaces/Fall-2023-files/ClassActivities/Week04/1-Monday.ipynb#X20sdnNjb2RlLXJlbW90ZQ%3D%3D?line=11'>12</a>\u001b[0m Tracy\u001b[39m.\u001b[39mleft(\u001b[39m360\u001b[39m\u001b[39m/\u001b[39msides)\n\u001b[1;32m     <a href='vscode-notebook-cell://codespaces%2Bupgraded-telegram-979w7qq7gxg4f99xq/workspaces/Fall-2023-files/ClassActivities/Week04/1-Monday.ipynb#X20sdnNjb2RlLXJlbW90ZQ%3D%3D?line=12'>13</a>\u001b[0m \u001b[39mif\u001b[39;00m counter \u001b[39m<\u001b[39m \u001b[39m2\u001b[39m\u001b[39m*\u001b[39msides:\n\u001b[0;32m---> <a href='vscode-notebook-cell://codespaces%2Bupgraded-telegram-979w7qq7gxg4f99xq/workspaces/Fall-2023-files/ClassActivities/Week04/1-Monday.ipynb#X20sdnNjb2RlLXJlbW90ZQ%3D%3D?line=13'>14</a>\u001b[0m     polygon(sides, size\u001b[39m=\u001b[39;49m\u001b[39m40\u001b[39;49m)\n",
            "    \u001b[0;31m[... skipping similar frames: polygon at line 14 (291 times)]\u001b[0m\n",
            "\u001b[1;32m/workspaces/Fall-2023-files/ClassActivities/Week04/1-Monday.ipynb Cell 15\u001b[0m line \u001b[0;36m1\n\u001b[1;32m     <a href='vscode-notebook-cell://codespaces%2Bupgraded-telegram-979w7qq7gxg4f99xq/workspaces/Fall-2023-files/ClassActivities/Week04/1-Monday.ipynb#X20sdnNjb2RlLXJlbW90ZQ%3D%3D?line=11'>12</a>\u001b[0m Tracy\u001b[39m.\u001b[39mleft(\u001b[39m360\u001b[39m\u001b[39m/\u001b[39msides)\n\u001b[1;32m     <a href='vscode-notebook-cell://codespaces%2Bupgraded-telegram-979w7qq7gxg4f99xq/workspaces/Fall-2023-files/ClassActivities/Week04/1-Monday.ipynb#X20sdnNjb2RlLXJlbW90ZQ%3D%3D?line=12'>13</a>\u001b[0m \u001b[39mif\u001b[39;00m counter \u001b[39m<\u001b[39m \u001b[39m2\u001b[39m\u001b[39m*\u001b[39msides:\n\u001b[0;32m---> <a href='vscode-notebook-cell://codespaces%2Bupgraded-telegram-979w7qq7gxg4f99xq/workspaces/Fall-2023-files/ClassActivities/Week04/1-Monday.ipynb#X20sdnNjb2RlLXJlbW90ZQ%3D%3D?line=13'>14</a>\u001b[0m     polygon(sides, size\u001b[39m=\u001b[39;49m\u001b[39m40\u001b[39;49m)\n",
            "\u001b[1;32m/workspaces/Fall-2023-files/ClassActivities/Week04/1-Monday.ipynb Cell 15\u001b[0m line \u001b[0;36m1\n\u001b[1;32m     <a href='vscode-notebook-cell://codespaces%2Bupgraded-telegram-979w7qq7gxg4f99xq/workspaces/Fall-2023-files/ClassActivities/Week04/1-Monday.ipynb#X20sdnNjb2RlLXJlbW90ZQ%3D%3D?line=9'>10</a>\u001b[0m \u001b[39mdef\u001b[39;00m \u001b[39mpolygon\u001b[39m(sides, size, counter\u001b[39m=\u001b[39m\u001b[39m1\u001b[39m):\n\u001b[0;32m---> <a href='vscode-notebook-cell://codespaces%2Bupgraded-telegram-979w7qq7gxg4f99xq/workspaces/Fall-2023-files/ClassActivities/Week04/1-Monday.ipynb#X20sdnNjb2RlLXJlbW90ZQ%3D%3D?line=10'>11</a>\u001b[0m   Tracy\u001b[39m.\u001b[39;49mforward(size)\n\u001b[1;32m     <a href='vscode-notebook-cell://codespaces%2Bupgraded-telegram-979w7qq7gxg4f99xq/workspaces/Fall-2023-files/ClassActivities/Week04/1-Monday.ipynb#X20sdnNjb2RlLXJlbW90ZQ%3D%3D?line=11'>12</a>\u001b[0m   Tracy\u001b[39m.\u001b[39mleft(\u001b[39m360\u001b[39m\u001b[39m/\u001b[39msides)\n\u001b[1;32m     <a href='vscode-notebook-cell://codespaces%2Bupgraded-telegram-979w7qq7gxg4f99xq/workspaces/Fall-2023-files/ClassActivities/Week04/1-Monday.ipynb#X20sdnNjb2RlLXJlbW90ZQ%3D%3D?line=12'>13</a>\u001b[0m   \u001b[39mif\u001b[39;00m counter \u001b[39m<\u001b[39m \u001b[39m2\u001b[39m\u001b[39m*\u001b[39msides:\n",
            "File \u001b[0;32m~/.python/current/lib/python3.10/site-packages/ColabTurtlePlus/Turtle.py:862\u001b[0m, in \u001b[0;36mRawTurtle.forward\u001b[0;34m(self, units)\u001b[0m\n\u001b[1;32m    860\u001b[0m alpha \u001b[39m=\u001b[39m math\u001b[39m.\u001b[39mradians(\u001b[39mself\u001b[39m\u001b[39m.\u001b[39mturtle_degree)\n\u001b[1;32m    861\u001b[0m new_pos \u001b[39m=\u001b[39m (\u001b[39mself\u001b[39m\u001b[39m.\u001b[39mturtle_pos[\u001b[39m0\u001b[39m] \u001b[39m+\u001b[39m units \u001b[39m*\u001b[39m \u001b[39mself\u001b[39m\u001b[39m.\u001b[39mscreen\u001b[39m.\u001b[39mxscale \u001b[39m*\u001b[39m math\u001b[39m.\u001b[39mcos(alpha), \u001b[39mself\u001b[39m\u001b[39m.\u001b[39mturtle_pos[\u001b[39m1\u001b[39m] \u001b[39m+\u001b[39m units \u001b[39m*\u001b[39m \u001b[39mabs\u001b[39m(\u001b[39mself\u001b[39m\u001b[39m.\u001b[39mscreen\u001b[39m.\u001b[39myscale) \u001b[39m*\u001b[39m math\u001b[39m.\u001b[39msin(alpha))\n\u001b[0;32m--> 862\u001b[0m \u001b[39mself\u001b[39;49m\u001b[39m.\u001b[39;49mscreen\u001b[39m.\u001b[39;49m_moveToNewPosition(new_pos,units, turtle\u001b[39m=\u001b[39;49m\u001b[39mself\u001b[39;49m)\n",
            "File \u001b[0;32m~/.python/current/lib/python3.10/site-packages/ColabTurtlePlus/Turtle.py:364\u001b[0m, in \u001b[0;36m_Screen._moveToNewPosition\u001b[0;34m(self, new_pos, units, turtle)\u001b[0m\n\u001b[1;32m    355\u001b[0m             turtle\u001b[39m.\u001b[39msvg_lines_string \u001b[39m+\u001b[39m\u001b[39m=\u001b[39m \\\n\u001b[1;32m    356\u001b[0m \u001b[39m            \u001b[39m\u001b[39m\"\"\"<line x1=\"{x1}\" y1=\"{y1}\" x2=\"{x2}\" y2=\"{y2}\" stroke-linecap=\"round\" style=\"stroke:{pcolor};stroke-width:{pwidth}\" />\"\"\"\u001b[39;00m\u001b[39m.\u001b[39mformat(\n\u001b[1;32m    357\u001b[0m                 x1\u001b[39m=\u001b[39minitial_pos[\u001b[39m0\u001b[39m],\n\u001b[0;32m   (...)\u001b[0m\n\u001b[1;32m    361\u001b[0m                 pcolor\u001b[39m=\u001b[39mturtle\u001b[39m.\u001b[39mpen_color, \n\u001b[1;32m    362\u001b[0m                 pwidth\u001b[39m=\u001b[39mturtle\u001b[39m.\u001b[39mpen_width) \n\u001b[1;32m    363\u001b[0m         initial_pos \u001b[39m=\u001b[39m turtle\u001b[39m.\u001b[39mturtle_pos\n\u001b[0;32m--> 364\u001b[0m         \u001b[39mself\u001b[39;49m\u001b[39m.\u001b[39;49m_updateDrawing(turtle\u001b[39m=\u001b[39;49mturtle)\n\u001b[1;32m    365\u001b[0m         units \u001b[39m-\u001b[39m\u001b[39m=\u001b[39m dunits\n\u001b[1;32m    366\u001b[0m \u001b[39melse\u001b[39;00m:\n\u001b[1;32m    367\u001b[0m     \u001b[39m# world mode with aspect ratio of axes different than aspect ratio of the window\u001b[39;00m\n",
            "File \u001b[0;32m~/.python/current/lib/python3.10/site-packages/ColabTurtlePlus/Turtle.py:327\u001b[0m, in \u001b[0;36m_Screen._updateDrawing\u001b[0;34m(self, turtle, delay)\u001b[0m\n\u001b[1;32m    325\u001b[0m         \u001b[39mself\u001b[39m\u001b[39m.\u001b[39mdrawing_window\u001b[39m.\u001b[39mupdate(HTML(\u001b[39mself\u001b[39m\u001b[39m.\u001b[39m_generateSvgDrawing()))         \n\u001b[1;32m    326\u001b[0m         \u001b[39mif\u001b[39;00m delay:\n\u001b[0;32m--> 327\u001b[0m             time\u001b[39m.\u001b[39;49msleep(turtle\u001b[39m.\u001b[39;49mtimeout)\n\u001b[1;32m    328\u001b[0m \u001b[39melse\u001b[39;00m:\n\u001b[1;32m    329\u001b[0m     \u001b[39mself\u001b[39m\u001b[39m.\u001b[39mdrawing_window\u001b[39m.\u001b[39mupdate(HTML(\u001b[39mself\u001b[39m\u001b[39m.\u001b[39m_generateSvgDrawing()))\n",
            "\u001b[0;31mKeyboardInterrupt\u001b[0m: "
          ]
        }
      ],
      "source": [
        "### SETUP ###\n",
        "clearscreen()\n",
        "Sandbox = Screen()\n",
        "Tracy = Turtle()\n",
        "Sandbox.bgcolor(10, 20, 20)\n",
        "Tracy.shape(\"turtle\")\n",
        "Tracy.color(\"orange\")\n",
        "### END SETUP ###\n",
        "\n",
        "def polygon(sides, size, counter=1):\n",
        "  Tracy.forward(size)\n",
        "  Tracy.left(360/sides)\n",
        "  if counter < 2*sides:\n",
        "      polygon(sides, size=40)\n",
        "  #Fill in the function\n",
        "\n",
        "#Call the function\n",
        "polygon(10, 20)"
      ]
    },
    {
      "cell_type": "markdown",
      "metadata": {},
      "source": [
        "Just for fun, see what happens if you modify `sides` or `size` when you tell Tracy to \"repeat\".  Could you draw a cool spiral?"
      ]
    },
    {
      "cell_type": "code",
      "execution_count": null,
      "metadata": {},
      "outputs": [],
      "source": [
        "### SETUP ###\n",
        "clearscreen()\n",
        "Sandbox = Screen()\n",
        "Tracy = Turtle()\n",
        "Sandbox.bgcolor(30, 10, 0)\n",
        "Tracy.shape(\"turtle\")\n",
        "Tracy.color(\"orange\")\n",
        "### END SETUP ###\n",
        "\n",
        "def spiral():\n",
        "  pass\n",
        "  #Fill in the function\n",
        "\n",
        "#Call the function\n",
        "spiral()"
      ]
    },
    {
      "cell_type": "markdown",
      "metadata": {},
      "source": [
        "### Fractals!\n",
        "\n",
        "Try executing the code below:"
      ]
    },
    {
      "cell_type": "code",
      "execution_count": 6,
      "metadata": {},
      "outputs": [
        {
          "data": {
            "text/html": [
              "\n",
              "      <svg width=\"800\" height=\"600\">  \n",
              "        <rect width=\"100%\" height=\"100%\" style=\"fill:rgb(14,81,53);stroke:;stroke-width:1\"/>\n",
              "        \n",
              "        \n",
              "        <line x1=\"250.0\" y1=\"400.0\" x2=\"325.0\" y2=\"400.0\" stroke-linecap=\"round\" style=\"stroke:rgb(212,206,70);stroke-width:1\" /><line x1=\"325.0\" y1=\"400.0\" x2=\"287.5\" y2=\"335.048\" stroke-linecap=\"round\" style=\"stroke:rgb(212,206,70);stroke-width:1\" /><line x1=\"287.5\" y1=\"335.048\" x2=\"250.0\" y2=\"400.0\" stroke-linecap=\"round\" style=\"stroke:rgb(212,206,70);stroke-width:1\" /><line x1=\"400.0\" y1=\"400.0\" x2=\"362.5\" y2=\"335.048\" stroke-linecap=\"round\" style=\"stroke:rgb(212,206,70);stroke-width:1\" /><line x1=\"362.5\" y1=\"335.048\" x2=\"325.0\" y2=\"400.0\" stroke-linecap=\"round\" style=\"stroke:rgb(212,206,70);stroke-width:1\" /><line x1=\"325.0\" y1=\"400.0\" x2=\"400.0\" y2=\"400.0\" stroke-linecap=\"round\" style=\"stroke:rgb(212,206,70);stroke-width:1\" /><line x1=\"325.0\" y1=\"270.096\" x2=\"287.5\" y2=\"335.048\" stroke-linecap=\"round\" style=\"stroke:rgb(212,206,70);stroke-width:1\" /><line x1=\"287.5\" y1=\"335.048\" x2=\"362.5\" y2=\"335.048\" stroke-linecap=\"round\" style=\"stroke:rgb(212,206,70);stroke-width:1\" /><line x1=\"362.5\" y1=\"335.048\" x2=\"325.0\" y2=\"270.096\" stroke-linecap=\"round\" style=\"stroke:rgb(212,206,70);stroke-width:1\" />\n",
              "        \n",
              "        \n",
              "        <g id=\"triangle\" visibility=\"visible\" transform=\"rotate(-90,490.0,400.0) translate(490.0, 400.0)\">\n",
              "<polygon points=\"10,-8.66 0,8.66 -10,-8.66\" transform=\"skewX(0) scale(1,1)\" style=\"stroke:rgb(212,206,70);fill:rgb(212,206,70);stroke-width:1\" />\n",
              "</g>\n",
              "      </svg>\n",
              "    "
            ],
            "text/plain": [
              "<IPython.core.display.HTML object>"
            ]
          },
          "metadata": {},
          "output_type": "display_data"
        }
      ],
      "source": [
        "### SETUP ###\n",
        "clearscreen()\n",
        "Sandbox = Screen()\n",
        "Tracy = Turtle()\n",
        "Sandbox.bgcolor(14,81,53)\n",
        "Tracy.shape(\"triangle\")\n",
        "Tracy.color(212,206,70)\n",
        "### END SETUP ###\n",
        "\n",
        "Tracy.speed(100)\n",
        "def triangle(sidelength, sidecount=0):\n",
        "  if sidecount < 3:\n",
        "    Tracy.pendown()\n",
        "    Tracy.forward(sidelength)\n",
        "    Tracy.left(120)\n",
        "    triangle(sidelength, sidecount+1)\n",
        "\n",
        "def triforce(size,depth,counter=0):\n",
        "  if counter < depth:\n",
        "    triforce(size/2, depth, counter+1)\n",
        "    Tracy.penup()\n",
        "    Tracy.forward(size*2)\n",
        "    Tracy.left(120)\n",
        "    triforce(size/2, depth, counter+1)\n",
        "    Tracy.penup()\n",
        "    Tracy.forward(size*2)\n",
        "    Tracy.left(120)\n",
        "    triforce(size/2, depth, counter+1)\n",
        "    Tracy.penup()\n",
        "    Tracy.forward(size*2)\n",
        "    Tracy.left(120)\n",
        "  else:\n",
        "    triangle(size*2)\n",
        "\n",
        "\n",
        "#change start position to center image\n",
        "Tracy.penup()\n",
        "Tracy.goto(-150,-100)\n",
        "triforce(150,2)"
      ]
    },
    {
      "cell_type": "markdown",
      "metadata": {},
      "source": [
        "Part of what makes the code above complicated is that we are calling the function recursively three times inside itself. To see what is going on better, let's look at one that only calls itself once each time through."
      ]
    },
    {
      "cell_type": "code",
      "execution_count": 9,
      "metadata": {},
      "outputs": [
        {
          "data": {
            "text/html": [
              "\n",
              "      <svg width=\"800\" height=\"600\">  \n",
              "        <rect width=\"100%\" height=\"100%\" style=\"fill:rgb(0,0,0);stroke:;stroke-width:1\"/>\n",
              "        \n",
              "        \n",
              "        <path d=\"M 400.0 300.0 A 0.390625 0.390625 0 0 0 400.276 299.886\" stroke-linecap=\"round\" \n",
              "            fill=\"transparent\" fill-opacity=\"0\" style=\"stroke:pink;stroke-width:1\"/><path d=\"M 400.276 299.886 A 0.390625 0.390625 0 0 0 399.724 299.334\" stroke-linecap=\"round\" \n",
              "            fill=\"transparent\" fill-opacity=\"0\" style=\"stroke:pink;stroke-width:1\"/><path d=\"M 399.724 299.334 A 0.390625 0.390625 0 0 0 400.276 299.886\" stroke-linecap=\"round\" \n",
              "            fill=\"transparent\" fill-opacity=\"0\" style=\"stroke:pink;stroke-width:1\"/><path d=\"M 400.276 299.886 A 0.78125 0.78125 0 0 0 400.505 299.334\" stroke-linecap=\"round\" \n",
              "            fill=\"transparent\" fill-opacity=\"0\" style=\"stroke:pink;stroke-width:1\"/><path d=\"M 400.505 299.334 A 0.78125 0.78125 0 0 0 398.942 299.334\" stroke-linecap=\"round\" \n",
              "            fill=\"transparent\" fill-opacity=\"0\" style=\"stroke:pink;stroke-width:1\"/><path d=\"M 398.942 299.334 A 0.78125 0.78125 0 0 0 400.505 299.334\" stroke-linecap=\"round\" \n",
              "            fill=\"transparent\" fill-opacity=\"0\" style=\"stroke:pink;stroke-width:1\"/><path d=\"M 400.505 299.334 A 1.5625 1.5625 0 0 0 400.047 298.229\" stroke-linecap=\"round\" \n",
              "            fill=\"transparent\" fill-opacity=\"0\" style=\"stroke:pink;stroke-width:1\"/><path d=\"M 400.047 298.229 A 1.5625 1.5625 0 0 0 397.837 300.439\" stroke-linecap=\"round\" \n",
              "            fill=\"transparent\" fill-opacity=\"0\" style=\"stroke:pink;stroke-width:1\"/><path d=\"M 397.837 300.439 A 1.5625 1.5625 0 0 0 400.047 298.229\" stroke-linecap=\"round\" \n",
              "            fill=\"transparent\" fill-opacity=\"0\" style=\"stroke:pink;stroke-width:1\"/><path d=\"M 400.047 298.229 A 3.125 3.125 0 0 0 397.837 297.314\" stroke-linecap=\"round\" \n",
              "            fill=\"transparent\" fill-opacity=\"0\" style=\"stroke:pink;stroke-width:1\"/><path d=\"M 397.837 297.314 A 3.125 3.125 0 0 0 397.837 303.564\" stroke-linecap=\"round\" \n",
              "            fill=\"transparent\" fill-opacity=\"0\" style=\"stroke:pink;stroke-width:1\"/><path d=\"M 397.837 303.564 A 3.125 3.125 0 0 0 397.837 297.314\" stroke-linecap=\"round\" \n",
              "            fill=\"transparent\" fill-opacity=\"0\" style=\"stroke:pink;stroke-width:1\"/><path d=\"M 397.837 297.314 A 6.25 6.25 0 0 0 393.418 299.145\" stroke-linecap=\"round\" \n",
              "            fill=\"transparent\" fill-opacity=\"0\" style=\"stroke:pink;stroke-width:1\"/><path d=\"M 393.418 299.145 A 6.25 6.25 0 0 0 402.257 307.984\" stroke-linecap=\"round\" \n",
              "            fill=\"transparent\" fill-opacity=\"0\" style=\"stroke:pink;stroke-width:1\"/><path d=\"M 402.257 307.984 A 6.25 6.25 0 0 0 393.418 299.145\" stroke-linecap=\"round\" \n",
              "            fill=\"transparent\" fill-opacity=\"0\" style=\"stroke:pink;stroke-width:1\"/><path d=\"M 393.418 299.145 A 12.5 12.5 0 0 0 389.757 307.984\" stroke-linecap=\"round\" \n",
              "            fill=\"transparent\" fill-opacity=\"0\" style=\"stroke:pink;stroke-width:1\"/><path d=\"M 389.757 307.984 A 12.5 12.5 0 0 0 414.757 307.984\" stroke-linecap=\"round\" \n",
              "            fill=\"transparent\" fill-opacity=\"0\" style=\"stroke:pink;stroke-width:1\"/><path d=\"M 414.757 307.984 A 12.5 12.5 0 0 0 389.757 307.984\" stroke-linecap=\"round\" \n",
              "            fill=\"transparent\" fill-opacity=\"0\" style=\"stroke:pink;stroke-width:1\"/><path d=\"M 389.757 307.984 A 25.0 25.0 0 0 0 397.079 325.662\" stroke-linecap=\"round\" \n",
              "            fill=\"transparent\" fill-opacity=\"0\" style=\"stroke:pink;stroke-width:1\"/><path d=\"M 397.079 325.662 A 25.0 25.0 0 0 0 432.434 290.307\" stroke-linecap=\"round\" \n",
              "            fill=\"transparent\" fill-opacity=\"0\" style=\"stroke:pink;stroke-width:1\"/><path d=\"M 432.434 290.307 A 25.0 25.0 0 0 0 397.079 325.662\" stroke-linecap=\"round\" \n",
              "            fill=\"transparent\" fill-opacity=\"0\" style=\"stroke:pink;stroke-width:1\"/><path d=\"M 397.079 325.662 A 50.0 50.0 0 0 0 432.434 340.307\" stroke-linecap=\"round\" \n",
              "            fill=\"transparent\" fill-opacity=\"0\" style=\"stroke:pink;stroke-width:1\"/><path d=\"M 432.434 340.307 A 50.0 50.0 0 0 0 432.434 240.307\" stroke-linecap=\"round\" \n",
              "            fill=\"transparent\" fill-opacity=\"0\" style=\"stroke:pink;stroke-width:1\"/><path d=\"M 432.434 240.307 A 50.0 50.0 0 0 0 432.434 340.307\" stroke-linecap=\"round\" \n",
              "            fill=\"transparent\" fill-opacity=\"0\" style=\"stroke:pink;stroke-width:1\"/><path d=\"M 432.434 340.307 A 100.0 100.0 0 0 0 503.145 311.018\" stroke-linecap=\"round\" \n",
              "            fill=\"transparent\" fill-opacity=\"0\" style=\"stroke:pink;stroke-width:1\"/><path d=\"M 503.145 311.018 A 100.0 100.0 0 0 0 361.724 169.597\" stroke-linecap=\"round\" \n",
              "            fill=\"transparent\" fill-opacity=\"0\" style=\"stroke:pink;stroke-width:1\"/><path d=\"M 361.724 169.597 A 100.0 100.0 0 0 0 503.145 311.018\" stroke-linecap=\"round\" \n",
              "            fill=\"transparent\" fill-opacity=\"0\" style=\"stroke:pink;stroke-width:1\"/><path d=\"M 503.145 311.018 A 200 200 0 0 0 561.724 169.597\" stroke-linecap=\"round\" \n",
              "            fill=\"transparent\" fill-opacity=\"0\" style=\"stroke:pink;stroke-width:1\"/><path d=\"M 561.724 169.597 A 200 200 0 0 0 554.909 117.833\" stroke-linecap=\"round\" \n",
              "            fill=\"transparent\" fill-opacity=\"0\" style=\"stroke:pink;stroke-width:1\"/><path d=\"M 554.909 117.833 A 200 200 0 0 0 534.929 69.597\" stroke-linecap=\"round\" \n",
              "            fill=\"transparent\" fill-opacity=\"0\" style=\"stroke:pink;stroke-width:1\"/><path d=\"M 534.929 69.597 A 200 200 0 0 0 503.145 28.176\" stroke-linecap=\"round\" \n",
              "            fill=\"transparent\" fill-opacity=\"0\" style=\"stroke:pink;stroke-width:1\"/><path d=\"M 503.145 28.176 A 200 200 0 0 0 461.724 -3.608\" stroke-linecap=\"round\" \n",
              "            fill=\"transparent\" fill-opacity=\"0\" style=\"stroke:pink;stroke-width:1\"/><path d=\"M 461.724 -3.608 A 200 200 0 0 0 413.488 -23.588\" stroke-linecap=\"round\" \n",
              "            fill=\"transparent\" fill-opacity=\"0\" style=\"stroke:pink;stroke-width:1\"/><path d=\"M 413.488 -23.588 A 200 200 0 0 0 361.724 -30.403\" stroke-linecap=\"round\" \n",
              "            fill=\"transparent\" fill-opacity=\"0\" style=\"stroke:pink;stroke-width:1\"/><path d=\"M 361.724 -30.403 A 200 200 0 0 0 309.96 -23.588\" stroke-linecap=\"round\" \n",
              "            fill=\"transparent\" fill-opacity=\"0\" style=\"stroke:pink;stroke-width:1\"/><path d=\"M 309.96 -23.588 A 200 200 0 0 0 261.724 -3.608\" stroke-linecap=\"round\" \n",
              "            fill=\"transparent\" fill-opacity=\"0\" style=\"stroke:pink;stroke-width:1\"/><path d=\"M 261.724 -3.608 A 200 200 0 0 0 220.303 28.176\" stroke-linecap=\"round\" \n",
              "            fill=\"transparent\" fill-opacity=\"0\" style=\"stroke:pink;stroke-width:1\"/><path d=\"M 220.303 28.176 A 200 200 0 0 0 188.519 69.597\" stroke-linecap=\"round\" \n",
              "            fill=\"transparent\" fill-opacity=\"0\" style=\"stroke:pink;stroke-width:1\"/><path d=\"M 188.519 69.597 A 200 200 0 0 0 168.539 117.833\" stroke-linecap=\"round\" \n",
              "            fill=\"transparent\" fill-opacity=\"0\" style=\"stroke:pink;stroke-width:1\"/><path d=\"M 168.539 117.833 A 200 200 0 0 0 161.724 169.597\" stroke-linecap=\"round\" \n",
              "            fill=\"transparent\" fill-opacity=\"0\" style=\"stroke:pink;stroke-width:1\"/><path d=\"M 161.724 169.597 A 200 200 0 0 0 168.539 221.361\" stroke-linecap=\"round\" \n",
              "            fill=\"transparent\" fill-opacity=\"0\" style=\"stroke:pink;stroke-width:1\"/><path d=\"M 168.539 221.361 A 200 200 0 0 0 188.519 269.597\" stroke-linecap=\"round\" \n",
              "            fill=\"transparent\" fill-opacity=\"0\" style=\"stroke:pink;stroke-width:1\"/><path d=\"M 188.519 269.597 A 200 200 0 0 0 220.303 311.018\" stroke-linecap=\"round\" \n",
              "            fill=\"transparent\" fill-opacity=\"0\" style=\"stroke:pink;stroke-width:1\"/><path d=\"M 220.303 311.018 A 200 200 0 0 0 261.724 342.802\" stroke-linecap=\"round\" \n",
              "            fill=\"transparent\" fill-opacity=\"0\" style=\"stroke:pink;stroke-width:1\"/><path d=\"M 261.724 342.802 A 200 200 0 0 0 309.96 362.782\" stroke-linecap=\"round\" \n",
              "            fill=\"transparent\" fill-opacity=\"0\" style=\"stroke:pink;stroke-width:1\"/><path d=\"M 309.96 362.782 A 200 200 0 0 0 361.724 369.597\" stroke-linecap=\"round\" \n",
              "            fill=\"transparent\" fill-opacity=\"0\" style=\"stroke:pink;stroke-width:1\"/><path d=\"M 361.724 369.597 A 200 200 0 0 0 413.488 362.782\" stroke-linecap=\"round\" \n",
              "            fill=\"transparent\" fill-opacity=\"0\" style=\"stroke:pink;stroke-width:1\"/><path d=\"M 413.488 362.782 A 200 200 0 0 0 461.724 342.802\" stroke-linecap=\"round\" \n",
              "            fill=\"transparent\" fill-opacity=\"0\" style=\"stroke:pink;stroke-width:1\"/><path d=\"M 461.724 342.802 A 200 200 0 0 0 503.145 311.018\" stroke-linecap=\"round\" \n",
              "            fill=\"transparent\" fill-opacity=\"0\" style=\"stroke:pink;stroke-width:1\"/><path d=\"M 503.145 311.018 A 200 200 0 0 0 534.929 269.597\" stroke-linecap=\"round\" \n",
              "            fill=\"transparent\" fill-opacity=\"0\" style=\"stroke:pink;stroke-width:1\"/><path d=\"M 534.929 269.597 A 200 200 0 0 0 554.909 221.361\" stroke-linecap=\"round\" \n",
              "            fill=\"transparent\" fill-opacity=\"0\" style=\"stroke:pink;stroke-width:1\"/><path d=\"M 554.909 221.361 A 200 200 0 0 0 561.724 169.597\" stroke-linecap=\"round\" \n",
              "            fill=\"transparent\" fill-opacity=\"0\" style=\"stroke:pink;stroke-width:1\"/>\n",
              "        \n",
              "        \n",
              "        <g id=\"turtle\" visibility=\"visible\" transform=\"rotate(360.0,561.724,169.597) translate(561.724, 169.597)\">\n",
              "<path style=\"stroke:pink;fill-rule:evenodd;fill:pink;fill-opacity:1;\" transform=\"skewX(0) scale(1,1)\" d=\"m 1.1536693,-18.56101 c -2.105469,1.167969 -3.203125,3.441407 -3.140625,6.5 l 0.011719,0.519532 -0.300782,-0.15625 c -1.308594,-0.671875 -2.828125,-0.824219 -4.378906,-0.429688 -1.9375,0.484375 -3.8906253,2.089844 -6.0117193,4.9257825 -1.332031,1.785156 -1.714843,2.644531 -1.351562,3.035156 l 0.113281,0.125 h 0.363281 c 0.71875,0 1.308594,-0.265625 4.6679693,-2.113282 1.199219,-0.660156 2.183594,-1.199218 2.191406,-1.199218 0.00781,0 -0.023437,0.089844 -0.074218,0.195312 -0.472657,1.058594 -1.046876,2.785156 -1.335938,4.042969 -1.054688,4.574219 -0.351562,8.453125 2.101562,11.582031 0.28125,0.355469 0.292969,0.253906 -0.097656,0.722656 -2.046875,2.4609375 -3.027344,4.8984375 -2.734375,6.8046875 0.050781,0.339844 0.042969,0.335938 0.679688,0.335938 2.023437,0 4.15625,-1.316407 6.21875,-3.835938 0.222656,-0.269531 0.191406,-0.261719 0.425781,-0.113281 0.730469,0.46875 2.460938,1.390625 2.613281,1.390625 0.160157,0 1.765625,-0.753906 2.652344,-1.246094 0.167969,-0.09375 0.308594,-0.164062 0.308594,-0.160156 0.066406,0.105468 0.761719,0.855468 1.085937,1.171875 1.613282,1.570312 3.339844,2.402343 5.3593747,2.570312 0.324219,0.02734 0.355469,0.0078 0.425781,-0.316406 0.375,-1.742187 -0.382812,-4.058594 -2.1445307,-6.5585935 l -0.320312,-0.457031 0.15625,-0.183594 c 3.2460927,-3.824218 3.4335927,-9.08593704 0.558593,-15.816406 l -0.050781,-0.125 1.7382807,0.859375 c 3.585938,1.773437 4.371094,2.097656 5.085938,2.097656 0.945312,0 0.75,-0.863281 -0.558594,-2.507812 C 11.458356,-11.838353 8.3333563,-13.268041 4.8607003,-11.721166 l -0.363281,0.164063 0.019531,-0.09375 c 0.121094,-0.550781 0.183594,-1.800781 0.121094,-2.378907 -0.203125,-1.867187 -1.035157,-3.199218 -2.695313,-4.308593 -0.523437,-0.351563 -0.546875,-0.355469 -0.789062,-0.222657\" />\n",
              "</g>\n",
              "      </svg>\n",
              "    "
            ],
            "text/plain": [
              "<IPython.core.display.HTML object>"
            ]
          },
          "metadata": {},
          "output_type": "display_data"
        }
      ],
      "source": [
        "### SETUP ###\n",
        "clearscreen()\n",
        "Sandbox = Screen()\n",
        "Tracy = Turtle()\n",
        "Sandbox.bgcolor(0, 0, 0)\n",
        "Tracy.shape(\"turtle\")\n",
        "Tracy.color(\"pink\")\n",
        "### END SETUP ###\n",
        "\n",
        "Tracy.speed(10)\n",
        "def circles(size, depth, counter=0):\n",
        "  if counter < depth:\n",
        "    circles(0.5*size, depth, counter+1)\n",
        "    # \"stamp\" so we can see where the circle starts\n",
        "    # Tracy.stamp()\n",
        "    # Move start to a quarter way around a circle\n",
        "    Tracy.circle(size,45)\n",
        "    # Draw a circle\n",
        "    Tracy.circle(size)\n",
        "\n",
        "\n",
        "circles(200,10)"
      ]
    },
    {
      "cell_type": "markdown",
      "metadata": {},
      "source": [
        "## What's next?  \n",
        "\n",
        "Let's add a little color.  Can we write a function that colors the sides of a polygon with three colors, repeating in sequence?  How can we control that?"
      ]
    }
  ],
  "metadata": {
    "colab": {
      "include_colab_link": true,
      "provenance": []
    },
    "kernelspec": {
      "display_name": "Python 3",
      "name": "python3"
    },
    "language_info": {
      "codemirror_mode": {
        "name": "ipython",
        "version": 3
      },
      "file_extension": ".py",
      "mimetype": "text/x-python",
      "name": "python",
      "nbconvert_exporter": "python",
      "pygments_lexer": "ipython3",
      "version": "3.10.8"
    }
  },
  "nbformat": 4,
  "nbformat_minor": 0
}
