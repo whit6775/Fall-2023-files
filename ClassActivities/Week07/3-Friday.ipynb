{
  "cells": [
    {
      "cell_type": "markdown",
      "metadata": {},
      "source": [
        "# Friday, October 6\n",
        "\n",
        "## Announcements and Reminders\n",
        "- Exam 1 is graded.  View feedback through GradeScope.\n",
        "- Read chapter 8 for Monday's class.  Really.\n"
      ]
    },
    {
      "cell_type": "markdown",
      "metadata": {},
      "source": [
        "## Activity: Playing with String(s)\n",
        "\n",
        "So far, almost everything we have done with python has involved manipulating numbers.  In the next few weeks, we will consider how python uses other *data types*, especially those that that you can *iterate* over.  Today, we will start with strings.\n",
        "\n",
        "### Motivating question\n",
        "\n",
        "Run the code in the cell below. \n",
        "\n",
        "You will see a list of short scrabble words, and a list of long scrabble words.  The question: in the scrabble dictionary, are there more short words (4 or fewer letters) or long words (15 letters)?\n"
      ]
    },
    {
      "cell_type": "code",
      "execution_count": null,
      "metadata": {},
      "outputs": [],
      "source": [
        "from wordData import LONGWORDS, SHORTWORDS\n",
        "\n",
        "print(\"Here is a list of all of the 2, 3, and 4 letter words that you can play in scrabble:\\n\")\n",
        "print(SHORTWORDS)\n",
        "print(\"\\n\")\n",
        "print(\"And here is a list of all the longest words (15 letters) you can play:\\n\")\n",
        "print(LONGWORDS)"
      ]
    },
    {
      "cell_type": "markdown",
      "metadata": {},
      "source": [
        "In our case, the short words are stored as a string in the variable `SHORTWORDS` and the long words as a string in `LONGWORDS`.  We will manipulate these strings to get information from them.  But we need some tools."
      ]
    },
    {
      "cell_type": "markdown",
      "metadata": {},
      "source": [
        "### Tools for strings\n",
        "\n",
        "Before exploring `SHORTWORDS` and `LONGWORDS`, let's learn some of the basic tools python provides for working with strings.  For each code cell below, run the cell, then modify some things until you are confident in what the new tool does."
      ]
    },
    {
      "cell_type": "code",
      "execution_count": null,
      "metadata": {},
      "outputs": [],
      "source": [
        "s = \"Mississippi\"\n",
        "print(s[3])\n",
        "print(s[-3])"
      ]
    },
    {
      "cell_type": "markdown",
      "metadata": {},
      "source": [
        "What does `s[n]` do for a string `s` and an integer `n`?  \n",
        "\n",
        "Answer:"
      ]
    },
    {
      "cell_type": "code",
      "execution_count": null,
      "metadata": {},
      "outputs": [],
      "source": [
        "s = \"Ventriloquially\"\n",
        "print(s[3:7])\n",
        "print(s[1:-3])\n",
        "print(s[:5])\n",
        "print(s[5:])"
      ]
    },
    {
      "cell_type": "markdown",
      "metadata": {},
      "source": [
        "What does `s[a:b]` do?  (This is called a string \"slice\".)\n",
        "\n",
        "Answer:"
      ]
    },
    {
      "cell_type": "code",
      "execution_count": null,
      "metadata": {},
      "outputs": [],
      "source": [
        "s = \"Bow ties are cool!\"\n",
        "print(len(s))"
      ]
    },
    {
      "cell_type": "markdown",
      "metadata": {},
      "source": [
        "What does `len(s)` do for a string `s`?\n",
        "\n",
        "Answer:"
      ]
    },
    {
      "cell_type": "code",
      "execution_count": null,
      "metadata": {},
      "outputs": [],
      "source": [
        "s = \"Juxtapositional\"\n",
        "for x in range(len(s)):\n",
        "  print(x)"
      ]
    },
    {
      "cell_type": "markdown",
      "metadata": {},
      "source": [
        "Does the code above do what you expect?  Briefly explain what is happening.\n",
        "\n",
        "Explanation:\n",
        "\n",
        "----\n",
        "\n",
        "Next, compare to the code below."
      ]
    },
    {
      "cell_type": "code",
      "execution_count": null,
      "metadata": {},
      "outputs": [],
      "source": [
        "s = \"Meaninglessness\"\n",
        "for x in s:\n",
        "  print(x)"
      ]
    },
    {
      "cell_type": "markdown",
      "metadata": {},
      "source": [
        "So now we have two ways to *loop through a string*.\n",
        "\n",
        "-----\n",
        "The previous example used the word `in`, which works as part of a `for` loop, but also can be used to produce a True/False (Boolean) result:"
      ]
    },
    {
      "cell_type": "code",
      "execution_count": null,
      "metadata": {},
      "outputs": [],
      "source": [
        "s = \"Neuroscientific\"\n",
        "if 'cie' in s:\n",
        "  print(\"Well, I guess the whole 'ie' except after 'c' things is bogus\")\n",
        "else:\n",
        "  print(\"Nope\")"
      ]
    },
    {
      "cell_type": "markdown",
      "metadata": {},
      "source": [
        "When will `t in s` return True for strings `t` and `s`?  Be as specific as possible.\n",
        "\n",
        "Answer:\n",
        "\n",
        "----\n",
        "\n",
        "The `in` relation is one way to compare strings.  You can compare them other ways as well.  Do the comparisons below make sense?"
      ]
    },
    {
      "cell_type": "code",
      "execution_count": null,
      "metadata": {},
      "outputs": [],
      "source": [
        "s1 = \"nonexplosiveness\"\n",
        "s2 = \"Nonflammibility\"\n",
        "\n",
        "print(s1 == s2)\n",
        "print(s1 < s2)"
      ]
    },
    {
      "cell_type": "markdown",
      "metadata": {},
      "source": [
        "Explain how `==` and `<` (and also `!=`, `>`, `<=`, `>=`) work with strings.\n",
        "\n",
        "Answer:\n"
      ]
    },
    {
      "cell_type": "markdown",
      "metadata": {},
      "source": [
        "### Back to our main question\n",
        "\n",
        "How many 15-letter words can you play in scrabble?  These are all stored in the string `LONGWORDS`.\n",
        "\n",
        "How many 2-letter words can you play in scrabble?  We have a string of all 2-, 3-, and 4-letter words called `SHORTWORDS`.\n",
        "\n",
        "Think about how you could extract answers to these questions.  **First think about what you would do if you had to do it by hand.**\n",
        "\n",
        "Then try to use the tools and methods we have explored today, as well as any loops and conditionals we have learned about previously, to get your answers."
      ]
    },
    {
      "cell_type": "code",
      "execution_count": null,
      "metadata": {},
      "outputs": [],
      "source": []
    },
    {
      "cell_type": "markdown",
      "metadata": {},
      "source": [
        "### More questions\n",
        "\n",
        "Here are some other things you might try to deduce:\n",
        "\n",
        "1. If you wanted to play a 4-letter word, and had the letters `a, a, q, s, i, h, z` on your tray, what 4-letter words could you play (to start the game)?\n",
        "\n",
        "2. Which 15-letter word has the most repeated letters?  Which 15-letter word has the most unique letters?\n",
        "\n",
        "3. Which word in scrabble is worth the largest number of points?  (This would require knowing the point value of the letters, of course.)\n"
      ]
    }
  ],
  "metadata": {
    "colab": {
      "include_colab_link": true,
      "provenance": []
    },
    "kernelspec": {
      "display_name": "Python 3",
      "name": "python3"
    },
    "language_info": {
      "codemirror_mode": {
        "name": "ipython",
        "version": 3
      },
      "file_extension": ".py",
      "mimetype": "text/x-python",
      "name": "python",
      "nbconvert_exporter": "python",
      "pygments_lexer": "ipython3",
      "version": "3.10.8"
    }
  },
  "nbformat": 4,
  "nbformat_minor": 0
}
