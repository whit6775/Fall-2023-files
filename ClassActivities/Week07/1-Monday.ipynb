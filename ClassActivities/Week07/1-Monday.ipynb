{
  "cells": [
    {
      "cell_type": "markdown",
      "metadata": {},
      "source": [
        "# Monday, October 2\n",
        "\n",
        "## Announcements and Reminders\n",
        "- Deadline for makeup-quizzes: Today at 1pm\n",
        "- Review session: Tuesday 2-3:30 in this room\n",
        "- Exam 1: Wednesday, October 4 (in class)\n",
        "  - Take home due Friday October 6\n"
      ]
    },
    {
      "cell_type": "markdown",
      "metadata": {},
      "source": [
        "## Today's Class: Review\n",
        "\n",
        "Question about the review guide?"
      ]
    },
    {
      "cell_type": "markdown",
      "metadata": {},
      "source": [
        "### A few big ideas\n",
        "\n",
        "In case we need some inspiration for question to ask for review purposes, we can try the following.\n",
        "\n",
        "#### If-and-or-else\n",
        "\n",
        "Suppose you wanted to check whether a string contained one or more specific letters.  \n",
        "\n",
        "It turns out that python provides a special keyword `in` that can be helpful.\n",
        "In the context of strings, the expression `\"s\" in \"abc\"` would evaluate to the boolean value of `False`, while `\"b\" in \"abc\"` evaluates to `True`.\n",
        "\n",
        "Use this to write a function that determines whether its input string contains any \"a\"s."
      ]
    },
    {
      "cell_type": "code",
      "execution_count": null,
      "metadata": {},
      "outputs": [],
      "source": [
        "def has_a(teststring):\n",
        "  \"\"\"\n",
        "  Returns True if teststring has an 'a' in it, False otherwise\n",
        "  \"\"\"\n",
        "  pass"
      ]
    },
    {
      "cell_type": "markdown",
      "metadata": {},
      "source": [
        "Now for the fun: modify the function above to test whether the `teststring` contains an \"a\" or an \"e\". \n",
        "\n",
        "Then modify the function to test whether the input contains both an \"a\" and an \"e\".\n",
        "\n",
        "What if we want to check whether the string contains an \"a\" or an \"e\" but not both?"
      ]
    },
    {
      "cell_type": "markdown",
      "metadata": {},
      "source": [
        "#### Loops:\n",
        "\n",
        "Say we wanted to discover not *whether* a string contains a particular letter, but *how many* of that letter it contains.  What can we do?"
      ]
    },
    {
      "cell_type": "code",
      "execution_count": null,
      "metadata": {},
      "outputs": [],
      "source": [
        "def vowel_count(teststring):\n",
        "  \"\"\"\n",
        "  Returns the number of vowels in teststring\n",
        "  \"\"\"\n",
        "  pass"
      ]
    },
    {
      "cell_type": "markdown",
      "metadata": {},
      "source": [
        "#### When to use `while`\n",
        "\n",
        "Suppose you wanted to investigate the famous \"Harmonic Series\": the infinite sum,\n",
        "$$1+\\frac{1}{2} + \\frac{1}{3} + \\frac{1}{4} + \\frac{1}{5} + \\cdots$$\n",
        "\n",
        "What does it even mean to add up infinitely many numbers?  Take Calculus 2 to find out!  But in this case, we can say if we add up the first $n$ terms of the series, we get a number $H_n$, called the $n$-th **harmonic number**.  As $n$ gets larger, $H_n$ gets closer and closer to the infinite sum.\n",
        "\n",
        "Let's do this by writing a function that computes the $n$-th harmonic number."
      ]
    },
    {
      "cell_type": "code",
      "execution_count": null,
      "metadata": {},
      "outputs": [],
      "source": [
        "def harmonic(n):\n",
        "  \"\"\"\n",
        "  Returns the nth harmonic number\n",
        "  \"\"\"\n",
        "  pass"
      ]
    },
    {
      "cell_type": "markdown",
      "metadata": {},
      "source": [
        "How large do the harmonic numbers get?  Is there a harmonic number larger than 3?  Larger than 4?  Larger than 5?  Larger than 6?  Larger than 7?  Larger than 8?  Larger than 9?  Larger than 10?  Larger than 11?  Larger than 12?  Larger than 13?  Larger than 14?  Larger than 15?  Larger than 16?  Larger than 17?  Larger than 18?  Larger than 19?  Larger than 20?  Larger than 21?  Larger than 22?  Larger than 23?  Larger than 24?  Larger than 25?  Larger than 26?  Larger than 27?  Larger than 28?  Larger than 29?  Larger than 30?  Larger than 31?  Larger than 32?  Larger than 33?  Larger than 34?  Larger than 35?  Larger than 36?  Larger than 37?  Larger than 38?  Larger than 39?  Larger than 40?  Larger than 41?  Larger than 42?  Larger than 43?  Larger than 44?  Larger than 45?  Larger than 46?  Larger than 47?  Larger than 48?  Larger than 49?  Larger than 50?  Larger than 51?  Larger than 52?  Larger than 53?  Larger than 54?  Larger than 55?  Larger than 56?  Larger than 57?  Larger than 58?  Larger than 59?  Larger than 60?  Larger than 61?  Larger than 62?  Larger than 63?  Larger than 64?  Larger than 65?  Larger than 66?  Larger than 67?  Larger than 68?  Larger than 69?  Larger than 70?  Larger than 71?  Larger than 72?  Larger than 73?  Larger than 74?  Larger than 75?  Larger than 76?  Larger than 77?  Larger than 78?  Larger than 79?  Larger than 80?  Larger than 81?  Larger than 82?  Larger than 83?  Larger than 84?  Larger than 85?  Larger than 86? \n",
        "\n",
        "(thanks chatGPT for the text above)\n",
        "\n",
        "How could we find out?  Should we use the function we defined above?  Why or why not?"
      ]
    },
    {
      "cell_type": "markdown",
      "metadata": {},
      "source": [
        "#### Another case for `while`\n",
        "\n",
        "Let's create a python function whose only job is to give us square roots.  Lots of them.  Over and over.  Until we tell it to stop. \n",
        "\n",
        "That is, once we start our program, it will prompt us for a number, and then print out the square root.  It will then prompt us for another number, and print out the square root.  And so on.  If we ever enter \"stop\", it will stop.\n",
        "\n",
        "(Write this function out in a standalone file.)"
      ]
    },
    {
      "cell_type": "markdown",
      "metadata": {},
      "source": [
        "#### Fun with recursion\n",
        "\n",
        "How many times can you divide a number in half before you get a fraction?  For example, 8 can be divided in half 3 times before we get a fraction: $8 \\to 4 \\to 2 \\to 1$.  But 18 can only be divided in half once: $18 \\to 9$, since $9 /2 = 4.5$."
      ]
    }
  ],
  "metadata": {
    "colab": {
      "include_colab_link": true,
      "provenance": []
    },
    "kernelspec": {
      "display_name": "Python 3",
      "name": "python3"
    },
    "language_info": {
      "codemirror_mode": {
        "name": "ipython",
        "version": 3
      },
      "file_extension": ".py",
      "mimetype": "text/x-python",
      "name": "python",
      "nbconvert_exporter": "python",
      "pygments_lexer": "ipython3",
      "version": "3.10.8"
    }
  },
  "nbformat": 4,
  "nbformat_minor": 0
}
