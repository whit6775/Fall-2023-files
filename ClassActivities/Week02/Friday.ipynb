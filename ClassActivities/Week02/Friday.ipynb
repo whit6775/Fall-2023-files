{
  "cells": [
    {
      "cell_type": "markdown",
      "metadata": {
        "id": "NYiRI0CLDVQQ"
      },
      "source": [
        "# Friday, September 1\n",
        "Today we will introduce the concept of a **function** in python.  After the quiz.\n",
        "\n",
        "#### Announcements/Reminders\n",
        "- Reading for Chapter 4 due Wednesday before class.\n",
        "- *Programming Assignment 1* is due Wednesday at 11:59pm.\n",
        "- Catch up on anything you are behind on.  If grades don't look correct in Canvas, let me know.\n"
      ]
    },
    {
      "cell_type": "markdown",
      "metadata": {},
      "source": [
        "### Questions?"
      ]
    },
    {
      "cell_type": "markdown",
      "metadata": {
        "id": "hLj-dXhKD0Tb"
      },
      "source": [
        "## Today's Activity: Functions in python\n",
        "\n",
        "A feature of almost every programming language is the ability to define a function.  But what do we even mean by \"function\"?\n",
        "\n",
        "To start to understand how python uses functions, let's consider a few examples.  Execute the code below and see if you can figure out what it does.\n"
      ]
    },
    {
      "cell_type": "code",
      "execution_count": null,
      "metadata": {},
      "outputs": [],
      "source": [
        "message = input(\"Write a short message\")\n",
        "L = len(message)\n",
        "print(L)"
      ]
    },
    {
      "cell_type": "code",
      "execution_count": null,
      "metadata": {},
      "outputs": [],
      "source": [
        "message = input(\"Write a short message\")\n",
        "w = message.split()\n",
        "print(len(w))"
      ]
    },
    {
      "cell_type": "code",
      "execution_count": null,
      "metadata": {},
      "outputs": [],
      "source": [
        "def isEven(n):\n",
        "  n = int(n)\n",
        "  if n % 2 == 0:\n",
        "    print(str(n) + \" is even.\")\n",
        "  else:\n",
        "    print(str(n) + \" is odd.\")\n",
        "\n",
        "\n",
        "num = input(\"Type in any whole number. \")\n",
        "isEven(num)"
      ]
    },
    {
      "cell_type": "code",
      "execution_count": null,
      "metadata": {},
      "outputs": [],
      "source": [
        "def isEven(n):\n",
        "  n = int(n)\n",
        "  if n % 2 == 0:\n",
        "    return True\n",
        "  else:\n",
        "    return False\n",
        "\n",
        "\n",
        "num = input(\"Type in any whole number. \")\n",
        "print(\"It is \" + str(isEven(num)) + \" that \" + num + \" is even.\")"
      ]
    },
    {
      "cell_type": "markdown",
      "metadata": {},
      "source": [
        "The last two examples show how to *define* our own functions in python.  This can be useful for many reasons, but one of those is that it helps us organize our code. \n",
        "\n",
        "Consider the python script below.  Define a few functions to make the program much easier to understand."
      ]
    },
    {
      "cell_type": "code",
      "execution_count": null,
      "metadata": {},
      "outputs": [],
      "source": [
        "\n",
        "print(\" n | f(n) \")\n",
        "print(\"--------\")\n",
        "print(\" 1 | \"+ str(1**2 - 3))\n",
        "print(\" 2 | \"+ str(2**2 - 3))\n",
        "print(\" 3 | \"+ str(3**2 - 3))\n",
        "print(\" 4 | \"+ str(4**2 - 3))\n",
        "print(\" 5 | \"+ str(5**2 - 3))"
      ]
    }
  ],
  "metadata": {
    "colab": {
      "provenance": []
    },
    "kernelspec": {
      "display_name": "Python 3",
      "name": "python3"
    },
    "language_info": {
      "codemirror_mode": {
        "name": "ipython",
        "version": 3
      },
      "file_extension": ".py",
      "mimetype": "text/x-python",
      "name": "python",
      "nbconvert_exporter": "python",
      "pygments_lexer": "ipython3",
      "version": "3.10.8"
    }
  },
  "nbformat": 4,
  "nbformat_minor": 0
}
