{
  "cells": [
    {
      "cell_type": "markdown",
      "metadata": {},
      "source": [
        "# Wednesday, November 1\n",
        "\n",
        "## Announcements and Reminders\n",
        "\n",
        "- Next Project Check-in: Friday\n",
        "- Programming Assignment 5: Next Friday (but start NOW)\n"
      ]
    },
    {
      "cell_type": "markdown",
      "metadata": {},
      "source": [
        "## Activity: Sorting a Database... with tuples!\n",
        "\n",
        "Let's ***finish our*** movie database project by implementing a sorting feature.  \n",
        "\n",
        "Last time we saw how python compares tuples: first comparing the elements in position 1, then if their is a tie, comparing position 2, and so on.  If we have *list* of tuples, then we can use the `.sort()` method on that list to reorder the list so that each tuple is less than the next one.\n",
        "\n",
        "We also know that from a dictionary we can extract a list of tuples.  The question is how do we connect these."
      ]
    },
    {
      "cell_type": "markdown",
      "metadata": {},
      "source": [
        "Let's start by once again loading our movie database:"
      ]
    },
    {
      "cell_type": "code",
      "execution_count": null,
      "metadata": {},
      "outputs": [],
      "source": [
        "import csv\n",
        "\n",
        "# Open the file\n",
        "with open('../Week10/imdb.csv', 'r') as f:\n",
        "  # Use the csv library to read the data\n",
        "  data = list(csv.reader(f))\n",
        "\n",
        "# create a list of dictionaries, where each dictionary is a single movie\n",
        "moviedb = []\n",
        "for row in range(1,len(data)):\n",
        "  movie = {}\n",
        "  for col in range(len(data[0])):\n",
        "    movie[data[0][col]] = data[row][col]\n",
        "  moviedb.append(movie)\n",
        "\n",
        "# print one movie to see an example\n",
        "print(moviedb[3977])"
      ]
    },
    {
      "cell_type": "markdown",
      "metadata": {},
      "source": [
        "Let's decide on how we want to sort the movies.  What is most important?  What is next most important?\n",
        "\n",
        "For each movie, we want to create a tuple with these *values* in order."
      ]
    },
    {
      "cell_type": "code",
      "execution_count": null,
      "metadata": {},
      "outputs": [],
      "source": []
    },
    {
      "cell_type": "markdown",
      "metadata": {},
      "source": [
        "We can create a list of all the tuples, and use python to sort that list.  But how do we get the original movie database to be sorted the same way?\n",
        "\n",
        "The idea is to use our tuples as a **key** to do the sorting of the original list of dictionaries."
      ]
    },
    {
      "cell_type": "code",
      "execution_count": null,
      "metadata": {},
      "outputs": [],
      "source": []
    }
  ],
  "metadata": {
    "colab": {
      "include_colab_link": true,
      "provenance": []
    },
    "kernelspec": {
      "display_name": "Python 3",
      "name": "python3"
    },
    "language_info": {
      "codemirror_mode": {
        "name": "ipython",
        "version": 3
      },
      "file_extension": ".py",
      "mimetype": "text/x-python",
      "name": "python",
      "nbconvert_exporter": "python",
      "pygments_lexer": "ipython3",
      "version": "3.10.8"
    }
  },
  "nbformat": 4,
  "nbformat_minor": 0
}
