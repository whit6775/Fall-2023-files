{
  "cells": [
    {
      "cell_type": "markdown",
      "metadata": {},
      "source": [
        "# Monday, October 30\n",
        "\n",
        "## Announcements and Reminders\n",
        "\n",
        "- Read Chapter 11 (due Wednesday)\n",
        "- Next Project Check-in: Friday\n",
        "- Programming Assignment 5: Next Friday (but start NOW)\n"
      ]
    },
    {
      "cell_type": "markdown",
      "metadata": {},
      "source": [
        "## Activity: Sorting a Database\n",
        "\n",
        "Let's continue with our movie database project.  The code below will read in the `csv` file, create a giant list of dictionaries, where each one is a movie.  We will call this list `moviedb`."
      ]
    },
    {
      "cell_type": "code",
      "execution_count": null,
      "metadata": {},
      "outputs": [],
      "source": [
        "import csv\n",
        "\n",
        "# Open the file\n",
        "with open('../Week10/imdb.csv', 'r') as f:\n",
        "  # Use the csv library to read the data\n",
        "  data = list(csv.reader(f))\n",
        "\n",
        "# Since data[0] contains the column headers, we can use those to create a dictionary for each movie where the keys are the column headers, and the values are the corresponding entries for that movie.  Then add each movie to the list `moviedb`\n",
        "moviedb = []\n",
        "for row in range(1,len(data)):\n",
        "  movie = {}\n",
        "  for col in range(len(data[0])):\n",
        "    movie[data[0][col]] = data[row][col]\n",
        "\n",
        "  moviedb.append(movie)"
      ]
    },
    {
      "cell_type": "markdown",
      "metadata": {},
      "source": [
        "Print out a few individual movies:"
      ]
    },
    {
      "cell_type": "code",
      "execution_count": null,
      "metadata": {},
      "outputs": [],
      "source": [
        "print(moviedb[2])\n",
        "print(moviedb[-17])"
      ]
    },
    {
      "cell_type": "markdown",
      "metadata": {},
      "source": [
        "### Database operations\n",
        "\n",
        "Now we have this database; what can we do with it?  There are three natural operations: **filtering**, **sorting**, and **searching**\n",
        "\n",
        "#### Searching\n",
        "\n",
        "This is the easiest of the operations, at least if we don't care about speed.  How do we know if our database contains a movie with the word \"chess\" in the title?  Just look at each movie until you find one that has it.\n"
      ]
    },
    {
      "cell_type": "code",
      "execution_count": null,
      "metadata": {},
      "outputs": [],
      "source": []
    },
    {
      "cell_type": "markdown",
      "metadata": {},
      "source": [
        "#### Filtering\n",
        "\n",
        "What if we want to limit our movies to just the horror-comedies?  This is basically just search, but instead of just finding the first one, we will collect all the \"winners\" in a new list.  Try it:"
      ]
    },
    {
      "cell_type": "code",
      "execution_count": null,
      "metadata": {},
      "outputs": [],
      "source": []
    },
    {
      "cell_type": "markdown",
      "metadata": {},
      "source": [
        "#### Sorting\n",
        "What were the top 10 highest earning films on the list?  Or better yet, can we sort the entire database of movies by box office numbers?  \n",
        "\n",
        "For now, let's use the `.sort()` method for lists.  Later, we will consider what is really going on with sorting."
      ]
    },
    {
      "cell_type": "code",
      "execution_count": null,
      "metadata": {},
      "outputs": [],
      "source": [
        "sorteddb = moviedb.copy()\n",
        "\n",
        "sorteddb.sort()\n",
        "print(sorteddb[:5])"
      ]
    },
    {
      "cell_type": "markdown",
      "metadata": {},
      "source": [
        "hmm... that doesn't work.  So what can we do?  What can we sort?\n",
        "\n",
        "What does sorting even mean???  Let's first do an example by hand.\n",
        "\n",
        "In the cell below, think how you would sort the list of numbers:"
      ]
    },
    {
      "cell_type": "code",
      "execution_count": null,
      "metadata": {},
      "outputs": [],
      "source": [
        "5, 8, 3, 19, 12, 0, 100\n",
        "\n",
        "sorted:\n",
        "\n"
      ]
    },
    {
      "cell_type": "markdown",
      "metadata": {},
      "source": [
        "What else can we sort?  \n",
        "\n",
        "`int`: \n",
        "\n",
        "`float`:\n",
        "\n",
        "`bool`:\n",
        "\n",
        "`str`:\n",
        "\n",
        "`list`:\n",
        "\n",
        "`dict`:\n",
        "\n",
        "`tuple`:\n",
        "\n",
        "`set`:\n",
        "\n",
        "Try these out to determine whether they sort, and if so, in what way."
      ]
    },
    {
      "cell_type": "code",
      "execution_count": null,
      "metadata": {},
      "outputs": [],
      "source": [
        "print(3 < 2.999)\n",
        "lst = [3, 2.999, 13, 0]\n",
        "lst.sort()\n",
        "print(lst)"
      ]
    },
    {
      "cell_type": "markdown",
      "metadata": {},
      "source": [
        "### Breaking Ties\n",
        "\n",
        "It should be pretty clear how to sort numbers (be they integers or floats).  What about more complicated types, like strings and tuples?  \n",
        "\n",
        "For example, who \"wins\" between Alexander and Alexis?  Try it!"
      ]
    },
    {
      "cell_type": "code",
      "execution_count": null,
      "metadata": {},
      "outputs": [],
      "source": []
    },
    {
      "cell_type": "markdown",
      "metadata": {},
      "source": [
        "Tuples will turn out to be very useful for sorting.  Look at how the following list of tuples gets sorted."
      ]
    },
    {
      "cell_type": "code",
      "execution_count": null,
      "metadata": {},
      "outputs": [],
      "source": [
        "tupleList = [('abc',3,'1'),('a',1,'10'),('a', 2,'9'),('a', 1,'9'),('abc',30,'0')]\n",
        "tupleList.sort()\n",
        "print(tupleList)"
      ]
    },
    {
      "cell_type": "markdown",
      "metadata": {},
      "source": [
        "What is going on here?  Explain how ties are broken"
      ]
    }
  ],
  "metadata": {
    "colab": {
      "include_colab_link": true,
      "provenance": []
    },
    "kernelspec": {
      "display_name": "Python 3",
      "name": "python3"
    },
    "language_info": {
      "codemirror_mode": {
        "name": "ipython",
        "version": 3
      },
      "file_extension": ".py",
      "mimetype": "text/x-python",
      "name": "python",
      "nbconvert_exporter": "python",
      "pygments_lexer": "ipython3",
      "version": "3.10.8"
    }
  },
  "nbformat": 4,
  "nbformat_minor": 0
}
